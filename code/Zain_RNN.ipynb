{
  "nbformat": 4,
  "nbformat_minor": 0,
  "metadata": {
    "colab": {
      "name": "Zain_RNN_averages.ipynb",
      "provenance": []
    },
    "kernelspec": {
      "name": "python3",
      "display_name": "Python 3"
    },
    "language_info": {
      "name": "python"
    },
    "accelerator": "GPU"
  },
  "cells": [
    {
      "cell_type": "code",
      "metadata": {
        "colab": {
          "base_uri": "https://localhost:8080/"
        },
        "id": "BbwH84wa4Iqd",
        "outputId": "f8b98ef6-047c-4fa1-9204-6a727130868b"
      },
      "source": [
        "#######################################################################################NOTE#######################################################################################\n",
        "# if running on shared drive please uncomment the two lines\n",
        "#######################################################################################NOTE#######################################################################################\n",
        "# from google.colab import drive\n",
        "# drive.mount('/content/drive')\n",
        "\n",
        "import numpy as np\n",
        "import pandas as pd\n",
        "\n",
        "from tensorflow.python.ops.numpy_ops import np_config\n",
        "np_config.enable_numpy_behavior()\n",
        "\n",
        "#import keras\n",
        "import tensorflow as tf\n",
        "\n",
        "from tensorflow.keras.preprocessing import sequence\n",
        "\n",
        "from keras.utils.np_utils import to_categorical\n",
        "\n",
        "from tensorflow.keras import Sequential\n",
        "from tensorflow.keras.optimizers import SGD\n",
        "from tensorflow.keras.models import load_model\n",
        "from tensorflow.keras.layers import SimpleRNN, Embedding, LSTM, Dense, Dropout\n",
        "\n",
        "from tensorflow.keras.preprocessing.sequence import TimeseriesGenerator\n",
        "\n",
        "from sklearn.preprocessing import MinMaxScaler\n",
        "from sklearn.model_selection import train_test_split\n",
        "\n",
        "# import matplotlib\n",
        "import matplotlib.pyplot as plt"
      ],
      "execution_count": null,
      "outputs": [
        {
          "output_type": "stream",
          "name": "stdout",
          "text": [
            "Drive already mounted at /content/drive; to attempt to forcibly remount, call drive.mount(\"/content/drive\", force_remount=True).\n"
          ]
        }
      ]
    },
    {
      "cell_type": "code",
      "metadata": {
        "id": "jBReSkHZarZb"
      },
      "source": [
        "# last_30_features = np.asanyarray(pd.read_csv('/content/drive/Shared drives/CS 584/notebooks/last_n_datasets/last_30_features.csv', index_col=0))\n",
        "last_30_features = np.asanyarray(pd.read_csv('last_n_datasets/last_30_features.csv', index_col=0))\n",
        "# last_30_results = np.asanyarray(pd.read_csv('/content/drive/Shareddrives/CS 584/notebooks/last_n_datasets/last_30_results.csv', index_col=0)['0'])\n",
        "last_30_results = np.asanyarray(pd.read_csv('last_n_datasets/last_30_results.csv', index_col=0)['0'])"
      ],
      "execution_count": null,
      "outputs": []
    },
    {
      "cell_type": "code",
      "metadata": {
        "id": "6WR_PK_JaxiG"
      },
      "source": [
        "scaler = MinMaxScaler()\n",
        "last_30_features = scaler.fit_transform(last_30_features)\n",
        "X_train_30, X_test_30, y_train_30, y_test_30 = train_test_split(last_30_features, last_30_results, test_size = 0.2)"
      ],
      "execution_count": null,
      "outputs": []
    },
    {
      "cell_type": "code",
      "metadata": {
        "colab": {
          "base_uri": "https://localhost:8080/"
        },
        "id": "p8fYi8fHi_sz",
        "outputId": "9ae506ef-cb2b-483b-f5d5-2eb1caf1e903"
      },
      "source": [
        "# Convert to Tensors\n",
        "X_train, X_test = tf.convert_to_tensor(X_train_30), tf.convert_to_tensor(X_test_30)\n",
        "y_train = to_categorical(y_train_30, num_classes = 12)\n",
        "y_test = to_categorical(y_test_30, num_classes = 12)\n",
        "y_train, y_test = tf.convert_to_tensor(y_train).astype('float32'), tf.convert_to_tensor(y_test).astype('float32')\n",
        "#y_train, y_test = y_train, y_testb\n",
        "print('X_train.shape = ', X_train.shape)\n",
        "print('X_test.shape = ', X_test.shape)\n",
        "print('y_train.shape = ', y_train.shape)\n",
        "print('y_test.shape = ', y_test.shape)"
      ],
      "execution_count": null,
      "outputs": [
        {
          "output_type": "stream",
          "name": "stdout",
          "text": [
            "X_train.shape =  (18619, 12)\n",
            "X_test.shape =  (4655, 12)\n",
            "y_train.shape =  (18619, 12)\n",
            "y_test.shape =  (4655, 12)\n"
          ]
        }
      ]
    },
    {
      "cell_type": "code",
      "metadata": {
        "id": "Jy_KQ0G_k0bK"
      },
      "source": [
        "model = Sequential()\n",
        "model.add(SimpleRNN(units=12, input_shape=(X_train.shape[1], 1),return_sequences = True, unroll = True, activation = 'relu'))\n",
        "model.add(SimpleRNN(units=12, input_shape=(X_train.shape[1], 1),return_sequences = True, unroll = True, activation = 'relu'))\n",
        "model.add(SimpleRNN(units=12, input_shape=(X_train.shape[1], 1),return_sequences = True, unroll = True, activation = 'relu'))\n",
        "model.add(SimpleRNN(units=12, input_shape=(X_train.shape[1], 1),return_sequences = True, unroll = True, activation = 'relu'))\n",
        "model.add(SimpleRNN(units=12, input_shape=(X_train.shape[1], 1),return_sequences = True, unroll = True, activation = 'relu'))\n",
        "model.add(Dense(1, activation = 'sigmoid'))\n",
        "sgd = SGD(learning_rate=0.01, decay=1e-6, momentum=0.9, nesterov=True)\n",
        "model.compile(loss = 'categorical_crossentropy', optimizer = sgd, metrics = ['accuracy'])"
      ],
      "execution_count": null,
      "outputs": []
    },
    {
      "cell_type": "code",
      "metadata": {
        "colab": {
          "base_uri": "https://localhost:8080/"
        },
        "id": "fn0swN7PlOmb",
        "outputId": "4cb2f603-b2e6-4951-a3d7-ffb8585989a1"
      },
      "source": [
        "batch_size = 64\n",
        "num_epochs = 10\n",
        "history = model.fit(X_train, y_train, batch_size=batch_size, epochs=num_epochs, validation_split = 0.2)"
      ],
      "execution_count": null,
      "outputs": [
        {
          "output_type": "stream",
          "name": "stdout",
          "text": [
            "Epoch 1/10\n",
            "233/233 [==============================] - 10s 24ms/step - loss: 0.7851 - accuracy: 0.9031 - val_loss: 0.6776 - val_accuracy: 0.9314\n",
            "Epoch 2/10\n",
            "233/233 [==============================] - 5s 21ms/step - loss: 0.6763 - accuracy: 0.9316 - val_loss: 0.6758 - val_accuracy: 0.9314\n",
            "Epoch 3/10\n",
            "233/233 [==============================] - 5s 20ms/step - loss: 0.6762 - accuracy: 0.9315 - val_loss: 0.6779 - val_accuracy: 0.9314\n",
            "Epoch 4/10\n",
            "233/233 [==============================] - 5s 20ms/step - loss: 0.6759 - accuracy: 0.9302 - val_loss: 0.6767 - val_accuracy: 0.9314\n",
            "Epoch 5/10\n",
            "233/233 [==============================] - 5s 20ms/step - loss: 0.6757 - accuracy: 0.9307 - val_loss: 0.6757 - val_accuracy: 0.9314\n",
            "Epoch 6/10\n",
            "233/233 [==============================] - 5s 20ms/step - loss: 0.6758 - accuracy: 0.9228 - val_loss: 0.6750 - val_accuracy: 0.9166\n",
            "Epoch 7/10\n",
            "233/233 [==============================] - 5s 20ms/step - loss: 0.6747 - accuracy: 0.9289 - val_loss: 0.6755 - val_accuracy: 0.9318\n",
            "Epoch 8/10\n",
            "233/233 [==============================] - 5s 20ms/step - loss: 0.6743 - accuracy: 0.9317 - val_loss: 0.6759 - val_accuracy: 0.9314\n",
            "Epoch 9/10\n",
            "233/233 [==============================] - 5s 20ms/step - loss: 0.6745 - accuracy: 0.9315 - val_loss: 0.6736 - val_accuracy: 0.9303\n",
            "Epoch 10/10\n",
            "233/233 [==============================] - 5s 20ms/step - loss: 0.6753 - accuracy: 0.9202 - val_loss: 0.6740 - val_accuracy: 0.9167\n"
          ]
        }
      ]
    },
    {
      "cell_type": "code",
      "metadata": {
        "colab": {
          "base_uri": "https://localhost:8080/"
        },
        "id": "81mfJnrXlRbN",
        "outputId": "ddb6c0b1-0f73-46a8-b8d8-78ebd65c3c73"
      },
      "source": [
        "model.summary()"
      ],
      "execution_count": null,
      "outputs": [
        {
          "output_type": "stream",
          "name": "stdout",
          "text": [
            "Model: \"sequential\"\n",
            "_________________________________________________________________\n",
            " Layer (type)                Output Shape              Param #   \n",
            "=================================================================\n",
            " simple_rnn (SimpleRNN)      (None, 12, 12)            168       \n",
            "                                                                 \n",
            " simple_rnn_1 (SimpleRNN)    (None, 12, 12)            300       \n",
            "                                                                 \n",
            " simple_rnn_2 (SimpleRNN)    (None, 12, 12)            300       \n",
            "                                                                 \n",
            " simple_rnn_3 (SimpleRNN)    (None, 12, 12)            300       \n",
            "                                                                 \n",
            " simple_rnn_4 (SimpleRNN)    (None, 12, 12)            300       \n",
            "                                                                 \n",
            " dense (Dense)               (None, 12, 1)             13        \n",
            "                                                                 \n",
            "=================================================================\n",
            "Total params: 1,381\n",
            "Trainable params: 1,381\n",
            "Non-trainable params: 0\n",
            "_________________________________________________________________\n"
          ]
        }
      ]
    },
    {
      "cell_type": "code",
      "metadata": {
        "colab": {
          "base_uri": "https://localhost:8080/",
          "height": 404
        },
        "id": "nl6CCVGBpOK0",
        "outputId": "7c7961cd-c65c-496a-ae8a-47d9b262e0fa"
      },
      "source": [
        "# now we print the graphs\n",
        "figure, axs = plt.subplots(1, 2)\n",
        "figure.set_size_inches(16, 6)\n",
        "\n",
        "axs[0].plot(history.history['accuracy'])\n",
        "axs[0].plot(history.history['val_accuracy'])\n",
        "axs[0].set_title('RNN Model Training and Validation Accuracy')\n",
        "axs[0].set_ylabel('accuracy')\n",
        "axs[0].set_xlabel('epochs')\n",
        "axs[0].legend(['train', 'validation'], loc='upper left')\n",
        "\n",
        "axs[1].plot(history.history['loss'])\n",
        "axs[1].plot(history.history['val_loss'])\n",
        "axs[1].set_title('RNN Model Training and Validation Loss')\n",
        "axs[1].set_ylabel('loss')\n",
        "axs[1].set_xlabel('epochs')\n",
        "axs[1].legend(['train', 'validation'], loc='upper left')\n",
        "plt.show()"
      ],
      "execution_count": null,
      "outputs": [
        {
          "output_type": "display_data",
          "data": {
            "image/png": "[encoded data removed]",
            "text/plain": [
              "<Figure size 1152x432 with 2 Axes>"
            ]
          },
          "metadata": {
            "needs_background": "light"
          }
        }
      ]
    },
    {
      "cell_type": "code",
      "metadata": {
        "colab": {
          "base_uri": "https://localhost:8080/"
        },
        "id": "icBHGn6YpU8w",
        "outputId": "805036bd-c7af-4c62-cec4-3a8229781067"
      },
      "source": [
        "score = model.evaluate(X_test, y_test, batch_size=64, verbose=0)\n",
        "print('test loss = ', score[0])\n",
        "print('test accuracy = ', score[1])"
      ],
      "execution_count": null,
      "outputs": [
        {
          "output_type": "stream",
          "name": "stdout",
          "text": [
            "test loss =  0.6735830903053284\n",
            "test accuracy =  0.9165595173835754\n"
          ]
        }
      ]
    }
  ]
}