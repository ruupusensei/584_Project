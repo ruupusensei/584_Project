{
  "nbformat": 4,
  "nbformat_minor": 0,
  "metadata": {
    "colab": {
      "name": "Luke_Tests.ipynb",
      "provenance": [],
      "collapsed_sections": []
    },
    "kernelspec": {
      "name": "python3",
      "display_name": "Python 3"
    },
    "language_info": {
      "name": "python"
    },
    "accelerator": "GPU"
  },
  "cells": [
    {
      "cell_type": "code",
      "metadata": {
        "colab": {
          "base_uri": "https://localhost:8080/"
        },
        "id": "tJyHP9VAHO-o",
        "outputId": "84862d62-3fe2-4a18-ce4e-0d7d12934ee2"
      },
      "source": [
        "#######################################################################################NOTE#######################################################################################\n",
        "# if running on shared drive please uncomment the two lines\n",
        "#######################################################################################NOTE#######################################################################################\n",
        "# from google.colab import drive\n",
        "# drive.mount('/content/drive')"
      ],
      "execution_count": null,
      "outputs": [
        {
          "output_type": "stream",
          "name": "stdout",
          "text": [
            "Drive already mounted at /content/drive; to attempt to forcibly remount, call drive.mount(\"/content/drive\", force_remount=True).\n"
          ]
        }
      ]
    },
    {
      "cell_type": "code",
      "metadata": {
        "id": "WC9fvADeHkdJ"
      },
      "source": [
        "import numpy as np\n",
        "import pandas as pd\n",
        "from sklearn import metrics\n",
        "import keras\n",
        "import matplotlib.pyplot as plt\n",
        "from sklearn.linear_model import LogisticRegression \n",
        "from sklearn import metrics\n",
        "from sklearn.model_selection import train_test_split"
      ],
      "execution_count": null,
      "outputs": []
    },
    {
      "cell_type": "code",
      "metadata": {
        "id": "EU_aGW-tHpjd"
      },
      "source": [
        "#read in game data with some basic box score stats from seasons 2003-2020\n",
        "#######################################################################################NOTE#######################################################################################\n",
        "# if running on shared drive please uncomment the paths for shared drive and comment the others\n",
        "#######################################################################################NOTE#######################################################################################\n",
        "#games = pd.read_csv('/content/drive/Shareddrives/CS 584/notebooks/games.csv').dropna(axis=0)\n",
        "games = pd.read_csv('last_n_datasets/games.csv').dropna(axis=0)"
      ],
      "execution_count": null,
      "outputs": []
    },
    {
      "cell_type": "code",
      "metadata": {
        "colab": {
          "base_uri": "https://localhost:8080/"
        },
        "id": "kOeDhmCyKDPT",
        "outputId": "e55fd55a-1226-416d-f63d-a1ac3b426343"
      },
      "source": [
        "print(\"Features in the raw data:\")\n",
        "games.columns"
      ],
      "execution_count": null,
      "outputs": [
        {
          "output_type": "stream",
          "name": "stdout",
          "text": [
            "Features in the raw data:\n"
          ]
        },
        {
          "output_type": "execute_result",
          "data": {
            "text/plain": [
              "Index(['GAME_DATE_EST', 'GAME_ID', 'GAME_STATUS_TEXT', 'HOME_TEAM_ID',\n",
              "       'VISITOR_TEAM_ID', 'SEASON', 'TEAM_ID_home', 'PTS_home', 'FG_PCT_home',\n",
              "       'FT_PCT_home', 'FG3_PCT_home', 'AST_home', 'REB_home', 'TEAM_ID_away',\n",
              "       'PTS_away', 'FG_PCT_away', 'FT_PCT_away', 'FG3_PCT_away', 'AST_away',\n",
              "       'REB_away', 'HOME_TEAM_WINS'],\n",
              "      dtype='object')"
            ]
          },
          "metadata": {},
          "execution_count": 5
        }
      ]
    },
    {
      "cell_type": "code",
      "metadata": {
        "id": "DWrloxiooD25"
      },
      "source": [
        "#drop unnecessary columns\n",
        "games = games.drop(labels=['GAME_ID', 'TEAM_ID_away', 'TEAM_ID_home', 'GAME_STATUS_TEXT'], axis=1)\n",
        "games['GAME_DATE_EST'] = pd.to_datetime(games['GAME_DATE_EST'])"
      ],
      "execution_count": null,
      "outputs": []
    },
    {
      "cell_type": "code",
      "metadata": {
        "id": "8S17M8oOLaYA"
      },
      "source": [
        "#drop the 2003 season as CHA was not in the league this season\n",
        "games = games[games['SEASON'] != 2003]"
      ],
      "execution_count": null,
      "outputs": []
    },
    {
      "cell_type": "code",
      "metadata": {
        "id": "gqXYyFMsbcqF"
      },
      "source": [
        "#replace all ID numbers with team names to make data easier to read and handle\n",
        "games['HOME_TEAM_ID'] = games['HOME_TEAM_ID'].astype(str)\n",
        "games['HOME_TEAM_ID'] = games['HOME_TEAM_ID'].replace('1610612737','ATL')\n",
        "games['HOME_TEAM_ID'] = games['HOME_TEAM_ID'].replace('1610612738','BOS')\n",
        "games['HOME_TEAM_ID'] = games['HOME_TEAM_ID'].replace('1610612740','NOP')\n",
        "games['HOME_TEAM_ID'] = games['HOME_TEAM_ID'].replace('1610612741','CHI')\n",
        "games['HOME_TEAM_ID'] = games['HOME_TEAM_ID'].replace('1610612742','DAL')\n",
        "games['HOME_TEAM_ID'] = games['HOME_TEAM_ID'].replace('1610612743','DEN')\n",
        "games['HOME_TEAM_ID'] = games['HOME_TEAM_ID'].replace('1610612745','HOU')\n",
        "games['HOME_TEAM_ID'] = games['HOME_TEAM_ID'].replace('1610612746','LAC')\n",
        "games['HOME_TEAM_ID'] = games['HOME_TEAM_ID'].replace('1610612747','LAL')\n",
        "games['HOME_TEAM_ID'] = games['HOME_TEAM_ID'].replace('1610612748','MIA')\n",
        "games['HOME_TEAM_ID'] = games['HOME_TEAM_ID'].replace('1610612749','MIL')\n",
        "games['HOME_TEAM_ID'] = games['HOME_TEAM_ID'].replace('1610612750','MIN')\n",
        "games['HOME_TEAM_ID'] = games['HOME_TEAM_ID'].replace('1610612751','BKN')\n",
        "games['HOME_TEAM_ID'] = games['HOME_TEAM_ID'].replace('1610612752','NYK')\n",
        "games['HOME_TEAM_ID'] = games['HOME_TEAM_ID'].replace('1610612753','ORL')\n",
        "games['HOME_TEAM_ID'] = games['HOME_TEAM_ID'].replace('1610612754','IND')\n",
        "games['HOME_TEAM_ID'] = games['HOME_TEAM_ID'].replace('1610612755','PHI')\n",
        "games['HOME_TEAM_ID'] = games['HOME_TEAM_ID'].replace('1610612756','PHX')\n",
        "games['HOME_TEAM_ID'] = games['HOME_TEAM_ID'].replace('1610612757','POR')\n",
        "games['HOME_TEAM_ID'] = games['HOME_TEAM_ID'].replace('1610612758','SAC')\n",
        "games['HOME_TEAM_ID'] = games['HOME_TEAM_ID'].replace('1610612759','SAS')\n",
        "games['HOME_TEAM_ID'] = games['HOME_TEAM_ID'].replace('1610612760','OKC')\n",
        "games['HOME_TEAM_ID'] = games['HOME_TEAM_ID'].replace('1610612761','TOR')\n",
        "games['HOME_TEAM_ID'] = games['HOME_TEAM_ID'].replace('1610612762','UTA')\n",
        "games['HOME_TEAM_ID'] = games['HOME_TEAM_ID'].replace('1610612763','MEM')\n",
        "games['HOME_TEAM_ID'] = games['HOME_TEAM_ID'].replace('1610612764','WAS')\n",
        "games['HOME_TEAM_ID'] = games['HOME_TEAM_ID'].replace('1610612765','DET')\n",
        "games['HOME_TEAM_ID'] = games['HOME_TEAM_ID'].replace('1610612766','CHA')\n",
        "games['HOME_TEAM_ID'] = games['HOME_TEAM_ID'].replace('1610612739','CLE')\n",
        "games['HOME_TEAM_ID'] = games['HOME_TEAM_ID'].replace('1610612744','GSW')\n",
        "\n",
        "games['VISITOR_TEAM_ID'] = games['VISITOR_TEAM_ID'].astype(str)\n",
        "games['VISITOR_TEAM_ID'] = games['VISITOR_TEAM_ID'].replace('1610612737','ATL')\n",
        "games['VISITOR_TEAM_ID'] = games['VISITOR_TEAM_ID'].replace('1610612738','BOS')\n",
        "games['VISITOR_TEAM_ID'] = games['VISITOR_TEAM_ID'].replace('1610612740','NOP')\n",
        "games['VISITOR_TEAM_ID'] = games['VISITOR_TEAM_ID'].replace('1610612741','CHI')\n",
        "games['VISITOR_TEAM_ID'] = games['VISITOR_TEAM_ID'].replace('1610612742','DAL')\n",
        "games['VISITOR_TEAM_ID'] = games['VISITOR_TEAM_ID'].replace('1610612743','DEN')\n",
        "games['VISITOR_TEAM_ID'] = games['VISITOR_TEAM_ID'].replace('1610612745','HOU')\n",
        "games['VISITOR_TEAM_ID'] = games['VISITOR_TEAM_ID'].replace('1610612746','LAC')\n",
        "games['VISITOR_TEAM_ID'] = games['VISITOR_TEAM_ID'].replace('1610612747','LAL')\n",
        "games['VISITOR_TEAM_ID'] = games['VISITOR_TEAM_ID'].replace('1610612748','MIA')\n",
        "games['VISITOR_TEAM_ID'] = games['VISITOR_TEAM_ID'].replace('1610612749','MIL')\n",
        "games['VISITOR_TEAM_ID'] = games['VISITOR_TEAM_ID'].replace('1610612750','MIN')\n",
        "games['VISITOR_TEAM_ID'] = games['VISITOR_TEAM_ID'].replace('1610612751','BKN')\n",
        "games['VISITOR_TEAM_ID'] = games['VISITOR_TEAM_ID'].replace('1610612752','NYK')\n",
        "games['VISITOR_TEAM_ID'] = games['VISITOR_TEAM_ID'].replace('1610612753','ORL')\n",
        "games['VISITOR_TEAM_ID'] = games['VISITOR_TEAM_ID'].replace('1610612754','IND')\n",
        "games['VISITOR_TEAM_ID'] = games['VISITOR_TEAM_ID'].replace('1610612755','PHI')\n",
        "games['VISITOR_TEAM_ID'] = games['VISITOR_TEAM_ID'].replace('1610612756','PHX')\n",
        "games['VISITOR_TEAM_ID'] = games['VISITOR_TEAM_ID'].replace('1610612757','POR')\n",
        "games['VISITOR_TEAM_ID'] = games['VISITOR_TEAM_ID'].replace('1610612758','SAC')\n",
        "games['VISITOR_TEAM_ID'] = games['VISITOR_TEAM_ID'].replace('1610612759','SAS')\n",
        "games['VISITOR_TEAM_ID'] = games['VISITOR_TEAM_ID'].replace('1610612760','OKC')\n",
        "games['VISITOR_TEAM_ID'] = games['VISITOR_TEAM_ID'].replace('1610612761','TOR')\n",
        "games['VISITOR_TEAM_ID'] = games['VISITOR_TEAM_ID'].replace('1610612762','UTA')\n",
        "games['VISITOR_TEAM_ID'] = games['VISITOR_TEAM_ID'].replace('1610612763','MEM')\n",
        "games['VISITOR_TEAM_ID'] = games['VISITOR_TEAM_ID'].replace('1610612764','WAS')\n",
        "games['VISITOR_TEAM_ID'] = games['VISITOR_TEAM_ID'].replace('1610612765','DET')\n",
        "games['VISITOR_TEAM_ID'] = games['VISITOR_TEAM_ID'].replace('1610612766','CHA')\n",
        "games['VISITOR_TEAM_ID'] = games['VISITOR_TEAM_ID'].replace('1610612739','CLE')\n",
        "games['VISITOR_TEAM_ID'] = games['VISITOR_TEAM_ID'].replace('1610612744','GSW')"
      ],
      "execution_count": null,
      "outputs": []
    },
    {
      "cell_type": "code",
      "metadata": {
        "id": "WzIFFltxay0o"
      },
      "source": [
        "#create list of team names for further data processing purposes\n",
        "team_names = ['ATL', 'BOS', 'NOP', 'CHI','DAL', 'DEN', 'HOU', 'LAC', 'LAL', 'MIA', 'MIL', 'MIN', \n",
        "              'BKN', 'NYK', 'ORL', 'IND', 'PHI', 'PHX', 'POR', 'SAC', 'SAS',\n",
        "              'OKC', 'TOR', 'UTA', 'MEM', 'WAS', 'DET', 'CHA', 'CLE', 'GSW']"
      ],
      "execution_count": null,
      "outputs": []
    },
    {
      "cell_type": "code",
      "metadata": {
        "colab": {
          "base_uri": "https://localhost:8080/",
          "height": 226
        },
        "id": "oL0_maclKzRC",
        "outputId": "b29631ee-453a-4f32-afea-85320f29a7f5"
      },
      "source": [
        "games.head()"
      ],
      "execution_count": null,
      "outputs": [
        {
          "output_type": "execute_result",
          "data": {
            "text/html": [
              "<div>\n",
              "<style scoped>\n",
              "    .dataframe tbody tr th:only-of-type {\n",
              "        vertical-align: middle;\n",
              "    }\n",
              "\n",
              "    .dataframe tbody tr th {\n",
              "        vertical-align: top;\n",
              "    }\n",
              "\n",
              "    .dataframe thead th {\n",
              "        text-align: right;\n",
              "    }\n",
              "</style>\n",
              "<table border=\"1\" class=\"dataframe\">\n",
              "  <thead>\n",
              "    <tr style=\"text-align: right;\">\n",
              "      <th></th>\n",
              "      <th>GAME_DATE_EST</th>\n",
              "      <th>HOME_TEAM_ID</th>\n",
              "      <th>VISITOR_TEAM_ID</th>\n",
              "      <th>SEASON</th>\n",
              "      <th>PTS_home</th>\n",
              "      <th>FG_PCT_home</th>\n",
              "      <th>FT_PCT_home</th>\n",
              "      <th>FG3_PCT_home</th>\n",
              "      <th>AST_home</th>\n",
              "      <th>REB_home</th>\n",
              "      <th>PTS_away</th>\n",
              "      <th>FG_PCT_away</th>\n",
              "      <th>FT_PCT_away</th>\n",
              "      <th>FG3_PCT_away</th>\n",
              "      <th>AST_away</th>\n",
              "      <th>REB_away</th>\n",
              "      <th>HOME_TEAM_WINS</th>\n",
              "    </tr>\n",
              "  </thead>\n",
              "  <tbody>\n",
              "    <tr>\n",
              "      <th>0</th>\n",
              "      <td>2021-05-26</td>\n",
              "      <td>PHI</td>\n",
              "      <td>WAS</td>\n",
              "      <td>2020</td>\n",
              "      <td>120.0</td>\n",
              "      <td>0.557</td>\n",
              "      <td>0.684</td>\n",
              "      <td>0.429</td>\n",
              "      <td>26.0</td>\n",
              "      <td>45.0</td>\n",
              "      <td>95.0</td>\n",
              "      <td>0.402</td>\n",
              "      <td>0.633</td>\n",
              "      <td>0.091</td>\n",
              "      <td>22.0</td>\n",
              "      <td>40.0</td>\n",
              "      <td>1</td>\n",
              "    </tr>\n",
              "    <tr>\n",
              "      <th>1</th>\n",
              "      <td>2021-05-26</td>\n",
              "      <td>NYK</td>\n",
              "      <td>ATL</td>\n",
              "      <td>2020</td>\n",
              "      <td>101.0</td>\n",
              "      <td>0.383</td>\n",
              "      <td>0.739</td>\n",
              "      <td>0.364</td>\n",
              "      <td>15.0</td>\n",
              "      <td>54.0</td>\n",
              "      <td>92.0</td>\n",
              "      <td>0.369</td>\n",
              "      <td>0.818</td>\n",
              "      <td>0.273</td>\n",
              "      <td>17.0</td>\n",
              "      <td>41.0</td>\n",
              "      <td>1</td>\n",
              "    </tr>\n",
              "    <tr>\n",
              "      <th>2</th>\n",
              "      <td>2021-05-26</td>\n",
              "      <td>UTA</td>\n",
              "      <td>MEM</td>\n",
              "      <td>2020</td>\n",
              "      <td>141.0</td>\n",
              "      <td>0.544</td>\n",
              "      <td>0.774</td>\n",
              "      <td>0.487</td>\n",
              "      <td>28.0</td>\n",
              "      <td>42.0</td>\n",
              "      <td>129.0</td>\n",
              "      <td>0.541</td>\n",
              "      <td>0.763</td>\n",
              "      <td>0.348</td>\n",
              "      <td>20.0</td>\n",
              "      <td>33.0</td>\n",
              "      <td>1</td>\n",
              "    </tr>\n",
              "    <tr>\n",
              "      <th>3</th>\n",
              "      <td>2021-05-25</td>\n",
              "      <td>BKN</td>\n",
              "      <td>BOS</td>\n",
              "      <td>2020</td>\n",
              "      <td>130.0</td>\n",
              "      <td>0.523</td>\n",
              "      <td>0.955</td>\n",
              "      <td>0.447</td>\n",
              "      <td>31.0</td>\n",
              "      <td>46.0</td>\n",
              "      <td>108.0</td>\n",
              "      <td>0.424</td>\n",
              "      <td>0.783</td>\n",
              "      <td>0.353</td>\n",
              "      <td>23.0</td>\n",
              "      <td>43.0</td>\n",
              "      <td>1</td>\n",
              "    </tr>\n",
              "    <tr>\n",
              "      <th>4</th>\n",
              "      <td>2021-05-25</td>\n",
              "      <td>PHX</td>\n",
              "      <td>LAL</td>\n",
              "      <td>2020</td>\n",
              "      <td>102.0</td>\n",
              "      <td>0.465</td>\n",
              "      <td>0.933</td>\n",
              "      <td>0.308</td>\n",
              "      <td>21.0</td>\n",
              "      <td>31.0</td>\n",
              "      <td>109.0</td>\n",
              "      <td>0.450</td>\n",
              "      <td>0.871</td>\n",
              "      <td>0.303</td>\n",
              "      <td>24.0</td>\n",
              "      <td>39.0</td>\n",
              "      <td>0</td>\n",
              "    </tr>\n",
              "  </tbody>\n",
              "</table>\n",
              "</div>"
            ],
            "text/plain": [
              "  GAME_DATE_EST HOME_TEAM_ID  ... REB_away  HOME_TEAM_WINS\n",
              "0    2021-05-26          PHI  ...     40.0               1\n",
              "1    2021-05-26          NYK  ...     41.0               1\n",
              "2    2021-05-26          UTA  ...     33.0               1\n",
              "3    2021-05-25          BKN  ...     43.0               1\n",
              "4    2021-05-25          PHX  ...     39.0               0\n",
              "\n",
              "[5 rows x 17 columns]"
            ]
          },
          "metadata": {},
          "execution_count": 10
        }
      ]
    },
    {
      "cell_type": "code",
      "metadata": {
        "colab": {
          "base_uri": "https://localhost:8080/",
          "height": 488
        },
        "id": "3u3ZbuWmPnkQ",
        "outputId": "90f1ce57-8b2d-4eb6-926b-24fda3ff90a0"
      },
      "source": [
        "rs = np.random.RandomState(0)\n",
        "corr = games.corr()\n",
        "corr.style.background_gradient(cmap='coolwarm', axis=None).set_precision(2)"
      ],
      "execution_count": null,
      "outputs": [
        {
          "output_type": "execute_result",
          "data": {
            "text/html": [
              "<style  type=\"text/css\" >\n",
              "#T_1f10bb12_4b38_11ec_9ee6_0242ac1c0002row0_col0,#T_1f10bb12_4b38_11ec_9ee6_0242ac1c0002row1_col1,#T_1f10bb12_4b38_11ec_9ee6_0242ac1c0002row2_col2,#T_1f10bb12_4b38_11ec_9ee6_0242ac1c0002row3_col3,#T_1f10bb12_4b38_11ec_9ee6_0242ac1c0002row4_col4,#T_1f10bb12_4b38_11ec_9ee6_0242ac1c0002row5_col5,#T_1f10bb12_4b38_11ec_9ee6_0242ac1c0002row6_col6,#T_1f10bb12_4b38_11ec_9ee6_0242ac1c0002row7_col7,#T_1f10bb12_4b38_11ec_9ee6_0242ac1c0002row8_col8,#T_1f10bb12_4b38_11ec_9ee6_0242ac1c0002row9_col9,#T_1f10bb12_4b38_11ec_9ee6_0242ac1c0002row10_col10,#T_1f10bb12_4b38_11ec_9ee6_0242ac1c0002row11_col11,#T_1f10bb12_4b38_11ec_9ee6_0242ac1c0002row12_col12,#T_1f10bb12_4b38_11ec_9ee6_0242ac1c0002row13_col13{\n",
              "            background-color:  #b40426;\n",
              "            color:  #f1f1f1;\n",
              "        }#T_1f10bb12_4b38_11ec_9ee6_0242ac1c0002row0_col1,#T_1f10bb12_4b38_11ec_9ee6_0242ac1c0002row1_col0{\n",
              "            background-color:  #e5d8d1;\n",
              "            color:  #000000;\n",
              "        }#T_1f10bb12_4b38_11ec_9ee6_0242ac1c0002row0_col2,#T_1f10bb12_4b38_11ec_9ee6_0242ac1c0002row0_col4,#T_1f10bb12_4b38_11ec_9ee6_0242ac1c0002row2_col0,#T_1f10bb12_4b38_11ec_9ee6_0242ac1c0002row3_col10,#T_1f10bb12_4b38_11ec_9ee6_0242ac1c0002row4_col0,#T_1f10bb12_4b38_11ec_9ee6_0242ac1c0002row5_col9,#T_1f10bb12_4b38_11ec_9ee6_0242ac1c0002row9_col5,#T_1f10bb12_4b38_11ec_9ee6_0242ac1c0002row10_col3{\n",
              "            background-color:  #abc8fd;\n",
              "            color:  #000000;\n",
              "        }#T_1f10bb12_4b38_11ec_9ee6_0242ac1c0002row0_col3,#T_1f10bb12_4b38_11ec_9ee6_0242ac1c0002row1_col10,#T_1f10bb12_4b38_11ec_9ee6_0242ac1c0002row3_col0,#T_1f10bb12_4b38_11ec_9ee6_0242ac1c0002row10_col1{\n",
              "            background-color:  #b3cdfb;\n",
              "            color:  #000000;\n",
              "        }#T_1f10bb12_4b38_11ec_9ee6_0242ac1c0002row0_col5,#T_1f10bb12_4b38_11ec_9ee6_0242ac1c0002row5_col0{\n",
              "            background-color:  #cfdaea;\n",
              "            color:  #000000;\n",
              "        }#T_1f10bb12_4b38_11ec_9ee6_0242ac1c0002row0_col6,#T_1f10bb12_4b38_11ec_9ee6_0242ac1c0002row6_col0{\n",
              "            background-color:  #ccd9ed;\n",
              "            color:  #000000;\n",
              "        }#T_1f10bb12_4b38_11ec_9ee6_0242ac1c0002row0_col7,#T_1f10bb12_4b38_11ec_9ee6_0242ac1c0002row7_col0{\n",
              "            background-color:  #ead5c9;\n",
              "            color:  #000000;\n",
              "        }#T_1f10bb12_4b38_11ec_9ee6_0242ac1c0002row0_col8,#T_1f10bb12_4b38_11ec_9ee6_0242ac1c0002row8_col0{\n",
              "            background-color:  #b2ccfb;\n",
              "            color:  #000000;\n",
              "        }#T_1f10bb12_4b38_11ec_9ee6_0242ac1c0002row0_col9,#T_1f10bb12_4b38_11ec_9ee6_0242ac1c0002row5_col6,#T_1f10bb12_4b38_11ec_9ee6_0242ac1c0002row6_col5,#T_1f10bb12_4b38_11ec_9ee6_0242ac1c0002row9_col0{\n",
              "            background-color:  #b5cdfa;\n",
              "            color:  #000000;\n",
              "        }#T_1f10bb12_4b38_11ec_9ee6_0242ac1c0002row0_col10,#T_1f10bb12_4b38_11ec_9ee6_0242ac1c0002row2_col11,#T_1f10bb12_4b38_11ec_9ee6_0242ac1c0002row10_col0,#T_1f10bb12_4b38_11ec_9ee6_0242ac1c0002row11_col2{\n",
              "            background-color:  #a9c6fd;\n",
              "            color:  #000000;\n",
              "        }#T_1f10bb12_4b38_11ec_9ee6_0242ac1c0002row0_col11,#T_1f10bb12_4b38_11ec_9ee6_0242ac1c0002row6_col13,#T_1f10bb12_4b38_11ec_9ee6_0242ac1c0002row11_col0,#T_1f10bb12_4b38_11ec_9ee6_0242ac1c0002row13_col6{\n",
              "            background-color:  #dadce0;\n",
              "            color:  #000000;\n",
              "        }#T_1f10bb12_4b38_11ec_9ee6_0242ac1c0002row0_col12,#T_1f10bb12_4b38_11ec_9ee6_0242ac1c0002row12_col0{\n",
              "            background-color:  #d1dae9;\n",
              "            color:  #000000;\n",
              "        }#T_1f10bb12_4b38_11ec_9ee6_0242ac1c0002row0_col13,#T_1f10bb12_4b38_11ec_9ee6_0242ac1c0002row13_col0{\n",
              "            background-color:  #9fbfff;\n",
              "            color:  #000000;\n",
              "        }#T_1f10bb12_4b38_11ec_9ee6_0242ac1c0002row1_col2,#T_1f10bb12_4b38_11ec_9ee6_0242ac1c0002row2_col1{\n",
              "            background-color:  #f29072;\n",
              "            color:  #000000;\n",
              "        }#T_1f10bb12_4b38_11ec_9ee6_0242ac1c0002row1_col3,#T_1f10bb12_4b38_11ec_9ee6_0242ac1c0002row3_col1,#T_1f10bb12_4b38_11ec_9ee6_0242ac1c0002row5_col7,#T_1f10bb12_4b38_11ec_9ee6_0242ac1c0002row7_col5{\n",
              "            background-color:  #cedaeb;\n",
              "            color:  #000000;\n",
              "        }#T_1f10bb12_4b38_11ec_9ee6_0242ac1c0002row1_col4,#T_1f10bb12_4b38_11ec_9ee6_0242ac1c0002row4_col1{\n",
              "            background-color:  #f3c8b2;\n",
              "            color:  #000000;\n",
              "        }#T_1f10bb12_4b38_11ec_9ee6_0242ac1c0002row1_col5,#T_1f10bb12_4b38_11ec_9ee6_0242ac1c0002row5_col1{\n",
              "            background-color:  #f6a283;\n",
              "            color:  #000000;\n",
              "        }#T_1f10bb12_4b38_11ec_9ee6_0242ac1c0002row1_col6,#T_1f10bb12_4b38_11ec_9ee6_0242ac1c0002row6_col1{\n",
              "            background-color:  #cbd8ee;\n",
              "            color:  #000000;\n",
              "        }#T_1f10bb12_4b38_11ec_9ee6_0242ac1c0002row1_col7,#T_1f10bb12_4b38_11ec_9ee6_0242ac1c0002row7_col1{\n",
              "            background-color:  #f6bfa6;\n",
              "            color:  #000000;\n",
              "        }#T_1f10bb12_4b38_11ec_9ee6_0242ac1c0002row1_col8,#T_1f10bb12_4b38_11ec_9ee6_0242ac1c0002row8_col1{\n",
              "            background-color:  #c1d4f4;\n",
              "            color:  #000000;\n",
              "        }#T_1f10bb12_4b38_11ec_9ee6_0242ac1c0002row1_col9,#T_1f10bb12_4b38_11ec_9ee6_0242ac1c0002row3_col7,#T_1f10bb12_4b38_11ec_9ee6_0242ac1c0002row6_col12,#T_1f10bb12_4b38_11ec_9ee6_0242ac1c0002row7_col3,#T_1f10bb12_4b38_11ec_9ee6_0242ac1c0002row9_col1,#T_1f10bb12_4b38_11ec_9ee6_0242ac1c0002row12_col6{\n",
              "            background-color:  #b6cefa;\n",
              "            color:  #000000;\n",
              "        }#T_1f10bb12_4b38_11ec_9ee6_0242ac1c0002row1_col11,#T_1f10bb12_4b38_11ec_9ee6_0242ac1c0002row11_col1{\n",
              "            background-color:  #d2dbe8;\n",
              "            color:  #000000;\n",
              "        }#T_1f10bb12_4b38_11ec_9ee6_0242ac1c0002row1_col12,#T_1f10bb12_4b38_11ec_9ee6_0242ac1c0002row12_col1{\n",
              "            background-color:  #84a7fc;\n",
              "            color:  #000000;\n",
              "        }#T_1f10bb12_4b38_11ec_9ee6_0242ac1c0002row1_col13,#T_1f10bb12_4b38_11ec_9ee6_0242ac1c0002row13_col1{\n",
              "            background-color:  #f2cbb7;\n",
              "            color:  #000000;\n",
              "        }#T_1f10bb12_4b38_11ec_9ee6_0242ac1c0002row2_col3,#T_1f10bb12_4b38_11ec_9ee6_0242ac1c0002row2_col10,#T_1f10bb12_4b38_11ec_9ee6_0242ac1c0002row3_col2,#T_1f10bb12_4b38_11ec_9ee6_0242ac1c0002row3_col5,#T_1f10bb12_4b38_11ec_9ee6_0242ac1c0002row4_col9,#T_1f10bb12_4b38_11ec_9ee6_0242ac1c0002row5_col3,#T_1f10bb12_4b38_11ec_9ee6_0242ac1c0002row9_col4,#T_1f10bb12_4b38_11ec_9ee6_0242ac1c0002row10_col2{\n",
              "            background-color:  #aac7fd;\n",
              "            color:  #000000;\n",
              "        }#T_1f10bb12_4b38_11ec_9ee6_0242ac1c0002row2_col4,#T_1f10bb12_4b38_11ec_9ee6_0242ac1c0002row4_col2{\n",
              "            background-color:  #f5c4ac;\n",
              "            color:  #000000;\n",
              "        }#T_1f10bb12_4b38_11ec_9ee6_0242ac1c0002row2_col5,#T_1f10bb12_4b38_11ec_9ee6_0242ac1c0002row5_col2{\n",
              "            background-color:  #f7af91;\n",
              "            color:  #000000;\n",
              "        }#T_1f10bb12_4b38_11ec_9ee6_0242ac1c0002row2_col6,#T_1f10bb12_4b38_11ec_9ee6_0242ac1c0002row6_col2{\n",
              "            background-color:  #799cf8;\n",
              "            color:  #000000;\n",
              "        }#T_1f10bb12_4b38_11ec_9ee6_0242ac1c0002row2_col7,#T_1f10bb12_4b38_11ec_9ee6_0242ac1c0002row7_col2{\n",
              "            background-color:  #bfd3f6;\n",
              "            color:  #000000;\n",
              "        }#T_1f10bb12_4b38_11ec_9ee6_0242ac1c0002row2_col8,#T_1f10bb12_4b38_11ec_9ee6_0242ac1c0002row4_col7,#T_1f10bb12_4b38_11ec_9ee6_0242ac1c0002row7_col4,#T_1f10bb12_4b38_11ec_9ee6_0242ac1c0002row8_col2,#T_1f10bb12_4b38_11ec_9ee6_0242ac1c0002row8_col9,#T_1f10bb12_4b38_11ec_9ee6_0242ac1c0002row9_col8{\n",
              "            background-color:  #afcafc;\n",
              "            color:  #000000;\n",
              "        }#T_1f10bb12_4b38_11ec_9ee6_0242ac1c0002row2_col9,#T_1f10bb12_4b38_11ec_9ee6_0242ac1c0002row3_col4,#T_1f10bb12_4b38_11ec_9ee6_0242ac1c0002row3_col11,#T_1f10bb12_4b38_11ec_9ee6_0242ac1c0002row4_col3,#T_1f10bb12_4b38_11ec_9ee6_0242ac1c0002row9_col2,#T_1f10bb12_4b38_11ec_9ee6_0242ac1c0002row9_col11,#T_1f10bb12_4b38_11ec_9ee6_0242ac1c0002row11_col3,#T_1f10bb12_4b38_11ec_9ee6_0242ac1c0002row11_col9{\n",
              "            background-color:  #adc9fd;\n",
              "            color:  #000000;\n",
              "        }#T_1f10bb12_4b38_11ec_9ee6_0242ac1c0002row2_col12,#T_1f10bb12_4b38_11ec_9ee6_0242ac1c0002row12_col2{\n",
              "            background-color:  #3c4ec2;\n",
              "            color:  #f1f1f1;\n",
              "        }#T_1f10bb12_4b38_11ec_9ee6_0242ac1c0002row2_col13,#T_1f10bb12_4b38_11ec_9ee6_0242ac1c0002row13_col2{\n",
              "            background-color:  #f3c7b1;\n",
              "            color:  #000000;\n",
              "        }#T_1f10bb12_4b38_11ec_9ee6_0242ac1c0002row3_col6,#T_1f10bb12_4b38_11ec_9ee6_0242ac1c0002row6_col3{\n",
              "            background-color:  #9abbff;\n",
              "            color:  #000000;\n",
              "        }#T_1f10bb12_4b38_11ec_9ee6_0242ac1c0002row3_col8,#T_1f10bb12_4b38_11ec_9ee6_0242ac1c0002row8_col3{\n",
              "            background-color:  #b1cbfc;\n",
              "            color:  #000000;\n",
              "        }#T_1f10bb12_4b38_11ec_9ee6_0242ac1c0002row3_col9,#T_1f10bb12_4b38_11ec_9ee6_0242ac1c0002row9_col3,#T_1f10bb12_4b38_11ec_9ee6_0242ac1c0002row9_col10,#T_1f10bb12_4b38_11ec_9ee6_0242ac1c0002row10_col9{\n",
              "            background-color:  #aec9fc;\n",
              "            color:  #000000;\n",
              "        }#T_1f10bb12_4b38_11ec_9ee6_0242ac1c0002row3_col12,#T_1f10bb12_4b38_11ec_9ee6_0242ac1c0002row5_col12,#T_1f10bb12_4b38_11ec_9ee6_0242ac1c0002row9_col13,#T_1f10bb12_4b38_11ec_9ee6_0242ac1c0002row12_col3,#T_1f10bb12_4b38_11ec_9ee6_0242ac1c0002row12_col5,#T_1f10bb12_4b38_11ec_9ee6_0242ac1c0002row13_col9{\n",
              "            background-color:  #8caffe;\n",
              "            color:  #000000;\n",
              "        }#T_1f10bb12_4b38_11ec_9ee6_0242ac1c0002row3_col13,#T_1f10bb12_4b38_11ec_9ee6_0242ac1c0002row13_col3{\n",
              "            background-color:  #bbd1f8;\n",
              "            color:  #000000;\n",
              "        }#T_1f10bb12_4b38_11ec_9ee6_0242ac1c0002row4_col5,#T_1f10bb12_4b38_11ec_9ee6_0242ac1c0002row5_col4{\n",
              "            background-color:  #ecd3c5;\n",
              "            color:  #000000;\n",
              "        }#T_1f10bb12_4b38_11ec_9ee6_0242ac1c0002row4_col6,#T_1f10bb12_4b38_11ec_9ee6_0242ac1c0002row6_col4{\n",
              "            background-color:  #92b4fe;\n",
              "            color:  #000000;\n",
              "        }#T_1f10bb12_4b38_11ec_9ee6_0242ac1c0002row4_col8,#T_1f10bb12_4b38_11ec_9ee6_0242ac1c0002row5_col8,#T_1f10bb12_4b38_11ec_9ee6_0242ac1c0002row8_col4,#T_1f10bb12_4b38_11ec_9ee6_0242ac1c0002row8_col5{\n",
              "            background-color:  #a7c5fe;\n",
              "            color:  #000000;\n",
              "        }#T_1f10bb12_4b38_11ec_9ee6_0242ac1c0002row4_col10,#T_1f10bb12_4b38_11ec_9ee6_0242ac1c0002row10_col4{\n",
              "            background-color:  #a6c4fe;\n",
              "            color:  #000000;\n",
              "        }#T_1f10bb12_4b38_11ec_9ee6_0242ac1c0002row4_col11,#T_1f10bb12_4b38_11ec_9ee6_0242ac1c0002row5_col10,#T_1f10bb12_4b38_11ec_9ee6_0242ac1c0002row10_col5,#T_1f10bb12_4b38_11ec_9ee6_0242ac1c0002row11_col4{\n",
              "            background-color:  #a5c3fe;\n",
              "            color:  #000000;\n",
              "        }#T_1f10bb12_4b38_11ec_9ee6_0242ac1c0002row4_col12,#T_1f10bb12_4b38_11ec_9ee6_0242ac1c0002row12_col4{\n",
              "            background-color:  #7699f6;\n",
              "            color:  #000000;\n",
              "        }#T_1f10bb12_4b38_11ec_9ee6_0242ac1c0002row4_col13,#T_1f10bb12_4b38_11ec_9ee6_0242ac1c0002row13_col4{\n",
              "            background-color:  #e4d9d2;\n",
              "            color:  #000000;\n",
              "        }#T_1f10bb12_4b38_11ec_9ee6_0242ac1c0002row5_col11,#T_1f10bb12_4b38_11ec_9ee6_0242ac1c0002row11_col5{\n",
              "            background-color:  #c6d6f1;\n",
              "            color:  #000000;\n",
              "        }#T_1f10bb12_4b38_11ec_9ee6_0242ac1c0002row5_col13,#T_1f10bb12_4b38_11ec_9ee6_0242ac1c0002row13_col5{\n",
              "            background-color:  #e3d9d3;\n",
              "            color:  #000000;\n",
              "        }#T_1f10bb12_4b38_11ec_9ee6_0242ac1c0002row6_col7,#T_1f10bb12_4b38_11ec_9ee6_0242ac1c0002row7_col6{\n",
              "            background-color:  #81a4fb;\n",
              "            color:  #000000;\n",
              "        }#T_1f10bb12_4b38_11ec_9ee6_0242ac1c0002row6_col8,#T_1f10bb12_4b38_11ec_9ee6_0242ac1c0002row8_col6{\n",
              "            background-color:  #3b4cc0;\n",
              "            color:  #f1f1f1;\n",
              "        }#T_1f10bb12_4b38_11ec_9ee6_0242ac1c0002row6_col9,#T_1f10bb12_4b38_11ec_9ee6_0242ac1c0002row9_col6{\n",
              "            background-color:  #8badfd;\n",
              "            color:  #000000;\n",
              "        }#T_1f10bb12_4b38_11ec_9ee6_0242ac1c0002row6_col10,#T_1f10bb12_4b38_11ec_9ee6_0242ac1c0002row10_col6{\n",
              "            background-color:  #7597f6;\n",
              "            color:  #000000;\n",
              "        }#T_1f10bb12_4b38_11ec_9ee6_0242ac1c0002row6_col11,#T_1f10bb12_4b38_11ec_9ee6_0242ac1c0002row11_col6{\n",
              "            background-color:  #8db0fe;\n",
              "            color:  #000000;\n",
              "        }#T_1f10bb12_4b38_11ec_9ee6_0242ac1c0002row7_col8,#T_1f10bb12_4b38_11ec_9ee6_0242ac1c0002row8_col7{\n",
              "            background-color:  #f18f71;\n",
              "            color:  #000000;\n",
              "        }#T_1f10bb12_4b38_11ec_9ee6_0242ac1c0002row7_col9,#T_1f10bb12_4b38_11ec_9ee6_0242ac1c0002row9_col7{\n",
              "            background-color:  #d3dbe7;\n",
              "            color:  #000000;\n",
              "        }#T_1f10bb12_4b38_11ec_9ee6_0242ac1c0002row7_col10,#T_1f10bb12_4b38_11ec_9ee6_0242ac1c0002row10_col7{\n",
              "            background-color:  #f2cab5;\n",
              "            color:  #000000;\n",
              "        }#T_1f10bb12_4b38_11ec_9ee6_0242ac1c0002row7_col11,#T_1f10bb12_4b38_11ec_9ee6_0242ac1c0002row11_col7{\n",
              "            background-color:  #f6a586;\n",
              "            color:  #000000;\n",
              "        }#T_1f10bb12_4b38_11ec_9ee6_0242ac1c0002row7_col12,#T_1f10bb12_4b38_11ec_9ee6_0242ac1c0002row12_col7{\n",
              "            background-color:  #cdd9ec;\n",
              "            color:  #000000;\n",
              "        }#T_1f10bb12_4b38_11ec_9ee6_0242ac1c0002row7_col13,#T_1f10bb12_4b38_11ec_9ee6_0242ac1c0002row13_col7{\n",
              "            background-color:  #465ecf;\n",
              "            color:  #f1f1f1;\n",
              "        }#T_1f10bb12_4b38_11ec_9ee6_0242ac1c0002row8_col10,#T_1f10bb12_4b38_11ec_9ee6_0242ac1c0002row10_col8{\n",
              "            background-color:  #f4c6af;\n",
              "            color:  #000000;\n",
              "        }#T_1f10bb12_4b38_11ec_9ee6_0242ac1c0002row8_col11,#T_1f10bb12_4b38_11ec_9ee6_0242ac1c0002row11_col8{\n",
              "            background-color:  #f7b599;\n",
              "            color:  #000000;\n",
              "        }#T_1f10bb12_4b38_11ec_9ee6_0242ac1c0002row8_col12,#T_1f10bb12_4b38_11ec_9ee6_0242ac1c0002row12_col8{\n",
              "            background-color:  #7da0f9;\n",
              "            color:  #000000;\n",
              "        }#T_1f10bb12_4b38_11ec_9ee6_0242ac1c0002row8_col13,#T_1f10bb12_4b38_11ec_9ee6_0242ac1c0002row13_col8{\n",
              "            background-color:  #4358cb;\n",
              "            color:  #f1f1f1;\n",
              "        }#T_1f10bb12_4b38_11ec_9ee6_0242ac1c0002row9_col12,#T_1f10bb12_4b38_11ec_9ee6_0242ac1c0002row12_col9{\n",
              "            background-color:  #9ebeff;\n",
              "            color:  #000000;\n",
              "        }#T_1f10bb12_4b38_11ec_9ee6_0242ac1c0002row10_col11,#T_1f10bb12_4b38_11ec_9ee6_0242ac1c0002row11_col10{\n",
              "            background-color:  #e7d7ce;\n",
              "            color:  #000000;\n",
              "        }#T_1f10bb12_4b38_11ec_9ee6_0242ac1c0002row10_col12,#T_1f10bb12_4b38_11ec_9ee6_0242ac1c0002row12_col10{\n",
              "            background-color:  #90b2fe;\n",
              "            color:  #000000;\n",
              "        }#T_1f10bb12_4b38_11ec_9ee6_0242ac1c0002row10_col13,#T_1f10bb12_4b38_11ec_9ee6_0242ac1c0002row13_col10{\n",
              "            background-color:  #6282ea;\n",
              "            color:  #000000;\n",
              "        }#T_1f10bb12_4b38_11ec_9ee6_0242ac1c0002row11_col12,#T_1f10bb12_4b38_11ec_9ee6_0242ac1c0002row12_col11{\n",
              "            background-color:  #b7cff9;\n",
              "            color:  #000000;\n",
              "        }#T_1f10bb12_4b38_11ec_9ee6_0242ac1c0002row11_col13,#T_1f10bb12_4b38_11ec_9ee6_0242ac1c0002row13_col11{\n",
              "            background-color:  #6180e9;\n",
              "            color:  #000000;\n",
              "        }#T_1f10bb12_4b38_11ec_9ee6_0242ac1c0002row12_col13,#T_1f10bb12_4b38_11ec_9ee6_0242ac1c0002row13_col12{\n",
              "            background-color:  #6a8bef;\n",
              "            color:  #000000;\n",
              "        }</style><table id=\"T_1f10bb12_4b38_11ec_9ee6_0242ac1c0002\" class=\"dataframe\"><thead>    <tr>        <th class=\"blank level0\" ></th>        <th class=\"col_heading level0 col0\" >SEASON</th>        <th class=\"col_heading level0 col1\" >PTS_home</th>        <th class=\"col_heading level0 col2\" >FG_PCT_home</th>        <th class=\"col_heading level0 col3\" >FT_PCT_home</th>        <th class=\"col_heading level0 col4\" >FG3_PCT_home</th>        <th class=\"col_heading level0 col5\" >AST_home</th>        <th class=\"col_heading level0 col6\" >REB_home</th>        <th class=\"col_heading level0 col7\" >PTS_away</th>        <th class=\"col_heading level0 col8\" >FG_PCT_away</th>        <th class=\"col_heading level0 col9\" >FT_PCT_away</th>        <th class=\"col_heading level0 col10\" >FG3_PCT_away</th>        <th class=\"col_heading level0 col11\" >AST_away</th>        <th class=\"col_heading level0 col12\" >REB_away</th>        <th class=\"col_heading level0 col13\" >HOME_TEAM_WINS</th>    </tr></thead><tbody>\n",
              "                <tr>\n",
              "                        <th id=\"T_1f10bb12_4b38_11ec_9ee6_0242ac1c0002level0_row0\" class=\"row_heading level0 row0\" >SEASON</th>\n",
              "                        <td id=\"T_1f10bb12_4b38_11ec_9ee6_0242ac1c0002row0_col0\" class=\"data row0 col0\" >1.00</td>\n",
              "                        <td id=\"T_1f10bb12_4b38_11ec_9ee6_0242ac1c0002row0_col1\" class=\"data row0 col1\" >0.31</td>\n",
              "                        <td id=\"T_1f10bb12_4b38_11ec_9ee6_0242ac1c0002row0_col2\" class=\"data row0 col2\" >0.02</td>\n",
              "                        <td id=\"T_1f10bb12_4b38_11ec_9ee6_0242ac1c0002row0_col3\" class=\"data row0 col3\" >0.06</td>\n",
              "                        <td id=\"T_1f10bb12_4b38_11ec_9ee6_0242ac1c0002row0_col4\" class=\"data row0 col4\" >0.02</td>\n",
              "                        <td id=\"T_1f10bb12_4b38_11ec_9ee6_0242ac1c0002row0_col5\" class=\"data row0 col5\" >0.19</td>\n",
              "                        <td id=\"T_1f10bb12_4b38_11ec_9ee6_0242ac1c0002row0_col6\" class=\"data row0 col6\" >0.17</td>\n",
              "                        <td id=\"T_1f10bb12_4b38_11ec_9ee6_0242ac1c0002row0_col7\" class=\"data row0 col7\" >0.34</td>\n",
              "                        <td id=\"T_1f10bb12_4b38_11ec_9ee6_0242ac1c0002row0_col8\" class=\"data row0 col8\" >0.05</td>\n",
              "                        <td id=\"T_1f10bb12_4b38_11ec_9ee6_0242ac1c0002row0_col9\" class=\"data row0 col9\" >0.06</td>\n",
              "                        <td id=\"T_1f10bb12_4b38_11ec_9ee6_0242ac1c0002row0_col10\" class=\"data row0 col10\" >0.01</td>\n",
              "                        <td id=\"T_1f10bb12_4b38_11ec_9ee6_0242ac1c0002row0_col11\" class=\"data row0 col11\" >0.25</td>\n",
              "                        <td id=\"T_1f10bb12_4b38_11ec_9ee6_0242ac1c0002row0_col12\" class=\"data row0 col12\" >0.20</td>\n",
              "                        <td id=\"T_1f10bb12_4b38_11ec_9ee6_0242ac1c0002row0_col13\" class=\"data row0 col13\" >-0.03</td>\n",
              "            </tr>\n",
              "            <tr>\n",
              "                        <th id=\"T_1f10bb12_4b38_11ec_9ee6_0242ac1c0002level0_row1\" class=\"row_heading level0 row1\" >PTS_home</th>\n",
              "                        <td id=\"T_1f10bb12_4b38_11ec_9ee6_0242ac1c0002row1_col0\" class=\"data row1 col0\" >0.31</td>\n",
              "                        <td id=\"T_1f10bb12_4b38_11ec_9ee6_0242ac1c0002row1_col1\" class=\"data row1 col1\" >1.00</td>\n",
              "                        <td id=\"T_1f10bb12_4b38_11ec_9ee6_0242ac1c0002row1_col2\" class=\"data row1 col2\" >0.66</td>\n",
              "                        <td id=\"T_1f10bb12_4b38_11ec_9ee6_0242ac1c0002row1_col3\" class=\"data row1 col3\" >0.18</td>\n",
              "                        <td id=\"T_1f10bb12_4b38_11ec_9ee6_0242ac1c0002row1_col4\" class=\"data row1 col4\" >0.43</td>\n",
              "                        <td id=\"T_1f10bb12_4b38_11ec_9ee6_0242ac1c0002row1_col5\" class=\"data row1 col5\" >0.60</td>\n",
              "                        <td id=\"T_1f10bb12_4b38_11ec_9ee6_0242ac1c0002row1_col6\" class=\"data row1 col6\" >0.16</td>\n",
              "                        <td id=\"T_1f10bb12_4b38_11ec_9ee6_0242ac1c0002row1_col7\" class=\"data row1 col7\" >0.47</td>\n",
              "                        <td id=\"T_1f10bb12_4b38_11ec_9ee6_0242ac1c0002row1_col8\" class=\"data row1 col8\" >0.12</td>\n",
              "                        <td id=\"T_1f10bb12_4b38_11ec_9ee6_0242ac1c0002row1_col9\" class=\"data row1 col9\" >0.07</td>\n",
              "                        <td id=\"T_1f10bb12_4b38_11ec_9ee6_0242ac1c0002row1_col10\" class=\"data row1 col10\" >0.05</td>\n",
              "                        <td id=\"T_1f10bb12_4b38_11ec_9ee6_0242ac1c0002row1_col11\" class=\"data row1 col11\" >0.20</td>\n",
              "                        <td id=\"T_1f10bb12_4b38_11ec_9ee6_0242ac1c0002row1_col12\" class=\"data row1 col12\" >-0.14</td>\n",
              "                        <td id=\"T_1f10bb12_4b38_11ec_9ee6_0242ac1c0002row1_col13\" class=\"data row1 col13\" >0.41</td>\n",
              "            </tr>\n",
              "            <tr>\n",
              "                        <th id=\"T_1f10bb12_4b38_11ec_9ee6_0242ac1c0002level0_row2\" class=\"row_heading level0 row2\" >FG_PCT_home</th>\n",
              "                        <td id=\"T_1f10bb12_4b38_11ec_9ee6_0242ac1c0002row2_col0\" class=\"data row2 col0\" >0.02</td>\n",
              "                        <td id=\"T_1f10bb12_4b38_11ec_9ee6_0242ac1c0002row2_col1\" class=\"data row2 col1\" >0.66</td>\n",
              "                        <td id=\"T_1f10bb12_4b38_11ec_9ee6_0242ac1c0002row2_col2\" class=\"data row2 col2\" >1.00</td>\n",
              "                        <td id=\"T_1f10bb12_4b38_11ec_9ee6_0242ac1c0002row2_col3\" class=\"data row2 col3\" >0.02</td>\n",
              "                        <td id=\"T_1f10bb12_4b38_11ec_9ee6_0242ac1c0002row2_col4\" class=\"data row2 col4\" >0.45</td>\n",
              "                        <td id=\"T_1f10bb12_4b38_11ec_9ee6_0242ac1c0002row2_col5\" class=\"data row2 col5\" >0.55</td>\n",
              "                        <td id=\"T_1f10bb12_4b38_11ec_9ee6_0242ac1c0002row2_col6\" class=\"data row2 col6\" >-0.19</td>\n",
              "                        <td id=\"T_1f10bb12_4b38_11ec_9ee6_0242ac1c0002row2_col7\" class=\"data row2 col7\" >0.11</td>\n",
              "                        <td id=\"T_1f10bb12_4b38_11ec_9ee6_0242ac1c0002row2_col8\" class=\"data row2 col8\" >0.04</td>\n",
              "                        <td id=\"T_1f10bb12_4b38_11ec_9ee6_0242ac1c0002row2_col9\" class=\"data row2 col9\" >0.03</td>\n",
              "                        <td id=\"T_1f10bb12_4b38_11ec_9ee6_0242ac1c0002row2_col10\" class=\"data row2 col10\" >0.01</td>\n",
              "                        <td id=\"T_1f10bb12_4b38_11ec_9ee6_0242ac1c0002row2_col11\" class=\"data row2 col11\" >0.01</td>\n",
              "                        <td id=\"T_1f10bb12_4b38_11ec_9ee6_0242ac1c0002row2_col12\" class=\"data row2 col12\" >-0.47</td>\n",
              "                        <td id=\"T_1f10bb12_4b38_11ec_9ee6_0242ac1c0002row2_col13\" class=\"data row2 col13\" >0.43</td>\n",
              "            </tr>\n",
              "            <tr>\n",
              "                        <th id=\"T_1f10bb12_4b38_11ec_9ee6_0242ac1c0002level0_row3\" class=\"row_heading level0 row3\" >FT_PCT_home</th>\n",
              "                        <td id=\"T_1f10bb12_4b38_11ec_9ee6_0242ac1c0002row3_col0\" class=\"data row3 col0\" >0.06</td>\n",
              "                        <td id=\"T_1f10bb12_4b38_11ec_9ee6_0242ac1c0002row3_col1\" class=\"data row3 col1\" >0.18</td>\n",
              "                        <td id=\"T_1f10bb12_4b38_11ec_9ee6_0242ac1c0002row3_col2\" class=\"data row3 col2\" >0.02</td>\n",
              "                        <td id=\"T_1f10bb12_4b38_11ec_9ee6_0242ac1c0002row3_col3\" class=\"data row3 col3\" >1.00</td>\n",
              "                        <td id=\"T_1f10bb12_4b38_11ec_9ee6_0242ac1c0002row3_col4\" class=\"data row3 col4\" >0.03</td>\n",
              "                        <td id=\"T_1f10bb12_4b38_11ec_9ee6_0242ac1c0002row3_col5\" class=\"data row3 col5\" >0.02</td>\n",
              "                        <td id=\"T_1f10bb12_4b38_11ec_9ee6_0242ac1c0002row3_col6\" class=\"data row3 col6\" >-0.05</td>\n",
              "                        <td id=\"T_1f10bb12_4b38_11ec_9ee6_0242ac1c0002row3_col7\" class=\"data row3 col7\" >0.07</td>\n",
              "                        <td id=\"T_1f10bb12_4b38_11ec_9ee6_0242ac1c0002row3_col8\" class=\"data row3 col8\" >0.04</td>\n",
              "                        <td id=\"T_1f10bb12_4b38_11ec_9ee6_0242ac1c0002row3_col9\" class=\"data row3 col9\" >0.04</td>\n",
              "                        <td id=\"T_1f10bb12_4b38_11ec_9ee6_0242ac1c0002row3_col10\" class=\"data row3 col10\" >0.02</td>\n",
              "                        <td id=\"T_1f10bb12_4b38_11ec_9ee6_0242ac1c0002row3_col11\" class=\"data row3 col11\" >0.02</td>\n",
              "                        <td id=\"T_1f10bb12_4b38_11ec_9ee6_0242ac1c0002row3_col12\" class=\"data row3 col12\" >-0.11</td>\n",
              "                        <td id=\"T_1f10bb12_4b38_11ec_9ee6_0242ac1c0002row3_col13\" class=\"data row3 col13\" >0.09</td>\n",
              "            </tr>\n",
              "            <tr>\n",
              "                        <th id=\"T_1f10bb12_4b38_11ec_9ee6_0242ac1c0002level0_row4\" class=\"row_heading level0 row4\" >FG3_PCT_home</th>\n",
              "                        <td id=\"T_1f10bb12_4b38_11ec_9ee6_0242ac1c0002row4_col0\" class=\"data row4 col0\" >0.02</td>\n",
              "                        <td id=\"T_1f10bb12_4b38_11ec_9ee6_0242ac1c0002row4_col1\" class=\"data row4 col1\" >0.43</td>\n",
              "                        <td id=\"T_1f10bb12_4b38_11ec_9ee6_0242ac1c0002row4_col2\" class=\"data row4 col2\" >0.45</td>\n",
              "                        <td id=\"T_1f10bb12_4b38_11ec_9ee6_0242ac1c0002row4_col3\" class=\"data row4 col3\" >0.03</td>\n",
              "                        <td id=\"T_1f10bb12_4b38_11ec_9ee6_0242ac1c0002row4_col4\" class=\"data row4 col4\" >1.00</td>\n",
              "                        <td id=\"T_1f10bb12_4b38_11ec_9ee6_0242ac1c0002row4_col5\" class=\"data row4 col5\" >0.35</td>\n",
              "                        <td id=\"T_1f10bb12_4b38_11ec_9ee6_0242ac1c0002row4_col6\" class=\"data row4 col6\" >-0.09</td>\n",
              "                        <td id=\"T_1f10bb12_4b38_11ec_9ee6_0242ac1c0002row4_col7\" class=\"data row4 col7\" >0.04</td>\n",
              "                        <td id=\"T_1f10bb12_4b38_11ec_9ee6_0242ac1c0002row4_col8\" class=\"data row4 col8\" >0.00</td>\n",
              "                        <td id=\"T_1f10bb12_4b38_11ec_9ee6_0242ac1c0002row4_col9\" class=\"data row4 col9\" >0.01</td>\n",
              "                        <td id=\"T_1f10bb12_4b38_11ec_9ee6_0242ac1c0002row4_col10\" class=\"data row4 col10\" >-0.00</td>\n",
              "                        <td id=\"T_1f10bb12_4b38_11ec_9ee6_0242ac1c0002row4_col11\" class=\"data row4 col11\" >-0.01</td>\n",
              "                        <td id=\"T_1f10bb12_4b38_11ec_9ee6_0242ac1c0002row4_col12\" class=\"data row4 col12\" >-0.20</td>\n",
              "                        <td id=\"T_1f10bb12_4b38_11ec_9ee6_0242ac1c0002row4_col13\" class=\"data row4 col13\" >0.30</td>\n",
              "            </tr>\n",
              "            <tr>\n",
              "                        <th id=\"T_1f10bb12_4b38_11ec_9ee6_0242ac1c0002level0_row5\" class=\"row_heading level0 row5\" >AST_home</th>\n",
              "                        <td id=\"T_1f10bb12_4b38_11ec_9ee6_0242ac1c0002row5_col0\" class=\"data row5 col0\" >0.19</td>\n",
              "                        <td id=\"T_1f10bb12_4b38_11ec_9ee6_0242ac1c0002row5_col1\" class=\"data row5 col1\" >0.60</td>\n",
              "                        <td id=\"T_1f10bb12_4b38_11ec_9ee6_0242ac1c0002row5_col2\" class=\"data row5 col2\" >0.55</td>\n",
              "                        <td id=\"T_1f10bb12_4b38_11ec_9ee6_0242ac1c0002row5_col3\" class=\"data row5 col3\" >0.02</td>\n",
              "                        <td id=\"T_1f10bb12_4b38_11ec_9ee6_0242ac1c0002row5_col4\" class=\"data row5 col4\" >0.35</td>\n",
              "                        <td id=\"T_1f10bb12_4b38_11ec_9ee6_0242ac1c0002row5_col5\" class=\"data row5 col5\" >1.00</td>\n",
              "                        <td id=\"T_1f10bb12_4b38_11ec_9ee6_0242ac1c0002row5_col6\" class=\"data row5 col6\" >0.06</td>\n",
              "                        <td id=\"T_1f10bb12_4b38_11ec_9ee6_0242ac1c0002row5_col7\" class=\"data row5 col7\" >0.18</td>\n",
              "                        <td id=\"T_1f10bb12_4b38_11ec_9ee6_0242ac1c0002row5_col8\" class=\"data row5 col8\" >0.01</td>\n",
              "                        <td id=\"T_1f10bb12_4b38_11ec_9ee6_0242ac1c0002row5_col9\" class=\"data row5 col9\" >0.02</td>\n",
              "                        <td id=\"T_1f10bb12_4b38_11ec_9ee6_0242ac1c0002row5_col10\" class=\"data row5 col10\" >-0.01</td>\n",
              "                        <td id=\"T_1f10bb12_4b38_11ec_9ee6_0242ac1c0002row5_col11\" class=\"data row5 col11\" >0.14</td>\n",
              "                        <td id=\"T_1f10bb12_4b38_11ec_9ee6_0242ac1c0002row5_col12\" class=\"data row5 col12\" >-0.11</td>\n",
              "                        <td id=\"T_1f10bb12_4b38_11ec_9ee6_0242ac1c0002row5_col13\" class=\"data row5 col13\" >0.30</td>\n",
              "            </tr>\n",
              "            <tr>\n",
              "                        <th id=\"T_1f10bb12_4b38_11ec_9ee6_0242ac1c0002level0_row6\" class=\"row_heading level0 row6\" >REB_home</th>\n",
              "                        <td id=\"T_1f10bb12_4b38_11ec_9ee6_0242ac1c0002row6_col0\" class=\"data row6 col0\" >0.17</td>\n",
              "                        <td id=\"T_1f10bb12_4b38_11ec_9ee6_0242ac1c0002row6_col1\" class=\"data row6 col1\" >0.16</td>\n",
              "                        <td id=\"T_1f10bb12_4b38_11ec_9ee6_0242ac1c0002row6_col2\" class=\"data row6 col2\" >-0.19</td>\n",
              "                        <td id=\"T_1f10bb12_4b38_11ec_9ee6_0242ac1c0002row6_col3\" class=\"data row6 col3\" >-0.05</td>\n",
              "                        <td id=\"T_1f10bb12_4b38_11ec_9ee6_0242ac1c0002row6_col4\" class=\"data row6 col4\" >-0.09</td>\n",
              "                        <td id=\"T_1f10bb12_4b38_11ec_9ee6_0242ac1c0002row6_col5\" class=\"data row6 col5\" >0.06</td>\n",
              "                        <td id=\"T_1f10bb12_4b38_11ec_9ee6_0242ac1c0002row6_col6\" class=\"data row6 col6\" >1.00</td>\n",
              "                        <td id=\"T_1f10bb12_4b38_11ec_9ee6_0242ac1c0002row6_col7\" class=\"data row6 col7\" >-0.15</td>\n",
              "                        <td id=\"T_1f10bb12_4b38_11ec_9ee6_0242ac1c0002row6_col8\" class=\"data row6 col8\" >-0.48</td>\n",
              "                        <td id=\"T_1f10bb12_4b38_11ec_9ee6_0242ac1c0002row6_col9\" class=\"data row6 col9\" >-0.12</td>\n",
              "                        <td id=\"T_1f10bb12_4b38_11ec_9ee6_0242ac1c0002row6_col10\" class=\"data row6 col10\" >-0.21</td>\n",
              "                        <td id=\"T_1f10bb12_4b38_11ec_9ee6_0242ac1c0002row6_col11\" class=\"data row6 col11\" >-0.10</td>\n",
              "                        <td id=\"T_1f10bb12_4b38_11ec_9ee6_0242ac1c0002row6_col12\" class=\"data row6 col12\" >0.07</td>\n",
              "                        <td id=\"T_1f10bb12_4b38_11ec_9ee6_0242ac1c0002row6_col13\" class=\"data row6 col13\" >0.25</td>\n",
              "            </tr>\n",
              "            <tr>\n",
              "                        <th id=\"T_1f10bb12_4b38_11ec_9ee6_0242ac1c0002level0_row7\" class=\"row_heading level0 row7\" >PTS_away</th>\n",
              "                        <td id=\"T_1f10bb12_4b38_11ec_9ee6_0242ac1c0002row7_col0\" class=\"data row7 col0\" >0.34</td>\n",
              "                        <td id=\"T_1f10bb12_4b38_11ec_9ee6_0242ac1c0002row7_col1\" class=\"data row7 col1\" >0.47</td>\n",
              "                        <td id=\"T_1f10bb12_4b38_11ec_9ee6_0242ac1c0002row7_col2\" class=\"data row7 col2\" >0.11</td>\n",
              "                        <td id=\"T_1f10bb12_4b38_11ec_9ee6_0242ac1c0002row7_col3\" class=\"data row7 col3\" >0.07</td>\n",
              "                        <td id=\"T_1f10bb12_4b38_11ec_9ee6_0242ac1c0002row7_col4\" class=\"data row7 col4\" >0.04</td>\n",
              "                        <td id=\"T_1f10bb12_4b38_11ec_9ee6_0242ac1c0002row7_col5\" class=\"data row7 col5\" >0.18</td>\n",
              "                        <td id=\"T_1f10bb12_4b38_11ec_9ee6_0242ac1c0002row7_col6\" class=\"data row7 col6\" >-0.15</td>\n",
              "                        <td id=\"T_1f10bb12_4b38_11ec_9ee6_0242ac1c0002row7_col7\" class=\"data row7 col7\" >1.00</td>\n",
              "                        <td id=\"T_1f10bb12_4b38_11ec_9ee6_0242ac1c0002row7_col8\" class=\"data row7 col8\" >0.67</td>\n",
              "                        <td id=\"T_1f10bb12_4b38_11ec_9ee6_0242ac1c0002row7_col9\" class=\"data row7 col9\" >0.20</td>\n",
              "                        <td id=\"T_1f10bb12_4b38_11ec_9ee6_0242ac1c0002row7_col10\" class=\"data row7 col10\" >0.41</td>\n",
              "                        <td id=\"T_1f10bb12_4b38_11ec_9ee6_0242ac1c0002row7_col11\" class=\"data row7 col11\" >0.59</td>\n",
              "                        <td id=\"T_1f10bb12_4b38_11ec_9ee6_0242ac1c0002row7_col12\" class=\"data row7 col12\" >0.18</td>\n",
              "                        <td id=\"T_1f10bb12_4b38_11ec_9ee6_0242ac1c0002row7_col13\" class=\"data row7 col13\" >-0.42</td>\n",
              "            </tr>\n",
              "            <tr>\n",
              "                        <th id=\"T_1f10bb12_4b38_11ec_9ee6_0242ac1c0002level0_row8\" class=\"row_heading level0 row8\" >FG_PCT_away</th>\n",
              "                        <td id=\"T_1f10bb12_4b38_11ec_9ee6_0242ac1c0002row8_col0\" class=\"data row8 col0\" >0.05</td>\n",
              "                        <td id=\"T_1f10bb12_4b38_11ec_9ee6_0242ac1c0002row8_col1\" class=\"data row8 col1\" >0.12</td>\n",
              "                        <td id=\"T_1f10bb12_4b38_11ec_9ee6_0242ac1c0002row8_col2\" class=\"data row8 col2\" >0.04</td>\n",
              "                        <td id=\"T_1f10bb12_4b38_11ec_9ee6_0242ac1c0002row8_col3\" class=\"data row8 col3\" >0.04</td>\n",
              "                        <td id=\"T_1f10bb12_4b38_11ec_9ee6_0242ac1c0002row8_col4\" class=\"data row8 col4\" >0.00</td>\n",
              "                        <td id=\"T_1f10bb12_4b38_11ec_9ee6_0242ac1c0002row8_col5\" class=\"data row8 col5\" >0.01</td>\n",
              "                        <td id=\"T_1f10bb12_4b38_11ec_9ee6_0242ac1c0002row8_col6\" class=\"data row8 col6\" >-0.48</td>\n",
              "                        <td id=\"T_1f10bb12_4b38_11ec_9ee6_0242ac1c0002row8_col7\" class=\"data row8 col7\" >0.67</td>\n",
              "                        <td id=\"T_1f10bb12_4b38_11ec_9ee6_0242ac1c0002row8_col8\" class=\"data row8 col8\" >1.00</td>\n",
              "                        <td id=\"T_1f10bb12_4b38_11ec_9ee6_0242ac1c0002row8_col9\" class=\"data row8 col9\" >0.04</td>\n",
              "                        <td id=\"T_1f10bb12_4b38_11ec_9ee6_0242ac1c0002row8_col10\" class=\"data row8 col10\" >0.44</td>\n",
              "                        <td id=\"T_1f10bb12_4b38_11ec_9ee6_0242ac1c0002row8_col11\" class=\"data row8 col11\" >0.52</td>\n",
              "                        <td id=\"T_1f10bb12_4b38_11ec_9ee6_0242ac1c0002row8_col12\" class=\"data row8 col12\" >-0.17</td>\n",
              "                        <td id=\"T_1f10bb12_4b38_11ec_9ee6_0242ac1c0002row8_col13\" class=\"data row8 col13\" >-0.44</td>\n",
              "            </tr>\n",
              "            <tr>\n",
              "                        <th id=\"T_1f10bb12_4b38_11ec_9ee6_0242ac1c0002level0_row9\" class=\"row_heading level0 row9\" >FT_PCT_away</th>\n",
              "                        <td id=\"T_1f10bb12_4b38_11ec_9ee6_0242ac1c0002row9_col0\" class=\"data row9 col0\" >0.06</td>\n",
              "                        <td id=\"T_1f10bb12_4b38_11ec_9ee6_0242ac1c0002row9_col1\" class=\"data row9 col1\" >0.07</td>\n",
              "                        <td id=\"T_1f10bb12_4b38_11ec_9ee6_0242ac1c0002row9_col2\" class=\"data row9 col2\" >0.03</td>\n",
              "                        <td id=\"T_1f10bb12_4b38_11ec_9ee6_0242ac1c0002row9_col3\" class=\"data row9 col3\" >0.04</td>\n",
              "                        <td id=\"T_1f10bb12_4b38_11ec_9ee6_0242ac1c0002row9_col4\" class=\"data row9 col4\" >0.01</td>\n",
              "                        <td id=\"T_1f10bb12_4b38_11ec_9ee6_0242ac1c0002row9_col5\" class=\"data row9 col5\" >0.02</td>\n",
              "                        <td id=\"T_1f10bb12_4b38_11ec_9ee6_0242ac1c0002row9_col6\" class=\"data row9 col6\" >-0.12</td>\n",
              "                        <td id=\"T_1f10bb12_4b38_11ec_9ee6_0242ac1c0002row9_col7\" class=\"data row9 col7\" >0.20</td>\n",
              "                        <td id=\"T_1f10bb12_4b38_11ec_9ee6_0242ac1c0002row9_col8\" class=\"data row9 col8\" >0.04</td>\n",
              "                        <td id=\"T_1f10bb12_4b38_11ec_9ee6_0242ac1c0002row9_col9\" class=\"data row9 col9\" >1.00</td>\n",
              "                        <td id=\"T_1f10bb12_4b38_11ec_9ee6_0242ac1c0002row9_col10\" class=\"data row9 col10\" >0.03</td>\n",
              "                        <td id=\"T_1f10bb12_4b38_11ec_9ee6_0242ac1c0002row9_col11\" class=\"data row9 col11\" >0.03</td>\n",
              "                        <td id=\"T_1f10bb12_4b38_11ec_9ee6_0242ac1c0002row9_col12\" class=\"data row9 col12\" >-0.04</td>\n",
              "                        <td id=\"T_1f10bb12_4b38_11ec_9ee6_0242ac1c0002row9_col13\" class=\"data row9 col13\" >-0.11</td>\n",
              "            </tr>\n",
              "            <tr>\n",
              "                        <th id=\"T_1f10bb12_4b38_11ec_9ee6_0242ac1c0002level0_row10\" class=\"row_heading level0 row10\" >FG3_PCT_away</th>\n",
              "                        <td id=\"T_1f10bb12_4b38_11ec_9ee6_0242ac1c0002row10_col0\" class=\"data row10 col0\" >0.01</td>\n",
              "                        <td id=\"T_1f10bb12_4b38_11ec_9ee6_0242ac1c0002row10_col1\" class=\"data row10 col1\" >0.05</td>\n",
              "                        <td id=\"T_1f10bb12_4b38_11ec_9ee6_0242ac1c0002row10_col2\" class=\"data row10 col2\" >0.01</td>\n",
              "                        <td id=\"T_1f10bb12_4b38_11ec_9ee6_0242ac1c0002row10_col3\" class=\"data row10 col3\" >0.02</td>\n",
              "                        <td id=\"T_1f10bb12_4b38_11ec_9ee6_0242ac1c0002row10_col4\" class=\"data row10 col4\" >-0.00</td>\n",
              "                        <td id=\"T_1f10bb12_4b38_11ec_9ee6_0242ac1c0002row10_col5\" class=\"data row10 col5\" >-0.01</td>\n",
              "                        <td id=\"T_1f10bb12_4b38_11ec_9ee6_0242ac1c0002row10_col6\" class=\"data row10 col6\" >-0.21</td>\n",
              "                        <td id=\"T_1f10bb12_4b38_11ec_9ee6_0242ac1c0002row10_col7\" class=\"data row10 col7\" >0.41</td>\n",
              "                        <td id=\"T_1f10bb12_4b38_11ec_9ee6_0242ac1c0002row10_col8\" class=\"data row10 col8\" >0.44</td>\n",
              "                        <td id=\"T_1f10bb12_4b38_11ec_9ee6_0242ac1c0002row10_col9\" class=\"data row10 col9\" >0.03</td>\n",
              "                        <td id=\"T_1f10bb12_4b38_11ec_9ee6_0242ac1c0002row10_col10\" class=\"data row10 col10\" >1.00</td>\n",
              "                        <td id=\"T_1f10bb12_4b38_11ec_9ee6_0242ac1c0002row10_col11\" class=\"data row10 col11\" >0.32</td>\n",
              "                        <td id=\"T_1f10bb12_4b38_11ec_9ee6_0242ac1c0002row10_col12\" class=\"data row10 col12\" >-0.09</td>\n",
              "                        <td id=\"T_1f10bb12_4b38_11ec_9ee6_0242ac1c0002row10_col13\" class=\"data row10 col13\" >-0.29</td>\n",
              "            </tr>\n",
              "            <tr>\n",
              "                        <th id=\"T_1f10bb12_4b38_11ec_9ee6_0242ac1c0002level0_row11\" class=\"row_heading level0 row11\" >AST_away</th>\n",
              "                        <td id=\"T_1f10bb12_4b38_11ec_9ee6_0242ac1c0002row11_col0\" class=\"data row11 col0\" >0.25</td>\n",
              "                        <td id=\"T_1f10bb12_4b38_11ec_9ee6_0242ac1c0002row11_col1\" class=\"data row11 col1\" >0.20</td>\n",
              "                        <td id=\"T_1f10bb12_4b38_11ec_9ee6_0242ac1c0002row11_col2\" class=\"data row11 col2\" >0.01</td>\n",
              "                        <td id=\"T_1f10bb12_4b38_11ec_9ee6_0242ac1c0002row11_col3\" class=\"data row11 col3\" >0.02</td>\n",
              "                        <td id=\"T_1f10bb12_4b38_11ec_9ee6_0242ac1c0002row11_col4\" class=\"data row11 col4\" >-0.01</td>\n",
              "                        <td id=\"T_1f10bb12_4b38_11ec_9ee6_0242ac1c0002row11_col5\" class=\"data row11 col5\" >0.14</td>\n",
              "                        <td id=\"T_1f10bb12_4b38_11ec_9ee6_0242ac1c0002row11_col6\" class=\"data row11 col6\" >-0.10</td>\n",
              "                        <td id=\"T_1f10bb12_4b38_11ec_9ee6_0242ac1c0002row11_col7\" class=\"data row11 col7\" >0.59</td>\n",
              "                        <td id=\"T_1f10bb12_4b38_11ec_9ee6_0242ac1c0002row11_col8\" class=\"data row11 col8\" >0.52</td>\n",
              "                        <td id=\"T_1f10bb12_4b38_11ec_9ee6_0242ac1c0002row11_col9\" class=\"data row11 col9\" >0.03</td>\n",
              "                        <td id=\"T_1f10bb12_4b38_11ec_9ee6_0242ac1c0002row11_col10\" class=\"data row11 col10\" >0.32</td>\n",
              "                        <td id=\"T_1f10bb12_4b38_11ec_9ee6_0242ac1c0002row11_col11\" class=\"data row11 col11\" >1.00</td>\n",
              "                        <td id=\"T_1f10bb12_4b38_11ec_9ee6_0242ac1c0002row11_col12\" class=\"data row11 col12\" >0.07</td>\n",
              "                        <td id=\"T_1f10bb12_4b38_11ec_9ee6_0242ac1c0002row11_col13\" class=\"data row11 col13\" >-0.30</td>\n",
              "            </tr>\n",
              "            <tr>\n",
              "                        <th id=\"T_1f10bb12_4b38_11ec_9ee6_0242ac1c0002level0_row12\" class=\"row_heading level0 row12\" >REB_away</th>\n",
              "                        <td id=\"T_1f10bb12_4b38_11ec_9ee6_0242ac1c0002row12_col0\" class=\"data row12 col0\" >0.20</td>\n",
              "                        <td id=\"T_1f10bb12_4b38_11ec_9ee6_0242ac1c0002row12_col1\" class=\"data row12 col1\" >-0.14</td>\n",
              "                        <td id=\"T_1f10bb12_4b38_11ec_9ee6_0242ac1c0002row12_col2\" class=\"data row12 col2\" >-0.47</td>\n",
              "                        <td id=\"T_1f10bb12_4b38_11ec_9ee6_0242ac1c0002row12_col3\" class=\"data row12 col3\" >-0.11</td>\n",
              "                        <td id=\"T_1f10bb12_4b38_11ec_9ee6_0242ac1c0002row12_col4\" class=\"data row12 col4\" >-0.20</td>\n",
              "                        <td id=\"T_1f10bb12_4b38_11ec_9ee6_0242ac1c0002row12_col5\" class=\"data row12 col5\" >-0.11</td>\n",
              "                        <td id=\"T_1f10bb12_4b38_11ec_9ee6_0242ac1c0002row12_col6\" class=\"data row12 col6\" >0.07</td>\n",
              "                        <td id=\"T_1f10bb12_4b38_11ec_9ee6_0242ac1c0002row12_col7\" class=\"data row12 col7\" >0.18</td>\n",
              "                        <td id=\"T_1f10bb12_4b38_11ec_9ee6_0242ac1c0002row12_col8\" class=\"data row12 col8\" >-0.17</td>\n",
              "                        <td id=\"T_1f10bb12_4b38_11ec_9ee6_0242ac1c0002row12_col9\" class=\"data row12 col9\" >-0.04</td>\n",
              "                        <td id=\"T_1f10bb12_4b38_11ec_9ee6_0242ac1c0002row12_col10\" class=\"data row12 col10\" >-0.09</td>\n",
              "                        <td id=\"T_1f10bb12_4b38_11ec_9ee6_0242ac1c0002row12_col11\" class=\"data row12 col11\" >0.07</td>\n",
              "                        <td id=\"T_1f10bb12_4b38_11ec_9ee6_0242ac1c0002row12_col12\" class=\"data row12 col12\" >1.00</td>\n",
              "                        <td id=\"T_1f10bb12_4b38_11ec_9ee6_0242ac1c0002row12_col13\" class=\"data row12 col13\" >-0.25</td>\n",
              "            </tr>\n",
              "            <tr>\n",
              "                        <th id=\"T_1f10bb12_4b38_11ec_9ee6_0242ac1c0002level0_row13\" class=\"row_heading level0 row13\" >HOME_TEAM_WINS</th>\n",
              "                        <td id=\"T_1f10bb12_4b38_11ec_9ee6_0242ac1c0002row13_col0\" class=\"data row13 col0\" >-0.03</td>\n",
              "                        <td id=\"T_1f10bb12_4b38_11ec_9ee6_0242ac1c0002row13_col1\" class=\"data row13 col1\" >0.41</td>\n",
              "                        <td id=\"T_1f10bb12_4b38_11ec_9ee6_0242ac1c0002row13_col2\" class=\"data row13 col2\" >0.43</td>\n",
              "                        <td id=\"T_1f10bb12_4b38_11ec_9ee6_0242ac1c0002row13_col3\" class=\"data row13 col3\" >0.09</td>\n",
              "                        <td id=\"T_1f10bb12_4b38_11ec_9ee6_0242ac1c0002row13_col4\" class=\"data row13 col4\" >0.30</td>\n",
              "                        <td id=\"T_1f10bb12_4b38_11ec_9ee6_0242ac1c0002row13_col5\" class=\"data row13 col5\" >0.30</td>\n",
              "                        <td id=\"T_1f10bb12_4b38_11ec_9ee6_0242ac1c0002row13_col6\" class=\"data row13 col6\" >0.25</td>\n",
              "                        <td id=\"T_1f10bb12_4b38_11ec_9ee6_0242ac1c0002row13_col7\" class=\"data row13 col7\" >-0.42</td>\n",
              "                        <td id=\"T_1f10bb12_4b38_11ec_9ee6_0242ac1c0002row13_col8\" class=\"data row13 col8\" >-0.44</td>\n",
              "                        <td id=\"T_1f10bb12_4b38_11ec_9ee6_0242ac1c0002row13_col9\" class=\"data row13 col9\" >-0.11</td>\n",
              "                        <td id=\"T_1f10bb12_4b38_11ec_9ee6_0242ac1c0002row13_col10\" class=\"data row13 col10\" >-0.29</td>\n",
              "                        <td id=\"T_1f10bb12_4b38_11ec_9ee6_0242ac1c0002row13_col11\" class=\"data row13 col11\" >-0.30</td>\n",
              "                        <td id=\"T_1f10bb12_4b38_11ec_9ee6_0242ac1c0002row13_col12\" class=\"data row13 col12\" >-0.25</td>\n",
              "                        <td id=\"T_1f10bb12_4b38_11ec_9ee6_0242ac1c0002row13_col13\" class=\"data row13 col13\" >1.00</td>\n",
              "            </tr>\n",
              "    </tbody></table>"
            ],
            "text/plain": [
              "<pandas.io.formats.style.Styler at 0x7f14481434d0>"
            ]
          },
          "metadata": {},
          "execution_count": 11
        }
      ]
    },
    {
      "cell_type": "code",
      "metadata": {
        "id": "mRywmZU_ga5l"
      },
      "source": [
        "#group dataframe by season\n",
        "bySeason = {key: games.loc[value] for key, value in games.groupby(\"SEASON\").groups.items()}"
      ],
      "execution_count": null,
      "outputs": []
    },
    {
      "cell_type": "code",
      "metadata": {
        "id": "xLw15IShm93f"
      },
      "source": [
        "def plot_mae(history):\n",
        "  plt.plot(history.history['mae'])\n",
        "  plt.plot(history.history['val_mae'])\n",
        "  plt.title('Model MAE')\n",
        "  plt.ylabel('MAE')\n",
        "  plt.xlabel('Epoch')\n",
        "  plt.legend(['Training', 'Validation'], loc='upper left')\n",
        "  plt.show()\n",
        "\n",
        "#plots the loss history of the model using history data from model.compile\n",
        "def plot_loss(history):\n",
        "  plt.plot(history.history['loss'])\n",
        "  plt.plot(history.history['val_loss'])\n",
        "  plt.title('Model Loss')\n",
        "  plt.ylabel('Loss')\n",
        "  plt.xlabel('Epoch')\n",
        "  plt.legend(['Training', 'Validation'], loc='upper left')\n",
        "  plt.show()\n",
        "\n",
        "#plots the accuracy history of the model using history data from model.compile\n",
        "def plot_accuracy(history):\n",
        "  plt.plot(history.history['accuracy'])\n",
        "  plt.plot(history.history['val_accuracy'])\n",
        "  plt.title('Model Accuracy')\n",
        "  plt.ylabel('Accuracy')\n",
        "  plt.xlabel('Epoch')\n",
        "  plt.legend(['Training', 'Validation'], loc='upper left')\n",
        "  plt.show()\n",
        "\n",
        "#build function to gather average team performance over last n games\n",
        "#returns np array with statistics [pts, fg%, ft%, 3pt%, assits, reb]\n",
        "def get_avg_last_n_games(team, date, game_data, n):\n",
        "  prev_games = game_data[game_data['GAME_DATE_EST'] < date][(game_data['HOME_TEAM_ID'] == team) | (game_data['VISITOR_TEAM_ID'] == team)].sort_values(by = 'GAME_DATE_EST').tail(n)\n",
        "  home = prev_games[prev_games['HOME_TEAM_ID'] == team].iloc[:,range(4,10)]\n",
        "  away = prev_games[prev_games['HOME_TEAM_ID'] != team].iloc[:,range(10,16)]\n",
        "  away.columns = home.columns\n",
        "  features = pd.concat((home, away), axis=0 )\n",
        "  return features.mean(axis=0)\n",
        "\n",
        "\n",
        "def get_recent_performance_last_n_games(game_data, n):\n",
        "  recent_performance = pd.DataFrame()\n",
        "  home_win = []\n",
        "\n",
        "  for index, row in game_data.iterrows():\n",
        "    game_date = row['GAME_DATE_EST']\n",
        "    home_team = row['HOME_TEAM_ID']\n",
        "    away_team = row['VISITOR_TEAM_ID']\n",
        "    \n",
        "    home_recent = get_avg_last_n_games(home_team, game_date, games, n)\n",
        "    home_recent.index = ['home_last_n_avg_' + x for x in home_recent.index]\n",
        "\n",
        "    away_recent = get_avg_last_n_games(away_team, game_date, games, n)\n",
        "    away_recent.index = ['away_last_n_avg_' + x for x in away_recent.index]\n",
        "\n",
        "    new_row = pd.concat([home_recent, away_recent], sort=False)\n",
        "\n",
        "    if new_row.isnull().any().any() == False:\n",
        "      recent_performance = recent_performance.append(new_row, ignore_index=True)\n",
        "      recent_performance = recent_performance[new_row.index]\n",
        "      home_win.append(row['HOME_TEAM_WINS'])\n",
        "\n",
        "  recent_performance = recent_performance.dropna(axis=0)\n",
        "  return np.asanyarray(recent_performance), np.asanyarray(home_win)"
      ],
      "execution_count": null,
      "outputs": []
    },
    {
      "cell_type": "code",
      "metadata": {
        "colab": {
          "base_uri": "https://localhost:8080/",
          "height": 122
        },
        "id": "0weeHtvIFqqo",
        "outputId": "d347ac30-9359-4417-e270-c6add6859e7d"
      },
      "source": [
        "\"\"\"Initially used to compile the data and save all datasets as CSV. Not necessary to run unless new datasets \n",
        "are to be generated\"\"\"\n",
        "\n",
        "\"\"\"last_1_features, last_1_results = get_recent_performance_last_n_games(games, 1)\n",
        "last_5_features, last_5_results = get_recent_performance_last_n_games(games, 5)\n",
        "last_10_features, last_10_results = get_recent_performance_last_n_games(games, 10)\n",
        "last_20_features, last_20_results = get_recent_performance_last_n_games(games, 20)\n",
        "last_30_features, last_30_results = get_recent_performance_last_n_games(games, 30)\n",
        "last_40_features, last_40_results = get_recent_performance_last_n_games(games, 40)\n",
        "last_50_features, last_50_results = get_recent_performance_last_n_games(games, 50)\n",
        "\n",
        "pd.DataFrame(last_1_features).to_csv('/content/drive/Shareddrives/CS 584/notebooks/last_1_features.csv')\n",
        "pd.DataFrame(last_1_results).to_csv('/content/drive/Shareddrives/CS 584/notebooks/last_1_results.csv')\n",
        "pd.DataFrame(last_5_features).to_csv('/content/drive/Shareddrives/CS 584/notebooks/last_5_features.csv')\n",
        "pd.DataFrame(last_5_results).to_csv('/content/drive/Shareddrives/CS 584/notebooks/last_5_results.csv')\n",
        "pd.DataFrame(last_10_features).to_csv('/content/drive/Shareddrives/CS 584/notebooks/last_10_features.csv')\n",
        "pd.DataFrame(last_10_results).to_csv('/content/drive/Shareddrives/CS 584/notebooks/last_10_results.csv')\n",
        "pd.DataFrame(last_20_features).to_csv('/content/drive/Shareddrives/CS 584/notebooks/last_20_features.csv')\n",
        "pd.DataFrame(last_20_results).to_csv('/content/drive/Shareddrives/CS 584/notebooks/last_20_results.csv')\n",
        "pd.DataFrame(last_30_features).to_csv('/content/drive/Shareddrives/CS 584/notebooks/last_30_features.csv')\n",
        "pd.DataFrame(last_30_results).to_csv('/content/drive/Shareddrives/CS 584/notebooks/last_30_results.csv')\n",
        "pd.DataFrame(last_40_features).to_csv('/content/drive/Shareddrives/CS 584/notebooks/last_40_features.csv')\n",
        "pd.DataFrame(last_40_results).to_csv('/content/drive/Shareddrives/CS 584/notebooks/last_40_results.csv')\n",
        "pd.DataFrame(last_50_features).to_csv('/content/drive/Shareddrives/CS 584/notebooks/last_50_features.csv')\n",
        "pd.DataFrame(last_50_results).to_csv('/content/drive/Shareddrives/CS 584/notebooks/last_50_results.csv')\"\"\""
      ],
      "execution_count": null,
      "outputs": [
        {
          "output_type": "execute_result",
          "data": {
            "application/vnd.google.colaboratory.intrinsic+json": {
              "type": "string"
            },
            "text/plain": [
              "\"last_1_features, last_1_results = get_recent_performance_last_n_games(games, 1)\\nlast_5_features, last_5_results = get_recent_performance_last_n_games(games, 5)\\nlast_10_features, last_10_results = get_recent_performance_last_n_games(games, 10)\\nlast_20_features, last_20_results = get_recent_performance_last_n_games(games, 20)\\nlast_30_features, last_30_results = get_recent_performance_last_n_games(games, 30)\\nlast_40_features, last_40_results = get_recent_performance_last_n_games(games, 40)\\nlast_50_features, last_50_results = get_recent_performance_last_n_games(games, 50)\\n\\npd.DataFrame(last_1_features).to_csv('/content/drive/Shareddrives/CS 584/notebooks/last_1_features.csv')\\npd.DataFrame(last_1_results).to_csv('/content/drive/Shareddrives/CS 584/notebooks/last_1_results.csv')\\npd.DataFrame(last_5_features).to_csv('/content/drive/Shareddrives/CS 584/notebooks/last_5_features.csv')\\npd.DataFrame(last_5_results).to_csv('/content/drive/Shareddrives/CS 584/notebooks/last_5_results.csv')\\npd.DataFrame(last_10_features).to_csv('/content/drive/Shareddrives/CS 584/notebooks/last_10_features.csv')\\npd.DataFrame(last_10_results).to_csv('/content/drive/Shareddrives/CS 584/notebooks/last_10_results.csv')\\npd.DataFrame(last_20_features).to_csv('/content/drive/Shareddrives/CS 584/notebooks/last_20_features.csv')\\npd.DataFrame(last_20_results).to_csv('/content/drive/Shareddrives/CS 584/notebooks/last_20_results.csv')\\npd.DataFrame(last_30_features).to_csv('/content/drive/Shareddrives/CS 584/notebooks/last_30_features.csv')\\npd.DataFrame(last_30_results).to_csv('/content/drive/Shareddrives/CS 584/notebooks/last_30_results.csv')\\npd.DataFrame(last_40_features).to_csv('/content/drive/Shareddrives/CS 584/notebooks/last_40_features.csv')\\npd.DataFrame(last_40_results).to_csv('/content/drive/Shareddrives/CS 584/notebooks/last_40_results.csv')\\npd.DataFrame(last_50_features).to_csv('/content/drive/Shareddrives/CS 584/notebooks/last_50_features.csv')\\npd.DataFrame(last_50_results).to_csv('/content/drive/Shareddrives/CS 584/notebooks/last_50_results.csv')\""
            ]
          },
          "metadata": {},
          "execution_count": 14
        }
      ]
    },
    {
      "cell_type": "code",
      "metadata": {
        "id": "-IahWaPuk4C5"
      },
      "source": [
        "#read in features from previously saved CSV files, normalize columns \n",
        "#######################################################################################NOTE#######################################################################################\n",
        "# if running on shared drive please uncomment the paths for shared drive and comment the others\n",
        "#######################################################################################NOTE#######################################################################################\n",
        "#last_1_features = pd.read_csv('/content/drive/Shareddrives/CS 584/notebooks/last_n_datasets/last_1_features.csv', index_col=0)\n",
        "last_1_features = pd.read_csv('last_n_datasets/last_1_features.csv', index_col=0)\n",
        "last_1_features = np.asanyarray(last_1_features.apply(lambda x: x / x.max()))\n",
        "#last_5_features = pd.read_csv('/content/drive/Shareddrives/CS 584/notebooks/last_n_datasets/last_5_features.csv', index_col=0)\n",
        "last_5_features = pd.read_csv('last_n_datasets/last_5_features.csv', index_col=0)\n",
        "last_5_features = np.asanyarray(last_5_features.apply(lambda x: x / x.max()))\n",
        "#last_10_features = pd.read_csv('/content/drive/Shareddrives/CS 584/notebooks/last_n_datasets/last_10_features.csv', index_col=0)\n",
        "last_10_features = pd.read_csv('last_n_datasets/last_10_features.csv', index_col=0)\n",
        "last_10_features = np.asanyarray(last_10_features.apply(lambda x: x / x.max()))\n",
        "#last_20_features = pd.read_csv('/content/drive/Shareddrives/CS 584/notebooks/last_n_datasets/last_20_features.csv', index_col=0)\n",
        "last_20_features = pd.read_csv('last_n_datasets/last_20_features.csv', index_col=0)\n",
        "last_20_features = np.asanyarray(last_20_features.apply(lambda x: x / x.max()))\n",
        "#last_30_features = pd.read_csv('/content/drive/Shareddrives/CS 584/notebooks/last_n_datasets/last_30_features.csv', index_col=0)\n",
        "last_30_features = pd.read_csv('last_n_datasets/last_30_features.csv', index_col=0)\n",
        "last_30_features = np.asanyarray(last_30_features.apply(lambda x: x / x.max()))\n",
        "#last_40_features = pd.read_csv('/content/drive/Shareddrives/CS 584/notebooks/last_n_datasets/last_40_features.csv', index_col=0)\n",
        "last_40_features = pd.read_csv('last_n_datasets/last_40_features.csv', index_col=0)\n",
        "last_40_features = np.asanyarray(last_40_features.apply(lambda x: x / x.max()))\n",
        "#last_50_features = pd.read_csv('/content/drive/Shareddrives/CS 584/notebooks/last_n_datasets/last_50_features.csv', index_col=0)\n",
        "last_50_features = pd.read_csv('last_n_datasets/last_50_features.csv', index_col=0)\n",
        "last_50_features = np.asanyarray(last_50_features.apply(lambda x: x / x.max()))"
      ],
      "execution_count": null,
      "outputs": []
    },
    {
      "cell_type": "code",
      "metadata": {
        "id": "I39BfBvxWUzb"
      },
      "source": [
        "#read in y values from previoulsy saved CSV files\n",
        "#######################################################################################NOTE#######################################################################################\n",
        "# if running on shared drive please uncomment the paths for shared drive and comment the others\n",
        "#######################################################################################NOTE#######################################################################################\n",
        "# last_1_results = np.asanyarray(pd.read_csv('/content/drive/Shareddrives/CS 584/notebooks/last_n_datasets/last_1_results.csv', index_col=0)['0'])\n",
        "last_1_results = np.asanyarray(pd.read_csv('last_n_datasets/last_1_results.csv', index_col=0)['0'])\n",
        "# last_5_results = np.asanyarray(pd.read_csv('/content/drive/Shareddrives/CS 584/notebooks/last_n_datasets/last_5_results.csv', index_col=0)['0'])\n",
        "last_5_results = np.asanyarray(pd.read_csv('last_n_datasets/last_5_results.csv', index_col=0)['0'])\n",
        "# last_10_results = np.asanyarray(pd.read_csv('/content/drive/Shareddrives/CS 584/notebooks/last_n_datasets/last_10_results.csv', index_col=0)['0'])\n",
        "last_10_results = np.asanyarray(pd.read_csv('last_n_datasets/last_10_results.csv', index_col=0)['0'])\n",
        "# last_20_results = np.asanyarray(pd.read_csv('/content/drive/Shareddrives/CS 584/notebooks/last_n_datasets/last_20_results.csv', index_col=0)['0'])\n",
        "last_20_results = np.asanyarray(pd.read_csv('last_n_datasets/last_20_results.csv', index_col=0)['0'])\n",
        "# last_30_results = np.asanyarray(pd.read_csv('/content/drive/Shareddrives/CS 584/notebooks/last_n_datasets/last_30_results.csv', index_col=0)['0'])\n",
        "last_30_results = np.asanyarray(pd.read_csv('last_n_datasets/last_30_results.csv', index_col=0)['0'])\n",
        "# last_40_results  = np.asanyarray(pd.read_csv('/content/drive/Shareddrives/CS 584/notebooks/last_n_datasets/last_40_results.csv', index_col=0)['0'])\n",
        "last_40_results  = np.asanyarray(pd.read_csv('last_n_datasets/last_40_results.csv', index_col=0)['0'])\n",
        "# last_50_results = np.asanyarray(pd.read_csv('/content/drive/Shareddrives/CS 584/notebooks/last_n_datasets/last_50_results.csv', index_col=0)['0'])\n",
        "last_50_results = np.asanyarray(pd.read_csv('last_n_datasets/last_50_results.csv', index_col=0)['0'])"
      ],
      "execution_count": null,
      "outputs": []
    },
    {
      "cell_type": "code",
      "metadata": {
        "colab": {
          "base_uri": "https://localhost:8080/"
        },
        "id": "fkjmbu-jKmfc",
        "outputId": "fc77ea54-dc31-4410-b75b-8a18f274a841"
      },
      "source": [
        "print(\"Normalized averages over last 10 games for each team\")\n",
        "print(\"PTS_HOME, FG%_HOME, FT%_HOME, 3PT%_HOME, AST_HOME, REB_HOME\")\n",
        "print(\"PTS_AWAY, FG%_AWAY, FT%_AWAY, 3PT%_AWAY, AST_AWAY, REB_AWAY\")\n",
        "last_10_features[0]"
      ],
      "execution_count": null,
      "outputs": [
        {
          "output_type": "stream",
          "name": "stdout",
          "text": [
            "Normalized averages over last 10 games for each team\n",
            "PTS_HOME, FG%_HOME, FT%_HOME, 3PT%_HOME, AST_HOME, REB_HOME\n",
            "PTS_AWAY, FG%_AWAY, FT%_AWAY, 3PT%_AWAY, AST_AWAY, REB_AWAY\n"
          ]
        },
        {
          "output_type": "execute_result",
          "data": {
            "text/plain": [
              "array([0.88203547, 0.8723211 , 0.8748612 , 0.70637899, 0.76539589,\n",
              "       0.78205128, 0.94050343, 0.83247423, 0.91545353, 0.53508246,\n",
              "       0.75872093, 0.86545455])"
            ]
          },
          "metadata": {},
          "execution_count": 17
        }
      ]
    },
    {
      "cell_type": "code",
      "metadata": {
        "id": "D7qAFMZwIqQQ"
      },
      "source": [
        "x_train_1, x_test_1, y_train_1, y_test_1 = train_test_split(last_1_features, last_1_results, test_size = 0.2)\n",
        "x_train_5, x_test_5, y_train_5, y_test_5 = train_test_split(last_5_features, last_5_results, test_size = 0.2)\n",
        "x_train_10, x_test_10, y_train_10, y_test_10 = train_test_split(last_10_features, last_10_results, test_size = 0.2)\n",
        "x_train_20, x_test_20, y_train_20, y_test_20 = train_test_split(last_20_features, last_20_results, test_size = 0.2)\n",
        "x_train_30, x_test_30, y_train_30, y_test_30 = train_test_split(last_30_features, last_30_results, test_size = 0.2)\n",
        "x_train_40, x_test_40, y_train_40, y_test_40 = train_test_split(last_40_features, last_40_results, test_size = 0.2)\n",
        "x_train_50, x_test_50, y_train_50, y_test_50 = train_test_split(last_50_features, last_50_results, test_size = 0.2)"
      ],
      "execution_count": null,
      "outputs": []
    },
    {
      "cell_type": "code",
      "metadata": {
        "colab": {
          "base_uri": "https://localhost:8080/"
        },
        "id": "2302-gerXOdB",
        "outputId": "9e0e6877-323b-4b0b-cd07-3d8b96d72702"
      },
      "source": [
        "print(x_train_10.shape)\n",
        "print(y_train_10.shape)\n",
        "print(x_test_10.shape)\n",
        "print(y_test_10.shape)"
      ],
      "execution_count": null,
      "outputs": [
        {
          "output_type": "stream",
          "name": "stdout",
          "text": [
            "(18619, 12)\n",
            "(18619,)\n",
            "(4655, 12)\n",
            "(4655,)\n"
          ]
        }
      ]
    },
    {
      "cell_type": "code",
      "metadata": {
        "colab": {
          "base_uri": "https://localhost:8080/"
        },
        "id": "IOYo5cz8Ig3d",
        "outputId": "1cf7fb9a-c4aa-4719-8da1-b5ff2fa60046"
      },
      "source": [
        "model_1 = LogisticRegression(random_state=50, max_iter=2000)\n",
        "model_1.fit(x_train_1,y_train_1)\n",
        "y_pred_1 = model_1.predict(x_test_1)\n",
        "print(\"Logistic Regression Accuracy with averages of last 1 game: \", metrics.accuracy_score(y_test_1, y_pred_1))\n",
        "\n",
        "model_5 = LogisticRegression(random_state=50, max_iter=2000)\n",
        "model_5.fit(x_train_5,y_train_5)\n",
        "y_pred_5 = model_5.predict(x_test_5)\n",
        "print(\"Logistic Regression Accuracy with averages of last 5 games: \", metrics.accuracy_score(y_test_5, y_pred_5))\n",
        "\n",
        "model_10 = LogisticRegression(random_state=50, max_iter=2000)\n",
        "model_10.fit(x_train_10,y_train_10)\n",
        "y_pred_10 = model_10.predict(x_test_10)\n",
        "print(\"Logistic Regression Accuracy with averages of last 10 games: \", metrics.accuracy_score(y_test_10, y_pred_10))\n",
        "\n",
        "model_20 = LogisticRegression(random_state=50, max_iter=2000)\n",
        "model_20.fit(x_train_20,y_train_20)\n",
        "y_pred_20 = model_20.predict(x_test_20)\n",
        "print(\"Logistic Regression Accuracy with averages of last 20 games: \", metrics.accuracy_score(y_test_20, y_pred_20))\n",
        "\n",
        "model_30 = LogisticRegression(random_state=50, max_iter=2000)\n",
        "model_30.fit(x_train_30,y_train_30)\n",
        "y_pred_30 = model_30.predict(x_test_30)\n",
        "print(\"Logistic Regression Accuracy with averages of last 30 games: \", metrics.accuracy_score(y_test_30, y_pred_30))\n",
        "\n",
        "model_40 = LogisticRegression(random_state=50, max_iter=2000)\n",
        "model_40.fit(x_train_40,y_train_40)\n",
        "y_pred_40 = model_40.predict(x_test_40)\n",
        "print(\"Logistic Regression Accuracy with averages of last 40 games: \", metrics.accuracy_score(y_test_40, y_pred_40))\n",
        "\n",
        "model_50 = LogisticRegression(random_state=50, max_iter=2000)\n",
        "model_50.fit(x_train_50,y_train_50)\n",
        "y_pred_50 = model_50.predict(x_test_50)\n",
        "print(\"Logistic Regression Accuracy with averages of last 50 games: \", metrics.accuracy_score(y_test_50, y_pred_50))"
      ],
      "execution_count": null,
      "outputs": [
        {
          "output_type": "stream",
          "name": "stdout",
          "text": [
            "Logistic Regression Accuracy with averages of last 1 game:  0.5978517722878625\n",
            "Logistic Regression Accuracy with averages of last 5 games:  0.5980665950590762\n",
            "Logistic Regression Accuracy with averages of last 10 games:  0.604296455424275\n",
            "Logistic Regression Accuracy with averages of last 20 games:  0.6090225563909775\n",
            "Logistic Regression Accuracy with averages of last 30 games:  0.6236305048335123\n",
            "Logistic Regression Accuracy with averages of last 40 games:  0.6141783029001074\n",
            "Logistic Regression Accuracy with averages of last 50 games:  0.6216970998925886\n"
          ]
        }
      ]
    },
    {
      "cell_type": "code",
      "metadata": {
        "colab": {
          "base_uri": "https://localhost:8080/",
          "height": 296
        },
        "id": "lEqX7hWPmeCS",
        "outputId": "73996a4f-a340-4a0f-be98-c57dd15f00ca"
      },
      "source": [
        "accuracies = [metrics.accuracy_score(y_test_1, y_pred_1), metrics.accuracy_score(y_test_5, y_pred_5), metrics.accuracy_score(y_test_10, y_pred_10), \n",
        "              metrics.accuracy_score(y_test_20, y_pred_20), metrics.accuracy_score(y_test_30, y_pred_30), metrics.accuracy_score(y_test_40, y_pred_40),\n",
        "              metrics.accuracy_score(y_test_50, y_pred_50)]\n",
        "plt.plot([1,5,10,20,30,40,50], accuracies)\n",
        "plt.xlabel('Number of Past Games')\n",
        "plt.ylabel('Accuracy')"
      ],
      "execution_count": null,
      "outputs": [
        {
          "output_type": "execute_result",
          "data": {
            "text/plain": [
              "Text(0, 0.5, 'Accuracy')"
            ]
          },
          "metadata": {},
          "execution_count": 45
        },
        {
          "output_type": "display_data",
          "data": {
            "image/png": "[encoded data removed]",
            "text/plain": [
              "<Figure size 432x288 with 1 Axes>"
            ]
          },
          "metadata": {
            "needs_background": "light"
          }
        }
      ]
    },
    {
      "cell_type": "code",
      "metadata": {
        "colab": {
          "base_uri": "https://localhost:8080/"
        },
        "id": "6Iod9lZaRiQg",
        "outputId": "cd004255-a06f-485d-ed77-85ff022df9a5"
      },
      "source": [
        "from sklearn.svm import LinearSVC\n",
        "lclf = LinearSVC(random_state=0, tol=1e-5, max_iter=1000)\n",
        "lclf.fit(x_train_10, y_train_10)\n",
        "lclf.score(x_test_10,y_test_10)"
      ],
      "execution_count": null,
      "outputs": [
        {
          "output_type": "execute_result",
          "data": {
            "text/plain": [
              "0.6027926960257788"
            ]
          },
          "metadata": {},
          "execution_count": 20
        }
      ]
    },
    {
      "cell_type": "code",
      "metadata": {
        "colab": {
          "base_uri": "https://localhost:8080/"
        },
        "id": "ZFFpUuzgRjAK",
        "outputId": "714f3046-5f14-4bcb-e44d-8f5d96f74b9a"
      },
      "source": [
        "from sklearn.neighbors import KNeighborsClassifier\n",
        "from sklearn import preprocessing\n",
        "knn = KNeighborsClassifier(n_neighbors=80)\n",
        "knn.fit(x_train_10, y_train_10)\n",
        "knn.score(x_test_10, y_test_10)"
      ],
      "execution_count": null,
      "outputs": [
        {
          "output_type": "execute_result",
          "data": {
            "text/plain": [
              "0.5926960257787326"
            ]
          },
          "metadata": {},
          "execution_count": 41
        }
      ]
    },
    {
      "cell_type": "code",
      "metadata": {
        "colab": {
          "base_uri": "https://localhost:8080/"
        },
        "id": "oHSOt4_qRmLK",
        "outputId": "e0b9d31f-7a32-470c-f137-4fd84d7b09cb"
      },
      "source": [
        "from sklearn.svm import SVC\n",
        "from sklearn import svm\n",
        "clf = SVC(gamma='scale',probability=True)\n",
        "clf.fit(x_train_10, y_train_10)\n",
        "clf.score(x_test_10,y_test_10)"
      ],
      "execution_count": null,
      "outputs": [
        {
          "output_type": "execute_result",
          "data": {
            "text/plain": [
              "0.59656283566058"
            ]
          },
          "metadata": {},
          "execution_count": 22
        }
      ]
    },
    {
      "cell_type": "code",
      "metadata": {
        "colab": {
          "base_uri": "https://localhost:8080/"
        },
        "id": "IjT3AZWSRo8z",
        "outputId": "d198cb8c-67d5-44ea-f4c6-31bc63d7e60e"
      },
      "source": [
        "from sklearn.svm import SVC\n",
        "from sklearn.ensemble import BaggingClassifier\n",
        "advclf = BaggingClassifier(base_estimator=SVC(gamma='scale'), n_estimators=10, random_state=0)\n",
        "advclf.fit(x_train_10, y_train_10)\n",
        "advclf.score(x_test_10,y_test_10)"
      ],
      "execution_count": null,
      "outputs": [
        {
          "output_type": "execute_result",
          "data": {
            "text/plain": [
              "0.5952738990332975"
            ]
          },
          "metadata": {},
          "execution_count": 23
        }
      ]
    },
    {
      "cell_type": "code",
      "metadata": {
        "colab": {
          "base_uri": "https://localhost:8080/"
        },
        "id": "rAZbdQy2Rq4J",
        "outputId": "03d1ddc4-320e-49d5-dc17-a005a97e5090"
      },
      "source": [
        "from sklearn.ensemble import RandomForestClassifier\n",
        "rdf = RandomForestClassifier(max_depth=8, random_state=0, n_estimators=300)\n",
        "rdf.fit(x_train_10, y_train_10)\n",
        "rdf.score(x_test_10,y_test_10)"
      ],
      "execution_count": null,
      "outputs": [
        {
          "output_type": "execute_result",
          "data": {
            "text/plain": [
              "0.6002148227712137"
            ]
          },
          "metadata": {},
          "execution_count": 24
        }
      ]
    },
    {
      "cell_type": "code",
      "metadata": {
        "colab": {
          "base_uri": "https://localhost:8080/"
        },
        "id": "NUsbgqt7RtPh",
        "outputId": "9fb13d66-a216-4fe4-9b9d-3c878844de46"
      },
      "source": [
        "from xgboost import XGBClassifier\n",
        "from sklearn.metrics import accuracy_score\n",
        "xgbModel = XGBClassifier()\n",
        "xgbModel.fit(x_train_10, y_train_10)\n",
        "xgbPredictions = xgbModel.predict(x_test_10)\n",
        "xgbAccuracy = accuracy_score(y_test_10, xgbPredictions)\n",
        "xgbAccuracy"
      ],
      "execution_count": null,
      "outputs": [
        {
          "output_type": "execute_result",
          "data": {
            "text/plain": [
              "0.6100966702470462"
            ]
          },
          "metadata": {},
          "execution_count": 25
        }
      ]
    },
    {
      "cell_type": "code",
      "metadata": {
        "id": "fiU-HD9mcGoh"
      },
      "source": [
        "NN_model_10 = keras.Sequential()\n",
        "NN_model_10.add(keras.layers.Dense(12, activation='relu'))\n",
        "NN_model_10.add(keras.layers.Dense(1, activation='sigmoid'))\n",
        "NN_model_10.compile(optimizer='rmsprop', loss='binary_crossentropy', metrics=['accuracy'])\n",
        "NN_model_10_history = NN_model_10.fit(x_train_10, y_train_10, batch_size=128, \n",
        "                                      verbose = 0, epochs=20, validation_split=0.2)"
      ],
      "execution_count": null,
      "outputs": []
    },
    {
      "cell_type": "code",
      "metadata": {
        "colab": {
          "base_uri": "https://localhost:8080/"
        },
        "id": "A9a17XA6MDpk",
        "outputId": "f5bcc38a-4765-474a-e79e-e57fabee2cd7"
      },
      "source": [
        "NN_model_30 = keras.Sequential()\n",
        "NN_model_30.add(keras.layers.Dense(12, activation='relu'))\n",
        "NN_model_30.add(keras.layers.Dense(1, activation='sigmoid'))\n",
        "NN_model_30.compile(optimizer='rmsprop', loss='binary_crossentropy', metrics=['accuracy'])\n",
        "NN_model_30_history = NN_model_30.fit(x_train_30, y_train_30, batch_size=128, \n",
        "                                      verbose = 2, epochs=20, validation_split=0.2)\n",
        "NN_model_30.evaluate(x_test_30, y_test_30)"
      ],
      "execution_count": null,
      "outputs": [
        {
          "output_type": "stream",
          "name": "stdout",
          "text": [
            "Epoch 1/20\n",
            "117/117 - 4s - loss: 0.6793 - accuracy: 0.5860 - val_loss: 0.6753 - val_accuracy: 0.5969 - 4s/epoch - 31ms/step\n",
            "Epoch 2/20\n",
            "117/117 - 0s - loss: 0.6783 - accuracy: 0.5878 - val_loss: 0.6789 - val_accuracy: 0.5969 - 425ms/epoch - 4ms/step\n",
            "Epoch 3/20\n",
            "117/117 - 1s - loss: 0.6781 - accuracy: 0.5878 - val_loss: 0.6753 - val_accuracy: 0.5969 - 516ms/epoch - 4ms/step\n",
            "Epoch 4/20\n",
            "117/117 - 1s - loss: 0.6775 - accuracy: 0.5878 - val_loss: 0.6764 - val_accuracy: 0.5969 - 507ms/epoch - 4ms/step\n",
            "Epoch 5/20\n",
            "117/117 - 0s - loss: 0.6771 - accuracy: 0.5878 - val_loss: 0.6742 - val_accuracy: 0.5969 - 433ms/epoch - 4ms/step\n",
            "Epoch 6/20\n",
            "117/117 - 0s - loss: 0.6767 - accuracy: 0.5878 - val_loss: 0.6732 - val_accuracy: 0.5969 - 415ms/epoch - 4ms/step\n",
            "Epoch 7/20\n",
            "117/117 - 0s - loss: 0.6761 - accuracy: 0.5878 - val_loss: 0.6739 - val_accuracy: 0.5969 - 425ms/epoch - 4ms/step\n",
            "Epoch 8/20\n",
            "117/117 - 0s - loss: 0.6758 - accuracy: 0.5878 - val_loss: 0.6724 - val_accuracy: 0.5969 - 414ms/epoch - 4ms/step\n",
            "Epoch 9/20\n",
            "117/117 - 0s - loss: 0.6753 - accuracy: 0.5878 - val_loss: 0.6749 - val_accuracy: 0.5969 - 425ms/epoch - 4ms/step\n",
            "Epoch 10/20\n",
            "117/117 - 1s - loss: 0.6747 - accuracy: 0.5878 - val_loss: 0.6726 - val_accuracy: 0.5969 - 503ms/epoch - 4ms/step\n",
            "Epoch 11/20\n",
            "117/117 - 0s - loss: 0.6744 - accuracy: 0.5878 - val_loss: 0.6719 - val_accuracy: 0.5969 - 434ms/epoch - 4ms/step\n",
            "Epoch 12/20\n",
            "117/117 - 0s - loss: 0.6738 - accuracy: 0.5878 - val_loss: 0.6709 - val_accuracy: 0.5969 - 425ms/epoch - 4ms/step\n",
            "Epoch 13/20\n",
            "117/117 - 0s - loss: 0.6732 - accuracy: 0.5878 - val_loss: 0.6706 - val_accuracy: 0.5969 - 441ms/epoch - 4ms/step\n",
            "Epoch 14/20\n",
            "117/117 - 0s - loss: 0.6726 - accuracy: 0.5880 - val_loss: 0.6705 - val_accuracy: 0.5969 - 414ms/epoch - 4ms/step\n",
            "Epoch 15/20\n",
            "117/117 - 0s - loss: 0.6726 - accuracy: 0.5878 - val_loss: 0.6699 - val_accuracy: 0.5969 - 412ms/epoch - 4ms/step\n",
            "Epoch 16/20\n",
            "117/117 - 1s - loss: 0.6720 - accuracy: 0.5881 - val_loss: 0.6697 - val_accuracy: 0.5969 - 530ms/epoch - 5ms/step\n",
            "Epoch 17/20\n",
            "117/117 - 0s - loss: 0.6716 - accuracy: 0.5881 - val_loss: 0.6691 - val_accuracy: 0.5969 - 422ms/epoch - 4ms/step\n",
            "Epoch 18/20\n",
            "117/117 - 1s - loss: 0.6711 - accuracy: 0.5877 - val_loss: 0.6688 - val_accuracy: 0.5969 - 503ms/epoch - 4ms/step\n",
            "Epoch 19/20\n",
            "117/117 - 0s - loss: 0.6706 - accuracy: 0.5883 - val_loss: 0.6685 - val_accuracy: 0.5975 - 423ms/epoch - 4ms/step\n",
            "Epoch 20/20\n",
            "117/117 - 1s - loss: 0.6703 - accuracy: 0.5884 - val_loss: 0.6680 - val_accuracy: 0.5972 - 508ms/epoch - 4ms/step\n",
            "146/146 [==============================] - 0s 3ms/step - loss: 0.6700 - accuracy: 0.5899\n"
          ]
        },
        {
          "output_type": "execute_result",
          "data": {
            "text/plain": [
              "[0.6699526309967041, 0.5899033546447754]"
            ]
          },
          "metadata": {},
          "execution_count": 21
        }
      ]
    },
    {
      "cell_type": "code",
      "metadata": {
        "colab": {
          "base_uri": "https://localhost:8080/",
          "height": 295
        },
        "id": "ruIgZVfwameA",
        "outputId": "701da485-df83-42d2-a424-b6ec45791795"
      },
      "source": [
        "plot_loss(NN_model_30_history)"
      ],
      "execution_count": null,
      "outputs": [
        {
          "output_type": "display_data",
          "data": {
            "image/png": "[encoded data removed]",
            "text/plain": [
              "<Figure size 432x288 with 1 Axes>"
            ]
          },
          "metadata": {
            "needs_background": "light"
          }
        }
      ]
    },
    {
      "cell_type": "code",
      "metadata": {
        "colab": {
          "base_uri": "https://localhost:8080/",
          "height": 295
        },
        "id": "Yi7ADBoQauDO",
        "outputId": "3c257000-3dc6-4786-ac42-711f1a694c02"
      },
      "source": [
        "plot_accuracy(NN_model_30_history)"
      ],
      "execution_count": null,
      "outputs": [
        {
          "output_type": "display_data",
          "data": {
            "image/png": "[encoded data removed]",
            "text/plain": [
              "<Figure size 432x288 with 1 Axes>"
            ]
          },
          "metadata": {
            "needs_background": "light"
          }
        }
      ]
    },
    {
      "cell_type": "code",
      "metadata": {
        "colab": {
          "base_uri": "https://localhost:8080/"
        },
        "id": "3A2xZfzPa8_s",
        "outputId": "86312c5c-24e6-4e14-8344-ca616ed7da42"
      },
      "source": [
        "NN_model_10.evaluate(x_test_10, y_test_10)"
      ],
      "execution_count": null,
      "outputs": [
        {
          "output_type": "stream",
          "name": "stdout",
          "text": [
            "146/146 [==============================] - 0s 1ms/step - loss: 0.6672 - accuracy: 0.5878\n"
          ]
        },
        {
          "output_type": "execute_result",
          "data": {
            "text/plain": [
              "[0.6671990156173706, 0.5877550840377808]"
            ]
          },
          "metadata": {},
          "execution_count": 30
        }
      ]
    },
    {
      "cell_type": "code",
      "metadata": {
        "id": "yyO1se6VmUjj"
      },
      "source": [
        ""
      ],
      "execution_count": null,
      "outputs": []
    }
  ]
}