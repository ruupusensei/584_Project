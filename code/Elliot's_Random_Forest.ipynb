{
  "nbformat": 4,
  "nbformat_minor": 0,
  "metadata": {
    "colab": {
      "name": "Elliot's random forest.ipynb",
      "provenance": [],
      "collapsed_sections": [
        "8jiYXAJxrUN8",
        "KvYQ6JwDixNz",
        "zZhiU660fzgU"
      ]
    },
    "kernelspec": {
      "name": "python3",
      "display_name": "Python 3"
    },
    "language_info": {
      "name": "python"
    },
    "accelerator": "GPU"
  },
  "cells": [
    {
      "cell_type": "code",
      "metadata": {
        "id": "MnICCjcaXwTc"
      },
      "source": [
        "import pandas as pd\n",
        "import numpy as np\n",
        "import csv\n",
        "from sklearn import tree\n",
        "from sklearn import ensemble\n",
        "from sklearn.ensemble import RandomForestClassifier\n",
        "import math\n",
        "from sklearn.metrics import confusion_matrix"
      ],
      "execution_count": null,
      "outputs": []
    },
    {
      "cell_type": "code",
      "metadata": {
        "colab": {
          "base_uri": "https://localhost:8080/"
        },
        "id": "-MhERZoJSnMb",
        "outputId": "59eb2b9b-51df-4415-876b-0e9fc774851b"
      },
      "source": [
        "#######################################################################################NOTE#######################################################################################\n",
        "# if running on shared drive please uncomment the two lines\n",
        "#######################################################################################NOTE#######################################################################################\n",
        "# from google.colab import drive\n",
        "# drive.mount('/content/drive')"
      ],
      "execution_count": null,
      "outputs": [
        {
          "output_type": "stream",
          "name": "stdout",
          "text": [
            "Mounted at /content/drive\n"
          ]
        }
      ]
    },
    {
      "cell_type": "markdown",
      "metadata": {
        "id": "Fuiewp_LS4jU"
      },
      "source": [
        "# Using the kaggle games.csv file"
      ]
    },
    {
      "cell_type": "markdown",
      "metadata": {
        "id": "jRW7xgImcAK5"
      },
      "source": [
        "## todo\n",
        "\n",
        "make new columns for the difference\n",
        "label is the 'HOME_TEAM_WINS' column\n",
        "\n",
        "Predictive model is built off the game data, but the inputs will be from the team's averages from 'n' number of games prior."
      ]
    },
    {
      "cell_type": "markdown",
      "metadata": {
        "id": "8jiYXAJxrUN8"
      },
      "source": [
        "## Preprocessing"
      ]
    },
    {
      "cell_type": "code",
      "metadata": {
        "id": "eZDymcWGS7T_"
      },
      "source": [
        "#read in game data with some basic box score stats from seasons 2003-2020\n",
        "#######################################################################################NOTE#######################################################################################\n",
        "# if running on shared drive please uncomment the two lines\n",
        "#######################################################################################NOTE#######################################################################################\n",
        "#games = pd.read_csv('/content/drive/Shareddrives/CS 584/notebooks/games.csv').dropna(axis=0)\n",
        "games = pd.read_csv('last_n_datasets/games.csv').dropna(axis=0)\n",
        "#drop unnecessary columns\n",
        "games = games.drop(labels=['GAME_ID', 'TEAM_ID_away', 'TEAM_ID_home', 'GAME_STATUS_TEXT'], axis=1)\n",
        "# convert dates to actual datetime object\n",
        "games['GAME_DATE_EST'] = pd.to_datetime(games['GAME_DATE_EST'])\n",
        "#drop the 2003 season as CHA was not in the league this season\n",
        "games = games[games['SEASON'] != 2003]\n",
        "#replace all ID numbers with team names to make data easier to read and handle\n",
        "games['HOME_TEAM_ID'] = games['HOME_TEAM_ID'].astype(str)\n",
        "games['HOME_TEAM_ID'] = games['HOME_TEAM_ID'].replace('1610612737','ATL')\n",
        "games['HOME_TEAM_ID'] = games['HOME_TEAM_ID'].replace('1610612738','BOS')\n",
        "games['HOME_TEAM_ID'] = games['HOME_TEAM_ID'].replace('1610612740','NOP')\n",
        "games['HOME_TEAM_ID'] = games['HOME_TEAM_ID'].replace('1610612741','CHI')\n",
        "games['HOME_TEAM_ID'] = games['HOME_TEAM_ID'].replace('1610612742','DAL')\n",
        "games['HOME_TEAM_ID'] = games['HOME_TEAM_ID'].replace('1610612743','DEN')\n",
        "games['HOME_TEAM_ID'] = games['HOME_TEAM_ID'].replace('1610612745','HOU')\n",
        "games['HOME_TEAM_ID'] = games['HOME_TEAM_ID'].replace('1610612746','LAC')\n",
        "games['HOME_TEAM_ID'] = games['HOME_TEAM_ID'].replace('1610612747','LAL')\n",
        "games['HOME_TEAM_ID'] = games['HOME_TEAM_ID'].replace('1610612748','MIA')\n",
        "games['HOME_TEAM_ID'] = games['HOME_TEAM_ID'].replace('1610612749','MIL')\n",
        "games['HOME_TEAM_ID'] = games['HOME_TEAM_ID'].replace('1610612750','MIN')\n",
        "games['HOME_TEAM_ID'] = games['HOME_TEAM_ID'].replace('1610612751','BKN')\n",
        "games['HOME_TEAM_ID'] = games['HOME_TEAM_ID'].replace('1610612752','NYK')\n",
        "games['HOME_TEAM_ID'] = games['HOME_TEAM_ID'].replace('1610612753','ORL')\n",
        "games['HOME_TEAM_ID'] = games['HOME_TEAM_ID'].replace('1610612754','IND')\n",
        "games['HOME_TEAM_ID'] = games['HOME_TEAM_ID'].replace('1610612755','PHI')\n",
        "games['HOME_TEAM_ID'] = games['HOME_TEAM_ID'].replace('1610612756','PHX')\n",
        "games['HOME_TEAM_ID'] = games['HOME_TEAM_ID'].replace('1610612757','POR')\n",
        "games['HOME_TEAM_ID'] = games['HOME_TEAM_ID'].replace('1610612758','SAC')\n",
        "games['HOME_TEAM_ID'] = games['HOME_TEAM_ID'].replace('1610612759','SAS')\n",
        "games['HOME_TEAM_ID'] = games['HOME_TEAM_ID'].replace('1610612760','OKC')\n",
        "games['HOME_TEAM_ID'] = games['HOME_TEAM_ID'].replace('1610612761','TOR')\n",
        "games['HOME_TEAM_ID'] = games['HOME_TEAM_ID'].replace('1610612762','UTA')\n",
        "games['HOME_TEAM_ID'] = games['HOME_TEAM_ID'].replace('1610612763','MEM')\n",
        "games['HOME_TEAM_ID'] = games['HOME_TEAM_ID'].replace('1610612764','WAS')\n",
        "games['HOME_TEAM_ID'] = games['HOME_TEAM_ID'].replace('1610612765','DET')\n",
        "games['HOME_TEAM_ID'] = games['HOME_TEAM_ID'].replace('1610612766','CHA')\n",
        "games['HOME_TEAM_ID'] = games['HOME_TEAM_ID'].replace('1610612739','CLE')\n",
        "games['HOME_TEAM_ID'] = games['HOME_TEAM_ID'].replace('1610612744','GSW')\n",
        "\n",
        "games['VISITOR_TEAM_ID'] = games['VISITOR_TEAM_ID'].astype(str)\n",
        "games['VISITOR_TEAM_ID'] = games['VISITOR_TEAM_ID'].replace('1610612737','ATL')\n",
        "games['VISITOR_TEAM_ID'] = games['VISITOR_TEAM_ID'].replace('1610612738','BOS')\n",
        "games['VISITOR_TEAM_ID'] = games['VISITOR_TEAM_ID'].replace('1610612740','NOP')\n",
        "games['VISITOR_TEAM_ID'] = games['VISITOR_TEAM_ID'].replace('1610612741','CHI')\n",
        "games['VISITOR_TEAM_ID'] = games['VISITOR_TEAM_ID'].replace('1610612742','DAL')\n",
        "games['VISITOR_TEAM_ID'] = games['VISITOR_TEAM_ID'].replace('1610612743','DEN')\n",
        "games['VISITOR_TEAM_ID'] = games['VISITOR_TEAM_ID'].replace('1610612745','HOU')\n",
        "games['VISITOR_TEAM_ID'] = games['VISITOR_TEAM_ID'].replace('1610612746','LAC')\n",
        "games['VISITOR_TEAM_ID'] = games['VISITOR_TEAM_ID'].replace('1610612747','LAL')\n",
        "games['VISITOR_TEAM_ID'] = games['VISITOR_TEAM_ID'].replace('1610612748','MIA')\n",
        "games['VISITOR_TEAM_ID'] = games['VISITOR_TEAM_ID'].replace('1610612749','MIL')\n",
        "games['VISITOR_TEAM_ID'] = games['VISITOR_TEAM_ID'].replace('1610612750','MIN')\n",
        "games['VISITOR_TEAM_ID'] = games['VISITOR_TEAM_ID'].replace('1610612751','BKN')\n",
        "games['VISITOR_TEAM_ID'] = games['VISITOR_TEAM_ID'].replace('1610612752','NYK')\n",
        "games['VISITOR_TEAM_ID'] = games['VISITOR_TEAM_ID'].replace('1610612753','ORL')\n",
        "games['VISITOR_TEAM_ID'] = games['VISITOR_TEAM_ID'].replace('1610612754','IND')\n",
        "games['VISITOR_TEAM_ID'] = games['VISITOR_TEAM_ID'].replace('1610612755','PHI')\n",
        "games['VISITOR_TEAM_ID'] = games['VISITOR_TEAM_ID'].replace('1610612756','PHX')\n",
        "games['VISITOR_TEAM_ID'] = games['VISITOR_TEAM_ID'].replace('1610612757','POR')\n",
        "games['VISITOR_TEAM_ID'] = games['VISITOR_TEAM_ID'].replace('1610612758','SAC')\n",
        "games['VISITOR_TEAM_ID'] = games['VISITOR_TEAM_ID'].replace('1610612759','SAS')\n",
        "games['VISITOR_TEAM_ID'] = games['VISITOR_TEAM_ID'].replace('1610612760','OKC')\n",
        "games['VISITOR_TEAM_ID'] = games['VISITOR_TEAM_ID'].replace('1610612761','TOR')\n",
        "games['VISITOR_TEAM_ID'] = games['VISITOR_TEAM_ID'].replace('1610612762','UTA')\n",
        "games['VISITOR_TEAM_ID'] = games['VISITOR_TEAM_ID'].replace('1610612763','MEM')\n",
        "games['VISITOR_TEAM_ID'] = games['VISITOR_TEAM_ID'].replace('1610612764','WAS')\n",
        "games['VISITOR_TEAM_ID'] = games['VISITOR_TEAM_ID'].replace('1610612765','DET')\n",
        "games['VISITOR_TEAM_ID'] = games['VISITOR_TEAM_ID'].replace('1610612766','CHA')\n",
        "games['VISITOR_TEAM_ID'] = games['VISITOR_TEAM_ID'].replace('1610612739','CLE')\n",
        "games['VISITOR_TEAM_ID'] = games['VISITOR_TEAM_ID'].replace('1610612744','GSW')\n",
        "#group dataframe by season and create list of team names for further data processing purposes\n",
        "bySeason = {key: games.loc[value] for key, value in games.groupby(\"SEASON\").groups.items()}\n",
        "team_names = ['ATL', 'BOS', 'NOP', 'CHI','DAL', 'DEN', 'HOU', 'LAC', 'LAL', 'MIA', 'MIL', 'MIN', \n",
        "              'BKN', 'NYK', 'ORL', 'IND', 'PHI', 'PHX', 'POR', 'SAC', 'SAS',\n",
        "              'OKC', 'TOR', 'UTA', 'MEM', 'WAS', 'DET', 'CHA', 'CLE', 'GSW']"
      ],
      "execution_count": null,
      "outputs": []
    },
    {
      "cell_type": "code",
      "metadata": {
        "colab": {
          "base_uri": "https://localhost:8080/",
          "height": 437
        },
        "id": "LTfV1ap-pkYL",
        "outputId": "846ff77f-8ff0-495c-f438-9107ea2e0eaf"
      },
      "source": [
        "games"
      ],
      "execution_count": null,
      "outputs": [
        {
          "output_type": "execute_result",
          "data": {
            "text/html": [
              "<div>\n",
              "<style scoped>\n",
              "    .dataframe tbody tr th:only-of-type {\n",
              "        vertical-align: middle;\n",
              "    }\n",
              "\n",
              "    .dataframe tbody tr th {\n",
              "        vertical-align: top;\n",
              "    }\n",
              "\n",
              "    .dataframe thead th {\n",
              "        text-align: right;\n",
              "    }\n",
              "</style>\n",
              "<table border=\"1\" class=\"dataframe\">\n",
              "  <thead>\n",
              "    <tr style=\"text-align: right;\">\n",
              "      <th></th>\n",
              "      <th>GAME_DATE_EST</th>\n",
              "      <th>HOME_TEAM_ID</th>\n",
              "      <th>VISITOR_TEAM_ID</th>\n",
              "      <th>SEASON</th>\n",
              "      <th>PTS_home</th>\n",
              "      <th>FG_PCT_home</th>\n",
              "      <th>FT_PCT_home</th>\n",
              "      <th>FG3_PCT_home</th>\n",
              "      <th>AST_home</th>\n",
              "      <th>REB_home</th>\n",
              "      <th>PTS_away</th>\n",
              "      <th>FG_PCT_away</th>\n",
              "      <th>FT_PCT_away</th>\n",
              "      <th>FG3_PCT_away</th>\n",
              "      <th>AST_away</th>\n",
              "      <th>REB_away</th>\n",
              "      <th>HOME_TEAM_WINS</th>\n",
              "    </tr>\n",
              "  </thead>\n",
              "  <tbody>\n",
              "    <tr>\n",
              "      <th>0</th>\n",
              "      <td>2021-05-26</td>\n",
              "      <td>PHI</td>\n",
              "      <td>WAS</td>\n",
              "      <td>2020</td>\n",
              "      <td>120.0</td>\n",
              "      <td>0.557</td>\n",
              "      <td>0.684</td>\n",
              "      <td>0.429</td>\n",
              "      <td>26.0</td>\n",
              "      <td>45.0</td>\n",
              "      <td>95.0</td>\n",
              "      <td>0.402</td>\n",
              "      <td>0.633</td>\n",
              "      <td>0.091</td>\n",
              "      <td>22.0</td>\n",
              "      <td>40.0</td>\n",
              "      <td>1</td>\n",
              "    </tr>\n",
              "    <tr>\n",
              "      <th>1</th>\n",
              "      <td>2021-05-26</td>\n",
              "      <td>NYK</td>\n",
              "      <td>ATL</td>\n",
              "      <td>2020</td>\n",
              "      <td>101.0</td>\n",
              "      <td>0.383</td>\n",
              "      <td>0.739</td>\n",
              "      <td>0.364</td>\n",
              "      <td>15.0</td>\n",
              "      <td>54.0</td>\n",
              "      <td>92.0</td>\n",
              "      <td>0.369</td>\n",
              "      <td>0.818</td>\n",
              "      <td>0.273</td>\n",
              "      <td>17.0</td>\n",
              "      <td>41.0</td>\n",
              "      <td>1</td>\n",
              "    </tr>\n",
              "    <tr>\n",
              "      <th>2</th>\n",
              "      <td>2021-05-26</td>\n",
              "      <td>UTA</td>\n",
              "      <td>MEM</td>\n",
              "      <td>2020</td>\n",
              "      <td>141.0</td>\n",
              "      <td>0.544</td>\n",
              "      <td>0.774</td>\n",
              "      <td>0.487</td>\n",
              "      <td>28.0</td>\n",
              "      <td>42.0</td>\n",
              "      <td>129.0</td>\n",
              "      <td>0.541</td>\n",
              "      <td>0.763</td>\n",
              "      <td>0.348</td>\n",
              "      <td>20.0</td>\n",
              "      <td>33.0</td>\n",
              "      <td>1</td>\n",
              "    </tr>\n",
              "    <tr>\n",
              "      <th>3</th>\n",
              "      <td>2021-05-25</td>\n",
              "      <td>BKN</td>\n",
              "      <td>BOS</td>\n",
              "      <td>2020</td>\n",
              "      <td>130.0</td>\n",
              "      <td>0.523</td>\n",
              "      <td>0.955</td>\n",
              "      <td>0.447</td>\n",
              "      <td>31.0</td>\n",
              "      <td>46.0</td>\n",
              "      <td>108.0</td>\n",
              "      <td>0.424</td>\n",
              "      <td>0.783</td>\n",
              "      <td>0.353</td>\n",
              "      <td>23.0</td>\n",
              "      <td>43.0</td>\n",
              "      <td>1</td>\n",
              "    </tr>\n",
              "    <tr>\n",
              "      <th>4</th>\n",
              "      <td>2021-05-25</td>\n",
              "      <td>PHX</td>\n",
              "      <td>LAL</td>\n",
              "      <td>2020</td>\n",
              "      <td>102.0</td>\n",
              "      <td>0.465</td>\n",
              "      <td>0.933</td>\n",
              "      <td>0.308</td>\n",
              "      <td>21.0</td>\n",
              "      <td>31.0</td>\n",
              "      <td>109.0</td>\n",
              "      <td>0.450</td>\n",
              "      <td>0.871</td>\n",
              "      <td>0.303</td>\n",
              "      <td>24.0</td>\n",
              "      <td>39.0</td>\n",
              "      <td>0</td>\n",
              "    </tr>\n",
              "    <tr>\n",
              "      <th>...</th>\n",
              "      <td>...</td>\n",
              "      <td>...</td>\n",
              "      <td>...</td>\n",
              "      <td>...</td>\n",
              "      <td>...</td>\n",
              "      <td>...</td>\n",
              "      <td>...</td>\n",
              "      <td>...</td>\n",
              "      <td>...</td>\n",
              "      <td>...</td>\n",
              "      <td>...</td>\n",
              "      <td>...</td>\n",
              "      <td>...</td>\n",
              "      <td>...</td>\n",
              "      <td>...</td>\n",
              "      <td>...</td>\n",
              "      <td>...</td>\n",
              "    </tr>\n",
              "    <tr>\n",
              "      <th>24672</th>\n",
              "      <td>2014-10-06</td>\n",
              "      <td>ATL</td>\n",
              "      <td>NOP</td>\n",
              "      <td>2014</td>\n",
              "      <td>93.0</td>\n",
              "      <td>0.419</td>\n",
              "      <td>0.821</td>\n",
              "      <td>0.421</td>\n",
              "      <td>24.0</td>\n",
              "      <td>50.0</td>\n",
              "      <td>87.0</td>\n",
              "      <td>0.366</td>\n",
              "      <td>0.643</td>\n",
              "      <td>0.375</td>\n",
              "      <td>17.0</td>\n",
              "      <td>43.0</td>\n",
              "      <td>1</td>\n",
              "    </tr>\n",
              "    <tr>\n",
              "      <th>24673</th>\n",
              "      <td>2014-10-06</td>\n",
              "      <td>CHI</td>\n",
              "      <td>WAS</td>\n",
              "      <td>2014</td>\n",
              "      <td>81.0</td>\n",
              "      <td>0.338</td>\n",
              "      <td>0.719</td>\n",
              "      <td>0.381</td>\n",
              "      <td>18.0</td>\n",
              "      <td>40.0</td>\n",
              "      <td>85.0</td>\n",
              "      <td>0.411</td>\n",
              "      <td>0.636</td>\n",
              "      <td>0.267</td>\n",
              "      <td>17.0</td>\n",
              "      <td>47.0</td>\n",
              "      <td>0</td>\n",
              "    </tr>\n",
              "    <tr>\n",
              "      <th>24674</th>\n",
              "      <td>2014-10-06</td>\n",
              "      <td>LAL</td>\n",
              "      <td>DEN</td>\n",
              "      <td>2014</td>\n",
              "      <td>98.0</td>\n",
              "      <td>0.448</td>\n",
              "      <td>0.682</td>\n",
              "      <td>0.500</td>\n",
              "      <td>29.0</td>\n",
              "      <td>45.0</td>\n",
              "      <td>95.0</td>\n",
              "      <td>0.387</td>\n",
              "      <td>0.659</td>\n",
              "      <td>0.500</td>\n",
              "      <td>19.0</td>\n",
              "      <td>43.0</td>\n",
              "      <td>1</td>\n",
              "    </tr>\n",
              "    <tr>\n",
              "      <th>24675</th>\n",
              "      <td>2014-10-05</td>\n",
              "      <td>TOR</td>\n",
              "      <td>SAC</td>\n",
              "      <td>2014</td>\n",
              "      <td>99.0</td>\n",
              "      <td>0.440</td>\n",
              "      <td>0.771</td>\n",
              "      <td>0.333</td>\n",
              "      <td>21.0</td>\n",
              "      <td>30.0</td>\n",
              "      <td>94.0</td>\n",
              "      <td>0.469</td>\n",
              "      <td>0.725</td>\n",
              "      <td>0.385</td>\n",
              "      <td>18.0</td>\n",
              "      <td>45.0</td>\n",
              "      <td>1</td>\n",
              "    </tr>\n",
              "    <tr>\n",
              "      <th>24676</th>\n",
              "      <td>2014-10-04</td>\n",
              "      <td>MIA</td>\n",
              "      <td>NOP</td>\n",
              "      <td>2014</td>\n",
              "      <td>86.0</td>\n",
              "      <td>0.431</td>\n",
              "      <td>0.679</td>\n",
              "      <td>0.333</td>\n",
              "      <td>18.0</td>\n",
              "      <td>42.0</td>\n",
              "      <td>98.0</td>\n",
              "      <td>0.462</td>\n",
              "      <td>0.706</td>\n",
              "      <td>0.438</td>\n",
              "      <td>19.0</td>\n",
              "      <td>42.0</td>\n",
              "      <td>0</td>\n",
              "    </tr>\n",
              "  </tbody>\n",
              "</table>\n",
              "<p>23292 rows × 17 columns</p>\n",
              "</div>"
            ],
            "text/plain": [
              "      GAME_DATE_EST HOME_TEAM_ID  ... REB_away  HOME_TEAM_WINS\n",
              "0        2021-05-26          PHI  ...     40.0               1\n",
              "1        2021-05-26          NYK  ...     41.0               1\n",
              "2        2021-05-26          UTA  ...     33.0               1\n",
              "3        2021-05-25          BKN  ...     43.0               1\n",
              "4        2021-05-25          PHX  ...     39.0               0\n",
              "...             ...          ...  ...      ...             ...\n",
              "24672    2014-10-06          ATL  ...     43.0               1\n",
              "24673    2014-10-06          CHI  ...     47.0               0\n",
              "24674    2014-10-06          LAL  ...     43.0               1\n",
              "24675    2014-10-05          TOR  ...     45.0               1\n",
              "24676    2014-10-04          MIA  ...     42.0               0\n",
              "\n",
              "[23292 rows x 17 columns]"
            ]
          },
          "metadata": {},
          "execution_count": 4
        }
      ]
    },
    {
      "cell_type": "code",
      "metadata": {
        "colab": {
          "base_uri": "https://localhost:8080/"
        },
        "id": "-U5jA0mksKqL",
        "outputId": "6b2688f7-79e7-4606-eb68-3dc2166df4c0"
      },
      "source": [
        "games['GAME_DATE_EST'].max()"
      ],
      "execution_count": null,
      "outputs": [
        {
          "output_type": "execute_result",
          "data": {
            "text/plain": [
              "Timestamp('2021-05-26 00:00:00')"
            ]
          },
          "metadata": {},
          "execution_count": 5
        }
      ]
    },
    {
      "cell_type": "code",
      "metadata": {
        "colab": {
          "base_uri": "https://localhost:8080/"
        },
        "id": "q-t589QBsSn9",
        "outputId": "71a3f367-c30b-425b-84fe-586d6a5382d3"
      },
      "source": [
        "(games['GAME_DATE_EST'][0] > games['GAME_DATE_EST'][24676])"
      ],
      "execution_count": null,
      "outputs": [
        {
          "output_type": "execute_result",
          "data": {
            "text/plain": [
              "True"
            ]
          },
          "metadata": {},
          "execution_count": 6
        }
      ]
    },
    {
      "cell_type": "code",
      "metadata": {
        "id": "lO_9RmkxTDJX"
      },
      "source": [
        "# metrics are always: home - away\n",
        "# PTS, FG_PCT, FT_PCT, FG3_PCT, AST, REB, \n",
        "#games['PTS_diff'] = games['PTS_home'] - games['PTS_away']\n",
        "games['FG_PCT_diff'] = games['FG_PCT_home'] - games['FG_PCT_away']\n",
        "games['FT_PCT_diff'] = games['FT_PCT_home'] - games['FT_PCT_away']\n",
        "games['FG3_PCT_diff'] = games['FG3_PCT_home'] - games['FG3_PCT_away']\n",
        "games['AST_diff'] = games['AST_home'] - games['AST_away']\n",
        "games['REB_diff'] = games['REB_home'] - games['REB_away']"
      ],
      "execution_count": null,
      "outputs": []
    },
    {
      "cell_type": "code",
      "metadata": {
        "id": "GdBwZOvhAP4u"
      },
      "source": [
        "games_diff = games[['GAME_DATE_EST','SEASON','FG_PCT_diff', 'FT_PCT_diff', 'FG3_PCT_diff', 'AST_diff', 'REB_diff', 'HOME_TEAM_WINS']].copy()"
      ],
      "execution_count": null,
      "outputs": []
    },
    {
      "cell_type": "code",
      "metadata": {
        "colab": {
          "base_uri": "https://localhost:8080/",
          "height": 417
        },
        "id": "pcMI4DTiGcrt",
        "outputId": "ad8d0eb5-8126-4770-b9ce-c35dc8674577"
      },
      "source": [
        "games_diff"
      ],
      "execution_count": null,
      "outputs": [
        {
          "output_type": "execute_result",
          "data": {
            "text/html": [
              "<div>\n",
              "<style scoped>\n",
              "    .dataframe tbody tr th:only-of-type {\n",
              "        vertical-align: middle;\n",
              "    }\n",
              "\n",
              "    .dataframe tbody tr th {\n",
              "        vertical-align: top;\n",
              "    }\n",
              "\n",
              "    .dataframe thead th {\n",
              "        text-align: right;\n",
              "    }\n",
              "</style>\n",
              "<table border=\"1\" class=\"dataframe\">\n",
              "  <thead>\n",
              "    <tr style=\"text-align: right;\">\n",
              "      <th></th>\n",
              "      <th>GAME_DATE_EST</th>\n",
              "      <th>SEASON</th>\n",
              "      <th>FG_PCT_diff</th>\n",
              "      <th>FT_PCT_diff</th>\n",
              "      <th>FG3_PCT_diff</th>\n",
              "      <th>AST_diff</th>\n",
              "      <th>REB_diff</th>\n",
              "      <th>HOME_TEAM_WINS</th>\n",
              "    </tr>\n",
              "  </thead>\n",
              "  <tbody>\n",
              "    <tr>\n",
              "      <th>0</th>\n",
              "      <td>2021-05-26</td>\n",
              "      <td>2020</td>\n",
              "      <td>0.155</td>\n",
              "      <td>0.051</td>\n",
              "      <td>0.338</td>\n",
              "      <td>4.0</td>\n",
              "      <td>5.0</td>\n",
              "      <td>1</td>\n",
              "    </tr>\n",
              "    <tr>\n",
              "      <th>1</th>\n",
              "      <td>2021-05-26</td>\n",
              "      <td>2020</td>\n",
              "      <td>0.014</td>\n",
              "      <td>-0.079</td>\n",
              "      <td>0.091</td>\n",
              "      <td>-2.0</td>\n",
              "      <td>13.0</td>\n",
              "      <td>1</td>\n",
              "    </tr>\n",
              "    <tr>\n",
              "      <th>2</th>\n",
              "      <td>2021-05-26</td>\n",
              "      <td>2020</td>\n",
              "      <td>0.003</td>\n",
              "      <td>0.011</td>\n",
              "      <td>0.139</td>\n",
              "      <td>8.0</td>\n",
              "      <td>9.0</td>\n",
              "      <td>1</td>\n",
              "    </tr>\n",
              "    <tr>\n",
              "      <th>3</th>\n",
              "      <td>2021-05-25</td>\n",
              "      <td>2020</td>\n",
              "      <td>0.099</td>\n",
              "      <td>0.172</td>\n",
              "      <td>0.094</td>\n",
              "      <td>8.0</td>\n",
              "      <td>3.0</td>\n",
              "      <td>1</td>\n",
              "    </tr>\n",
              "    <tr>\n",
              "      <th>4</th>\n",
              "      <td>2021-05-25</td>\n",
              "      <td>2020</td>\n",
              "      <td>0.015</td>\n",
              "      <td>0.062</td>\n",
              "      <td>0.005</td>\n",
              "      <td>-3.0</td>\n",
              "      <td>-8.0</td>\n",
              "      <td>0</td>\n",
              "    </tr>\n",
              "    <tr>\n",
              "      <th>...</th>\n",
              "      <td>...</td>\n",
              "      <td>...</td>\n",
              "      <td>...</td>\n",
              "      <td>...</td>\n",
              "      <td>...</td>\n",
              "      <td>...</td>\n",
              "      <td>...</td>\n",
              "      <td>...</td>\n",
              "    </tr>\n",
              "    <tr>\n",
              "      <th>24672</th>\n",
              "      <td>2014-10-06</td>\n",
              "      <td>2014</td>\n",
              "      <td>0.053</td>\n",
              "      <td>0.178</td>\n",
              "      <td>0.046</td>\n",
              "      <td>7.0</td>\n",
              "      <td>7.0</td>\n",
              "      <td>1</td>\n",
              "    </tr>\n",
              "    <tr>\n",
              "      <th>24673</th>\n",
              "      <td>2014-10-06</td>\n",
              "      <td>2014</td>\n",
              "      <td>-0.073</td>\n",
              "      <td>0.083</td>\n",
              "      <td>0.114</td>\n",
              "      <td>1.0</td>\n",
              "      <td>-7.0</td>\n",
              "      <td>0</td>\n",
              "    </tr>\n",
              "    <tr>\n",
              "      <th>24674</th>\n",
              "      <td>2014-10-06</td>\n",
              "      <td>2014</td>\n",
              "      <td>0.061</td>\n",
              "      <td>0.023</td>\n",
              "      <td>0.000</td>\n",
              "      <td>10.0</td>\n",
              "      <td>2.0</td>\n",
              "      <td>1</td>\n",
              "    </tr>\n",
              "    <tr>\n",
              "      <th>24675</th>\n",
              "      <td>2014-10-05</td>\n",
              "      <td>2014</td>\n",
              "      <td>-0.029</td>\n",
              "      <td>0.046</td>\n",
              "      <td>-0.052</td>\n",
              "      <td>3.0</td>\n",
              "      <td>-15.0</td>\n",
              "      <td>1</td>\n",
              "    </tr>\n",
              "    <tr>\n",
              "      <th>24676</th>\n",
              "      <td>2014-10-04</td>\n",
              "      <td>2014</td>\n",
              "      <td>-0.031</td>\n",
              "      <td>-0.027</td>\n",
              "      <td>-0.105</td>\n",
              "      <td>-1.0</td>\n",
              "      <td>0.0</td>\n",
              "      <td>0</td>\n",
              "    </tr>\n",
              "  </tbody>\n",
              "</table>\n",
              "<p>23292 rows × 8 columns</p>\n",
              "</div>"
            ],
            "text/plain": [
              "      GAME_DATE_EST  SEASON  FG_PCT_diff  ...  AST_diff  REB_diff  HOME_TEAM_WINS\n",
              "0        2021-05-26    2020        0.155  ...       4.0       5.0               1\n",
              "1        2021-05-26    2020        0.014  ...      -2.0      13.0               1\n",
              "2        2021-05-26    2020        0.003  ...       8.0       9.0               1\n",
              "3        2021-05-25    2020        0.099  ...       8.0       3.0               1\n",
              "4        2021-05-25    2020        0.015  ...      -3.0      -8.0               0\n",
              "...             ...     ...          ...  ...       ...       ...             ...\n",
              "24672    2014-10-06    2014        0.053  ...       7.0       7.0               1\n",
              "24673    2014-10-06    2014       -0.073  ...       1.0      -7.0               0\n",
              "24674    2014-10-06    2014        0.061  ...      10.0       2.0               1\n",
              "24675    2014-10-05    2014       -0.029  ...       3.0     -15.0               1\n",
              "24676    2014-10-04    2014       -0.031  ...      -1.0       0.0               0\n",
              "\n",
              "[23292 rows x 8 columns]"
            ]
          },
          "metadata": {},
          "execution_count": 9
        }
      ]
    },
    {
      "cell_type": "code",
      "metadata": {
        "id": "zTEDOk7FTICB"
      },
      "source": [
        "games_diff_by_season = {}\n",
        "for s in (games_diff['SEASON'].unique()):\n",
        "  games_diff_by_season[s] = games_diff[games_diff['SEASON'] == s]\n",
        "\n",
        "games_by_season = {}\n",
        "for s in (games['SEASON'].unique()):\n",
        "  games_by_season[s] = games[games['SEASON'] == s]"
      ],
      "execution_count": null,
      "outputs": []
    },
    {
      "cell_type": "code",
      "metadata": {
        "colab": {
          "base_uri": "https://localhost:8080/",
          "height": 417
        },
        "id": "zKc9l27Bs5pH",
        "outputId": "ab0ff57b-87f6-49d8-b081-9a170e81dc3b"
      },
      "source": [
        "games_diff_by_season[2019]"
      ],
      "execution_count": null,
      "outputs": [
        {
          "output_type": "execute_result",
          "data": {
            "text/html": [
              "<div>\n",
              "<style scoped>\n",
              "    .dataframe tbody tr th:only-of-type {\n",
              "        vertical-align: middle;\n",
              "    }\n",
              "\n",
              "    .dataframe tbody tr th {\n",
              "        vertical-align: top;\n",
              "    }\n",
              "\n",
              "    .dataframe thead th {\n",
              "        text-align: right;\n",
              "    }\n",
              "</style>\n",
              "<table border=\"1\" class=\"dataframe\">\n",
              "  <thead>\n",
              "    <tr style=\"text-align: right;\">\n",
              "      <th></th>\n",
              "      <th>GAME_DATE_EST</th>\n",
              "      <th>SEASON</th>\n",
              "      <th>FG_PCT_diff</th>\n",
              "      <th>FT_PCT_diff</th>\n",
              "      <th>FG3_PCT_diff</th>\n",
              "      <th>AST_diff</th>\n",
              "      <th>REB_diff</th>\n",
              "      <th>HOME_TEAM_WINS</th>\n",
              "    </tr>\n",
              "  </thead>\n",
              "  <tbody>\n",
              "    <tr>\n",
              "      <th>1206</th>\n",
              "      <td>2020-10-11</td>\n",
              "      <td>2019</td>\n",
              "      <td>-0.040</td>\n",
              "      <td>-0.052</td>\n",
              "      <td>0.043</td>\n",
              "      <td>2.0</td>\n",
              "      <td>-5.0</td>\n",
              "      <td>0</td>\n",
              "    </tr>\n",
              "    <tr>\n",
              "      <th>1207</th>\n",
              "      <td>2020-10-09</td>\n",
              "      <td>2019</td>\n",
              "      <td>0.005</td>\n",
              "      <td>-0.098</td>\n",
              "      <td>-0.056</td>\n",
              "      <td>-5.0</td>\n",
              "      <td>6.0</td>\n",
              "      <td>0</td>\n",
              "    </tr>\n",
              "    <tr>\n",
              "      <th>1208</th>\n",
              "      <td>2020-10-06</td>\n",
              "      <td>2019</td>\n",
              "      <td>-0.016</td>\n",
              "      <td>-0.049</td>\n",
              "      <td>-0.015</td>\n",
              "      <td>-7.0</td>\n",
              "      <td>-3.0</td>\n",
              "      <td>0</td>\n",
              "    </tr>\n",
              "    <tr>\n",
              "      <th>1209</th>\n",
              "      <td>2020-10-04</td>\n",
              "      <td>2019</td>\n",
              "      <td>0.083</td>\n",
              "      <td>0.154</td>\n",
              "      <td>0.020</td>\n",
              "      <td>2.0</td>\n",
              "      <td>-6.0</td>\n",
              "      <td>1</td>\n",
              "    </tr>\n",
              "    <tr>\n",
              "      <th>1210</th>\n",
              "      <td>2020-10-02</td>\n",
              "      <td>2019</td>\n",
              "      <td>-0.002</td>\n",
              "      <td>-0.324</td>\n",
              "      <td>-0.067</td>\n",
              "      <td>3.0</td>\n",
              "      <td>7.0</td>\n",
              "      <td>1</td>\n",
              "    </tr>\n",
              "    <tr>\n",
              "      <th>...</th>\n",
              "      <td>...</td>\n",
              "      <td>...</td>\n",
              "      <td>...</td>\n",
              "      <td>...</td>\n",
              "      <td>...</td>\n",
              "      <td>...</td>\n",
              "      <td>...</td>\n",
              "      <td>...</td>\n",
              "    </tr>\n",
              "    <tr>\n",
              "      <th>17673</th>\n",
              "      <td>2019-10-05</td>\n",
              "      <td>2019</td>\n",
              "      <td>0.143</td>\n",
              "      <td>0.164</td>\n",
              "      <td>0.164</td>\n",
              "      <td>11.0</td>\n",
              "      <td>16.0</td>\n",
              "      <td>1</td>\n",
              "    </tr>\n",
              "    <tr>\n",
              "      <th>17674</th>\n",
              "      <td>2019-10-05</td>\n",
              "      <td>2019</td>\n",
              "      <td>-0.082</td>\n",
              "      <td>0.136</td>\n",
              "      <td>-0.041</td>\n",
              "      <td>-12.0</td>\n",
              "      <td>-11.0</td>\n",
              "      <td>0</td>\n",
              "    </tr>\n",
              "    <tr>\n",
              "      <th>17675</th>\n",
              "      <td>2019-10-05</td>\n",
              "      <td>2019</td>\n",
              "      <td>-0.138</td>\n",
              "      <td>0.036</td>\n",
              "      <td>0.083</td>\n",
              "      <td>-7.0</td>\n",
              "      <td>-7.0</td>\n",
              "      <td>0</td>\n",
              "    </tr>\n",
              "    <tr>\n",
              "      <th>17676</th>\n",
              "      <td>2019-10-04</td>\n",
              "      <td>2019</td>\n",
              "      <td>0.009</td>\n",
              "      <td>-0.200</td>\n",
              "      <td>0.044</td>\n",
              "      <td>5.0</td>\n",
              "      <td>-3.0</td>\n",
              "      <td>0</td>\n",
              "    </tr>\n",
              "    <tr>\n",
              "      <th>17677</th>\n",
              "      <td>2019-10-04</td>\n",
              "      <td>2019</td>\n",
              "      <td>-0.022</td>\n",
              "      <td>-0.010</td>\n",
              "      <td>0.047</td>\n",
              "      <td>4.0</td>\n",
              "      <td>-17.0</td>\n",
              "      <td>0</td>\n",
              "    </tr>\n",
              "  </tbody>\n",
              "</table>\n",
              "<p>1241 rows × 8 columns</p>\n",
              "</div>"
            ],
            "text/plain": [
              "      GAME_DATE_EST  SEASON  FG_PCT_diff  ...  AST_diff  REB_diff  HOME_TEAM_WINS\n",
              "1206     2020-10-11    2019       -0.040  ...       2.0      -5.0               0\n",
              "1207     2020-10-09    2019        0.005  ...      -5.0       6.0               0\n",
              "1208     2020-10-06    2019       -0.016  ...      -7.0      -3.0               0\n",
              "1209     2020-10-04    2019        0.083  ...       2.0      -6.0               1\n",
              "1210     2020-10-02    2019       -0.002  ...       3.0       7.0               1\n",
              "...             ...     ...          ...  ...       ...       ...             ...\n",
              "17673    2019-10-05    2019        0.143  ...      11.0      16.0               1\n",
              "17674    2019-10-05    2019       -0.082  ...     -12.0     -11.0               0\n",
              "17675    2019-10-05    2019       -0.138  ...      -7.0      -7.0               0\n",
              "17676    2019-10-04    2019        0.009  ...       5.0      -3.0               0\n",
              "17677    2019-10-04    2019       -0.022  ...       4.0     -17.0               0\n",
              "\n",
              "[1241 rows x 8 columns]"
            ]
          },
          "metadata": {},
          "execution_count": 11
        }
      ]
    },
    {
      "cell_type": "markdown",
      "metadata": {
        "id": "O1brDyUuhli3"
      },
      "source": [
        "## Modelling"
      ]
    },
    {
      "cell_type": "code",
      "metadata": {
        "id": "pSU2LH0PqOK5"
      },
      "source": [
        "# predictor columns:\n",
        "preds = ['FG_PCT_diff', 'FT_PCT_diff', 'FG3_PCT_diff', 'AST_diff', 'REB_diff']"
      ],
      "execution_count": null,
      "outputs": []
    },
    {
      "cell_type": "code",
      "metadata": {
        "colab": {
          "base_uri": "https://localhost:8080/"
        },
        "id": "9gav3m870bwE",
        "outputId": "122e7d34-3698-4622-ca83-260b809d2fb8"
      },
      "source": [
        "l = []\n",
        "l.append(12)\n",
        "print(l)"
      ],
      "execution_count": null,
      "outputs": [
        {
          "output_type": "stream",
          "name": "stdout",
          "text": [
            "[12]\n"
          ]
        }
      ]
    },
    {
      "cell_type": "code",
      "metadata": {
        "id": "Md31v4iMzAo5"
      },
      "source": [
        "# method to make a training set with specified season range\n",
        "def make_trg_set(start_season, end_season, d):\n",
        "  l = []\n",
        "  for i in range(start_season, end_season+1):\n",
        "    l.append(d[i])\n",
        "  return pd.concat(l)"
      ],
      "execution_count": null,
      "outputs": []
    },
    {
      "cell_type": "code",
      "metadata": {
        "colab": {
          "base_uri": "https://localhost:8080/",
          "height": 417
        },
        "id": "EUVRuBNkw4tC",
        "outputId": "365ca94c-01f0-46e2-98c4-54b8a75f6240"
      },
      "source": [
        "training_set = make_trg_set(2004, 2019, games_diff_by_season)\n",
        "training_set"
      ],
      "execution_count": null,
      "outputs": [
        {
          "output_type": "execute_result",
          "data": {
            "text/html": [
              "<div>\n",
              "<style scoped>\n",
              "    .dataframe tbody tr th:only-of-type {\n",
              "        vertical-align: middle;\n",
              "    }\n",
              "\n",
              "    .dataframe tbody tr th {\n",
              "        vertical-align: top;\n",
              "    }\n",
              "\n",
              "    .dataframe thead th {\n",
              "        text-align: right;\n",
              "    }\n",
              "</style>\n",
              "<table border=\"1\" class=\"dataframe\">\n",
              "  <thead>\n",
              "    <tr style=\"text-align: right;\">\n",
              "      <th></th>\n",
              "      <th>GAME_DATE_EST</th>\n",
              "      <th>SEASON</th>\n",
              "      <th>FG_PCT_diff</th>\n",
              "      <th>FT_PCT_diff</th>\n",
              "      <th>FG3_PCT_diff</th>\n",
              "      <th>AST_diff</th>\n",
              "      <th>REB_diff</th>\n",
              "      <th>HOME_TEAM_WINS</th>\n",
              "    </tr>\n",
              "  </thead>\n",
              "  <tbody>\n",
              "    <tr>\n",
              "      <th>14568</th>\n",
              "      <td>2005-06-23</td>\n",
              "      <td>2004</td>\n",
              "      <td>0.007</td>\n",
              "      <td>0.128</td>\n",
              "      <td>0.493</td>\n",
              "      <td>-3.0</td>\n",
              "      <td>4.0</td>\n",
              "      <td>1</td>\n",
              "    </tr>\n",
              "    <tr>\n",
              "      <th>14569</th>\n",
              "      <td>2005-06-21</td>\n",
              "      <td>2004</td>\n",
              "      <td>-0.055</td>\n",
              "      <td>-0.069</td>\n",
              "      <td>-0.185</td>\n",
              "      <td>-4.0</td>\n",
              "      <td>3.0</td>\n",
              "      <td>0</td>\n",
              "    </tr>\n",
              "    <tr>\n",
              "      <th>14570</th>\n",
              "      <td>2005-06-19</td>\n",
              "      <td>2004</td>\n",
              "      <td>-0.023</td>\n",
              "      <td>0.255</td>\n",
              "      <td>-0.178</td>\n",
              "      <td>-3.0</td>\n",
              "      <td>-3.0</td>\n",
              "      <td>0</td>\n",
              "    </tr>\n",
              "    <tr>\n",
              "      <th>14571</th>\n",
              "      <td>2005-06-16</td>\n",
              "      <td>2004</td>\n",
              "      <td>0.085</td>\n",
              "      <td>0.200</td>\n",
              "      <td>-0.111</td>\n",
              "      <td>8.0</td>\n",
              "      <td>3.0</td>\n",
              "      <td>1</td>\n",
              "    </tr>\n",
              "    <tr>\n",
              "      <th>14572</th>\n",
              "      <td>2005-06-14</td>\n",
              "      <td>2004</td>\n",
              "      <td>0.038</td>\n",
              "      <td>0.115</td>\n",
              "      <td>-0.257</td>\n",
              "      <td>6.0</td>\n",
              "      <td>7.0</td>\n",
              "      <td>1</td>\n",
              "    </tr>\n",
              "    <tr>\n",
              "      <th>...</th>\n",
              "      <td>...</td>\n",
              "      <td>...</td>\n",
              "      <td>...</td>\n",
              "      <td>...</td>\n",
              "      <td>...</td>\n",
              "      <td>...</td>\n",
              "      <td>...</td>\n",
              "      <td>...</td>\n",
              "    </tr>\n",
              "    <tr>\n",
              "      <th>17673</th>\n",
              "      <td>2019-10-05</td>\n",
              "      <td>2019</td>\n",
              "      <td>0.143</td>\n",
              "      <td>0.164</td>\n",
              "      <td>0.164</td>\n",
              "      <td>11.0</td>\n",
              "      <td>16.0</td>\n",
              "      <td>1</td>\n",
              "    </tr>\n",
              "    <tr>\n",
              "      <th>17674</th>\n",
              "      <td>2019-10-05</td>\n",
              "      <td>2019</td>\n",
              "      <td>-0.082</td>\n",
              "      <td>0.136</td>\n",
              "      <td>-0.041</td>\n",
              "      <td>-12.0</td>\n",
              "      <td>-11.0</td>\n",
              "      <td>0</td>\n",
              "    </tr>\n",
              "    <tr>\n",
              "      <th>17675</th>\n",
              "      <td>2019-10-05</td>\n",
              "      <td>2019</td>\n",
              "      <td>-0.138</td>\n",
              "      <td>0.036</td>\n",
              "      <td>0.083</td>\n",
              "      <td>-7.0</td>\n",
              "      <td>-7.0</td>\n",
              "      <td>0</td>\n",
              "    </tr>\n",
              "    <tr>\n",
              "      <th>17676</th>\n",
              "      <td>2019-10-04</td>\n",
              "      <td>2019</td>\n",
              "      <td>0.009</td>\n",
              "      <td>-0.200</td>\n",
              "      <td>0.044</td>\n",
              "      <td>5.0</td>\n",
              "      <td>-3.0</td>\n",
              "      <td>0</td>\n",
              "    </tr>\n",
              "    <tr>\n",
              "      <th>17677</th>\n",
              "      <td>2019-10-04</td>\n",
              "      <td>2019</td>\n",
              "      <td>-0.022</td>\n",
              "      <td>-0.010</td>\n",
              "      <td>0.047</td>\n",
              "      <td>4.0</td>\n",
              "      <td>-17.0</td>\n",
              "      <td>0</td>\n",
              "    </tr>\n",
              "  </tbody>\n",
              "</table>\n",
              "<p>22086 rows × 8 columns</p>\n",
              "</div>"
            ],
            "text/plain": [
              "      GAME_DATE_EST  SEASON  FG_PCT_diff  ...  AST_diff  REB_diff  HOME_TEAM_WINS\n",
              "14568    2005-06-23    2004        0.007  ...      -3.0       4.0               1\n",
              "14569    2005-06-21    2004       -0.055  ...      -4.0       3.0               0\n",
              "14570    2005-06-19    2004       -0.023  ...      -3.0      -3.0               0\n",
              "14571    2005-06-16    2004        0.085  ...       8.0       3.0               1\n",
              "14572    2005-06-14    2004        0.038  ...       6.0       7.0               1\n",
              "...             ...     ...          ...  ...       ...       ...             ...\n",
              "17673    2019-10-05    2019        0.143  ...      11.0      16.0               1\n",
              "17674    2019-10-05    2019       -0.082  ...     -12.0     -11.0               0\n",
              "17675    2019-10-05    2019       -0.138  ...      -7.0      -7.0               0\n",
              "17676    2019-10-04    2019        0.009  ...       5.0      -3.0               0\n",
              "17677    2019-10-04    2019       -0.022  ...       4.0     -17.0               0\n",
              "\n",
              "[22086 rows x 8 columns]"
            ]
          },
          "metadata": {},
          "execution_count": 15
        }
      ]
    },
    {
      "cell_type": "code",
      "metadata": {
        "colab": {
          "base_uri": "https://localhost:8080/"
        },
        "id": "48kaHr2Hc6lZ",
        "outputId": "2aed57d7-5e66-4a65-bf47-8472a222a14f"
      },
      "source": [
        "X_train = training_set[preds]\n",
        "y_train = training_set['HOME_TEAM_WINS']\n",
        "rfc = RandomForestClassifier(n_estimators=1000)\n",
        "rfc.fit(X_train, y_train)\n"
      ],
      "execution_count": null,
      "outputs": [
        {
          "output_type": "execute_result",
          "data": {
            "text/plain": [
              "RandomForestClassifier(n_estimators=1000)"
            ]
          },
          "metadata": {},
          "execution_count": 16
        }
      ]
    },
    {
      "cell_type": "code",
      "metadata": {
        "colab": {
          "base_uri": "https://localhost:8080/"
        },
        "id": "P1EEcEWibiVr",
        "outputId": "b054d3d7-07bb-4e4b-817a-73b80b67d1d4"
      },
      "source": [
        "y_train"
      ],
      "execution_count": null,
      "outputs": [
        {
          "output_type": "execute_result",
          "data": {
            "text/plain": [
              "14568    1\n",
              "14569    0\n",
              "14570    0\n",
              "14571    1\n",
              "14572    1\n",
              "        ..\n",
              "17673    1\n",
              "17674    0\n",
              "17675    0\n",
              "17676    0\n",
              "17677    0\n",
              "Name: HOME_TEAM_WINS, Length: 22086, dtype: int64"
            ]
          },
          "metadata": {},
          "execution_count": 17
        }
      ]
    },
    {
      "cell_type": "markdown",
      "metadata": {
        "id": "DdpEPMQsht_j"
      },
      "source": [
        "## Shaping Input"
      ]
    },
    {
      "cell_type": "code",
      "metadata": {
        "id": "_s2KzF3FhX7v",
        "colab": {
          "base_uri": "https://localhost:8080/"
        },
        "outputId": "edcf1b98-c908-4564-d146-aa250a511355"
      },
      "source": [
        "# get average of the features for each team\n",
        "games_2020 = games_by_season[2020]\n",
        "games_2019 = games_by_season[2019]\n",
        "print(games_2020.shape)"
      ],
      "execution_count": null,
      "outputs": [
        {
          "output_type": "stream",
          "name": "stdout",
          "text": [
            "(1206, 22)\n"
          ]
        }
      ]
    },
    {
      "cell_type": "code",
      "metadata": {
        "colab": {
          "base_uri": "https://localhost:8080/"
        },
        "id": "aynXaT09VVQU",
        "outputId": "63e12ddd-2229-40ed-cd6a-00b301724994"
      },
      "source": [
        "games_2019['HOME_TEAM_ID'].unique()"
      ],
      "execution_count": null,
      "outputs": [
        {
          "output_type": "execute_result",
          "data": {
            "text/plain": [
              "array(['MIA', 'LAL', 'BOS', 'DEN', 'LAC', 'TOR', 'HOU', 'MIL', 'OKC',\n",
              "       'DAL', 'UTA', 'ORL', 'POR', 'PHI', 'BKN', 'IND', 'MEM', 'PHX',\n",
              "       'SAS', 'SAC', 'WAS', 'NOP', 'ATL', 'CHI', 'GSW', 'MIN', 'CLE',\n",
              "       'NYK', 'CHA', 'DET'], dtype=object)"
            ]
          },
          "metadata": {},
          "execution_count": 19
        }
      ]
    },
    {
      "cell_type": "code",
      "metadata": {
        "colab": {
          "base_uri": "https://localhost:8080/",
          "height": 377
        },
        "id": "eB1dWQJB-s8d",
        "outputId": "bd43d3d4-4ac0-4427-e34e-5313fb6c7bc7"
      },
      "source": [
        "# check for most recent game\n",
        "in_use = games_2019.sort_values(by=['GAME_DATE_EST'], ascending=False)\n",
        "a = in_use[(in_use['HOME_TEAM_ID'] == 'PHI') | (in_use['VISITOR_TEAM_ID'] == 'PHI')]\n",
        "a10 = a.head(10)\n",
        "a10\n",
        "# if team in either home or away"
      ],
      "execution_count": null,
      "outputs": [
        {
          "output_type": "execute_result",
          "data": {
            "text/html": [
              "<div>\n",
              "<style scoped>\n",
              "    .dataframe tbody tr th:only-of-type {\n",
              "        vertical-align: middle;\n",
              "    }\n",
              "\n",
              "    .dataframe tbody tr th {\n",
              "        vertical-align: top;\n",
              "    }\n",
              "\n",
              "    .dataframe thead th {\n",
              "        text-align: right;\n",
              "    }\n",
              "</style>\n",
              "<table border=\"1\" class=\"dataframe\">\n",
              "  <thead>\n",
              "    <tr style=\"text-align: right;\">\n",
              "      <th></th>\n",
              "      <th>GAME_DATE_EST</th>\n",
              "      <th>HOME_TEAM_ID</th>\n",
              "      <th>VISITOR_TEAM_ID</th>\n",
              "      <th>SEASON</th>\n",
              "      <th>PTS_home</th>\n",
              "      <th>FG_PCT_home</th>\n",
              "      <th>FT_PCT_home</th>\n",
              "      <th>FG3_PCT_home</th>\n",
              "      <th>AST_home</th>\n",
              "      <th>REB_home</th>\n",
              "      <th>PTS_away</th>\n",
              "      <th>FG_PCT_away</th>\n",
              "      <th>FT_PCT_away</th>\n",
              "      <th>FG3_PCT_away</th>\n",
              "      <th>AST_away</th>\n",
              "      <th>REB_away</th>\n",
              "      <th>HOME_TEAM_WINS</th>\n",
              "      <th>FG_PCT_diff</th>\n",
              "      <th>FT_PCT_diff</th>\n",
              "      <th>FG3_PCT_diff</th>\n",
              "      <th>AST_diff</th>\n",
              "      <th>REB_diff</th>\n",
              "    </tr>\n",
              "  </thead>\n",
              "  <tbody>\n",
              "    <tr>\n",
              "      <th>1261</th>\n",
              "      <td>2020-08-23</td>\n",
              "      <td>PHI</td>\n",
              "      <td>BOS</td>\n",
              "      <td>2019</td>\n",
              "      <td>106.0</td>\n",
              "      <td>0.427</td>\n",
              "      <td>0.794</td>\n",
              "      <td>0.265</td>\n",
              "      <td>12.0</td>\n",
              "      <td>39.0</td>\n",
              "      <td>110.0</td>\n",
              "      <td>0.463</td>\n",
              "      <td>0.759</td>\n",
              "      <td>0.343</td>\n",
              "      <td>19.0</td>\n",
              "      <td>42.0</td>\n",
              "      <td>0</td>\n",
              "      <td>-0.036</td>\n",
              "      <td>0.035</td>\n",
              "      <td>-0.078</td>\n",
              "      <td>-7.0</td>\n",
              "      <td>-3.0</td>\n",
              "    </tr>\n",
              "    <tr>\n",
              "      <th>1271</th>\n",
              "      <td>2020-08-21</td>\n",
              "      <td>PHI</td>\n",
              "      <td>BOS</td>\n",
              "      <td>2019</td>\n",
              "      <td>94.0</td>\n",
              "      <td>0.295</td>\n",
              "      <td>0.853</td>\n",
              "      <td>0.231</td>\n",
              "      <td>14.0</td>\n",
              "      <td>57.0</td>\n",
              "      <td>102.0</td>\n",
              "      <td>0.414</td>\n",
              "      <td>0.917</td>\n",
              "      <td>0.258</td>\n",
              "      <td>15.0</td>\n",
              "      <td>45.0</td>\n",
              "      <td>0</td>\n",
              "      <td>-0.119</td>\n",
              "      <td>-0.064</td>\n",
              "      <td>-0.027</td>\n",
              "      <td>-1.0</td>\n",
              "      <td>12.0</td>\n",
              "    </tr>\n",
              "    <tr>\n",
              "      <th>1279</th>\n",
              "      <td>2020-08-19</td>\n",
              "      <td>BOS</td>\n",
              "      <td>PHI</td>\n",
              "      <td>2019</td>\n",
              "      <td>128.0</td>\n",
              "      <td>0.512</td>\n",
              "      <td>0.724</td>\n",
              "      <td>0.442</td>\n",
              "      <td>20.0</td>\n",
              "      <td>43.0</td>\n",
              "      <td>101.0</td>\n",
              "      <td>0.418</td>\n",
              "      <td>0.811</td>\n",
              "      <td>0.238</td>\n",
              "      <td>21.0</td>\n",
              "      <td>38.0</td>\n",
              "      <td>1</td>\n",
              "      <td>0.094</td>\n",
              "      <td>-0.087</td>\n",
              "      <td>0.204</td>\n",
              "      <td>-1.0</td>\n",
              "      <td>5.0</td>\n",
              "    </tr>\n",
              "    <tr>\n",
              "      <th>1287</th>\n",
              "      <td>2020-08-17</td>\n",
              "      <td>BOS</td>\n",
              "      <td>PHI</td>\n",
              "      <td>2019</td>\n",
              "      <td>109.0</td>\n",
              "      <td>0.422</td>\n",
              "      <td>0.885</td>\n",
              "      <td>0.323</td>\n",
              "      <td>22.0</td>\n",
              "      <td>43.0</td>\n",
              "      <td>101.0</td>\n",
              "      <td>0.463</td>\n",
              "      <td>0.783</td>\n",
              "      <td>0.333</td>\n",
              "      <td>23.0</td>\n",
              "      <td>50.0</td>\n",
              "      <td>1</td>\n",
              "      <td>-0.041</td>\n",
              "      <td>0.102</td>\n",
              "      <td>-0.010</td>\n",
              "      <td>-1.0</td>\n",
              "      <td>-7.0</td>\n",
              "    </tr>\n",
              "    <tr>\n",
              "      <th>1293</th>\n",
              "      <td>2020-08-14</td>\n",
              "      <td>HOU</td>\n",
              "      <td>PHI</td>\n",
              "      <td>2019</td>\n",
              "      <td>96.0</td>\n",
              "      <td>0.438</td>\n",
              "      <td>0.875</td>\n",
              "      <td>0.250</td>\n",
              "      <td>25.0</td>\n",
              "      <td>27.0</td>\n",
              "      <td>134.0</td>\n",
              "      <td>0.563</td>\n",
              "      <td>0.818</td>\n",
              "      <td>0.474</td>\n",
              "      <td>31.0</td>\n",
              "      <td>51.0</td>\n",
              "      <td>0</td>\n",
              "      <td>-0.125</td>\n",
              "      <td>0.057</td>\n",
              "      <td>-0.224</td>\n",
              "      <td>-6.0</td>\n",
              "      <td>-24.0</td>\n",
              "    </tr>\n",
              "    <tr>\n",
              "      <th>1302</th>\n",
              "      <td>2020-08-12</td>\n",
              "      <td>PHI</td>\n",
              "      <td>TOR</td>\n",
              "      <td>2019</td>\n",
              "      <td>121.0</td>\n",
              "      <td>0.464</td>\n",
              "      <td>0.788</td>\n",
              "      <td>0.425</td>\n",
              "      <td>27.0</td>\n",
              "      <td>47.0</td>\n",
              "      <td>125.0</td>\n",
              "      <td>0.444</td>\n",
              "      <td>0.675</td>\n",
              "      <td>0.419</td>\n",
              "      <td>28.0</td>\n",
              "      <td>47.0</td>\n",
              "      <td>0</td>\n",
              "      <td>0.020</td>\n",
              "      <td>0.113</td>\n",
              "      <td>0.006</td>\n",
              "      <td>-1.0</td>\n",
              "      <td>0.0</td>\n",
              "    </tr>\n",
              "    <tr>\n",
              "      <th>1307</th>\n",
              "      <td>2020-08-11</td>\n",
              "      <td>PHI</td>\n",
              "      <td>PHX</td>\n",
              "      <td>2019</td>\n",
              "      <td>117.0</td>\n",
              "      <td>0.495</td>\n",
              "      <td>0.714</td>\n",
              "      <td>0.455</td>\n",
              "      <td>28.0</td>\n",
              "      <td>34.0</td>\n",
              "      <td>130.0</td>\n",
              "      <td>0.551</td>\n",
              "      <td>0.952</td>\n",
              "      <td>0.429</td>\n",
              "      <td>28.0</td>\n",
              "      <td>44.0</td>\n",
              "      <td>0</td>\n",
              "      <td>-0.056</td>\n",
              "      <td>-0.238</td>\n",
              "      <td>0.026</td>\n",
              "      <td>0.0</td>\n",
              "      <td>-10.0</td>\n",
              "    </tr>\n",
              "    <tr>\n",
              "      <th>1321</th>\n",
              "      <td>2020-08-09</td>\n",
              "      <td>POR</td>\n",
              "      <td>PHI</td>\n",
              "      <td>2019</td>\n",
              "      <td>124.0</td>\n",
              "      <td>0.473</td>\n",
              "      <td>0.931</td>\n",
              "      <td>0.314</td>\n",
              "      <td>19.0</td>\n",
              "      <td>41.0</td>\n",
              "      <td>121.0</td>\n",
              "      <td>0.485</td>\n",
              "      <td>0.765</td>\n",
              "      <td>0.467</td>\n",
              "      <td>24.0</td>\n",
              "      <td>48.0</td>\n",
              "      <td>1</td>\n",
              "      <td>-0.012</td>\n",
              "      <td>0.166</td>\n",
              "      <td>-0.153</td>\n",
              "      <td>-5.0</td>\n",
              "      <td>-7.0</td>\n",
              "    </tr>\n",
              "    <tr>\n",
              "      <th>1332</th>\n",
              "      <td>2020-08-07</td>\n",
              "      <td>PHI</td>\n",
              "      <td>ORL</td>\n",
              "      <td>2019</td>\n",
              "      <td>108.0</td>\n",
              "      <td>0.409</td>\n",
              "      <td>0.727</td>\n",
              "      <td>0.276</td>\n",
              "      <td>19.0</td>\n",
              "      <td>51.0</td>\n",
              "      <td>101.0</td>\n",
              "      <td>0.420</td>\n",
              "      <td>0.760</td>\n",
              "      <td>0.250</td>\n",
              "      <td>17.0</td>\n",
              "      <td>47.0</td>\n",
              "      <td>1</td>\n",
              "      <td>-0.011</td>\n",
              "      <td>-0.033</td>\n",
              "      <td>0.026</td>\n",
              "      <td>2.0</td>\n",
              "      <td>4.0</td>\n",
              "    </tr>\n",
              "    <tr>\n",
              "      <th>1342</th>\n",
              "      <td>2020-08-05</td>\n",
              "      <td>WAS</td>\n",
              "      <td>PHI</td>\n",
              "      <td>2019</td>\n",
              "      <td>98.0</td>\n",
              "      <td>0.424</td>\n",
              "      <td>0.792</td>\n",
              "      <td>0.333</td>\n",
              "      <td>17.0</td>\n",
              "      <td>48.0</td>\n",
              "      <td>107.0</td>\n",
              "      <td>0.463</td>\n",
              "      <td>0.690</td>\n",
              "      <td>0.379</td>\n",
              "      <td>27.0</td>\n",
              "      <td>41.0</td>\n",
              "      <td>0</td>\n",
              "      <td>-0.039</td>\n",
              "      <td>0.102</td>\n",
              "      <td>-0.046</td>\n",
              "      <td>-10.0</td>\n",
              "      <td>7.0</td>\n",
              "    </tr>\n",
              "  </tbody>\n",
              "</table>\n",
              "</div>"
            ],
            "text/plain": [
              "     GAME_DATE_EST HOME_TEAM_ID  ... AST_diff  REB_diff\n",
              "1261    2020-08-23          PHI  ...     -7.0      -3.0\n",
              "1271    2020-08-21          PHI  ...     -1.0      12.0\n",
              "1279    2020-08-19          BOS  ...     -1.0       5.0\n",
              "1287    2020-08-17          BOS  ...     -1.0      -7.0\n",
              "1293    2020-08-14          HOU  ...     -6.0     -24.0\n",
              "1302    2020-08-12          PHI  ...     -1.0       0.0\n",
              "1307    2020-08-11          PHI  ...      0.0     -10.0\n",
              "1321    2020-08-09          POR  ...     -5.0      -7.0\n",
              "1332    2020-08-07          PHI  ...      2.0       4.0\n",
              "1342    2020-08-05          WAS  ...    -10.0       7.0\n",
              "\n",
              "[10 rows x 22 columns]"
            ]
          },
          "metadata": {},
          "execution_count": 20
        }
      ]
    },
    {
      "cell_type": "code",
      "metadata": {
        "id": "5uYPx-fgjB5u"
      },
      "source": [
        "# dict to store team averages\n",
        "team_avgs = {}\n",
        "# need to average both when the team is home and away, since those are separate games\n",
        "# FG_PCT, FT_PCT, FG3_PCT, AST, REB\n",
        "for id in (games_2020['HOME_TEAM_ID'].unique()):\n",
        "  FG_PCT_avg = (games_2020[games_2020['HOME_TEAM_ID'] == id]['FG_PCT_home'].mean() \n",
        "              + games_2020[games_2020['HOME_TEAM_ID'] == id]['FG_PCT_away'].mean())/2\n",
        "  FT_PCT_avg = (games_2020[games_2020['HOME_TEAM_ID'] == id]['FT_PCT_home'].mean() \n",
        "              + games_2020[games_2020['HOME_TEAM_ID'] == id]['FT_PCT_away'].mean())/2\n",
        "  FG3_PCT_avg = (games_2020[games_2020['HOME_TEAM_ID'] == id]['FG3_PCT_home'].mean() \n",
        "               + games_2020[games_2020['HOME_TEAM_ID'] == id]['FG3_PCT_away'].mean())/2\n",
        "  AST_avg = round((games_2020[games_2020['HOME_TEAM_ID'] == id]['AST_home'].mean() \n",
        "           + games_2020[games_2020['HOME_TEAM_ID'] == id]['AST_away'].mean())/2)\n",
        "  REB_avg = round((games_2020[games_2020['HOME_TEAM_ID'] == id]['REB_home'].mean() \n",
        "           + games_2020[games_2020['HOME_TEAM_ID'] == id]['REB_away'].mean())/2)\n",
        "  team_avgs[id] = pd.DataFrame([[FG_PCT_avg, FT_PCT_avg, FG3_PCT_avg, AST_avg, REB_avg]], \n",
        "                               columns = ['FG_PCT_avg', 'FT_PCT_avg', 'FG3_PCT_avg', 'AST_avg', 'REB_avg'])"
      ],
      "execution_count": null,
      "outputs": []
    },
    {
      "cell_type": "code",
      "metadata": {
        "id": "WLRCP9giT2gI"
      },
      "source": [
        "def get_all_team_avg_over_n_games(n, games_df):\n",
        "  team_avgs = {}\n",
        "  for id in (games_df['HOME_TEAM_ID'].unique()):\n",
        "    team_avgs[id] = get_team_avg_over_n_games(id, n, games_df)\n",
        "  return team_avgs\n",
        "\n",
        "def get_team_avg_over_n_games(id, n, games_df):\n",
        "  in_use = games_df.sort_values(by=['GAME_DATE_EST'], ascending=False)\n",
        "  a = in_use[(in_use['HOME_TEAM_ID'] == id) | (in_use['VISITOR_TEAM_ID'] == id)]\n",
        "  to_use = a.head(n)\n",
        "  if n == 1:\n",
        "    if (to_use['HOME_TEAM_ID'].iloc[0] == id):\n",
        "      FG_PCT_avg = to_use[to_use['HOME_TEAM_ID'] == id]['FG_PCT_home']\n",
        "      FT_PCT_avg = to_use[to_use['HOME_TEAM_ID'] == id]['FT_PCT_home']\n",
        "      FG3_PCT_avg = to_use[to_use['HOME_TEAM_ID'] == id]['FG3_PCT_home']\n",
        "      AST_avg = to_use[to_use['HOME_TEAM_ID'] == id]['AST_home']\n",
        "      REB_avg = to_use[to_use['HOME_TEAM_ID'] == id]['REB_home']\n",
        "    else:\n",
        "      FG_PCT_avg = to_use[to_use['VISITOR_TEAM_ID'] == id]['FG_PCT_away']\n",
        "      FT_PCT_avg = to_use[to_use['VISITOR_TEAM_ID'] == id]['FT_PCT_away']\n",
        "      FG3_PCT_avg = to_use[to_use['VISITOR_TEAM_ID'] == id]['FG3_PCT_away']\n",
        "      AST_avg = to_use[to_use['VISITOR_TEAM_ID'] == id]['AST_away']\n",
        "      REB_avg = to_use[to_use['VISITOR_TEAM_ID'] == id]['REB_away']\n",
        "  else:\n",
        "    FG_PCT_avg = (to_use[to_use['HOME_TEAM_ID'] == id]['FG_PCT_home'].mean() \n",
        "                + to_use[to_use['VISITOR_TEAM_ID'] == id]['FG_PCT_away'].mean())/2\n",
        "    FT_PCT_avg = (to_use[to_use['HOME_TEAM_ID'] == id]['FT_PCT_home'].mean() \n",
        "                + to_use[to_use['VISITOR_TEAM_ID'] == id]['FT_PCT_away'].mean())/2\n",
        "    FG3_PCT_avg = (to_use[to_use['HOME_TEAM_ID'] == id]['FG3_PCT_home'].mean() \n",
        "                + to_use[to_use['VISITOR_TEAM_ID'] == id]['FG3_PCT_away'].mean())/2\n",
        "    AST_avg = round((to_use[to_use['HOME_TEAM_ID'] == id]['AST_home'].mean() \n",
        "            + to_use[to_use['VISITOR_TEAM_ID'] == id]['AST_away'].mean())/2)\n",
        "    REB_avg = round((to_use[to_use['HOME_TEAM_ID'] == id]['REB_home'].mean() \n",
        "            + to_use[to_use['VISITOR_TEAM_ID'] == id]['REB_away'].mean())/2)\n",
        "  return pd.DataFrame([[FG_PCT_avg, FT_PCT_avg, FG3_PCT_avg, AST_avg, REB_avg]], \n",
        "                               columns = ['FG_PCT_avg', 'FT_PCT_avg', 'FG3_PCT_avg', 'AST_avg', 'REB_avg'])\n",
        "  \n"
      ],
      "execution_count": null,
      "outputs": []
    },
    {
      "cell_type": "code",
      "metadata": {
        "id": "QAn36z-fVdvs"
      },
      "source": [
        "#team_avgs_1 = get_all_team_avg_over_n_games(1, games_2019)\n",
        "team_avgs_5 = get_all_team_avg_over_n_games(5, games_2019)\n",
        "team_avgs_10 = get_all_team_avg_over_n_games(10, games_2019)\n",
        "team_avgs_20 = get_all_team_avg_over_n_games(20, games_2019)\n",
        "team_avgs_30 = get_all_team_avg_over_n_games(30, games_2019)\n",
        "team_avgs_40 = get_all_team_avg_over_n_games(40, games_2019)\n",
        "team_avgs_50 = get_all_team_avg_over_n_games(50, games_2019)\n",
        "team_avgs_60 = get_all_team_avg_over_n_games(60, games_2019)\n",
        "team_avgs_70 = get_all_team_avg_over_n_games(70, games_2019)\n",
        "team_avgs_80 = get_all_team_avg_over_n_games(80, games_2019)\n",
        "avgs_list = [team_avgs_5, team_avgs_10, team_avgs_20, team_avgs_30, team_avgs_40, team_avgs_50, team_avgs_60, team_avgs_70, team_avgs_80]"
      ],
      "execution_count": null,
      "outputs": []
    },
    {
      "cell_type": "code",
      "metadata": {
        "id": "x-yqo7vHZ5LI"
      },
      "source": [
        "def make_test_sets(avgs_list):\n",
        "  test_l = []\n",
        "  for team_avgs in avgs_list:\n",
        "    test = pd.DataFrame(columns=['HOME_TEAM_ID', 'VISITOR_TEAM_ID','FG_PCT_diff', 'FT_PCT_diff', 'FG3_PCT_diff', 'AST_diff', 'REB_diff', 'HOME_TEAM_WINS'])\n",
        "    for index, row in games_2020.iterrows():\n",
        "      # for each row, get the difference of the team averages (home - away)\n",
        "      diff = (team_avgs[row['HOME_TEAM_ID']] - team_avgs[row['VISITOR_TEAM_ID']])\n",
        "      # store differences in new df along with the outcome\n",
        "      test.loc[len(test.index)] = [row['HOME_TEAM_ID'], row['VISITOR_TEAM_ID'], diff['FG_PCT_avg'][0], diff['FT_PCT_avg'][0], diff['FG3_PCT_avg'][0], diff['AST_avg'][0], diff['REB_avg'][0], row['HOME_TEAM_WINS']]\n",
        "    test_l.append(test)\n",
        "  return test_l"
      ],
      "execution_count": null,
      "outputs": []
    },
    {
      "cell_type": "code",
      "metadata": {
        "id": "FhdWrdVsdHT-"
      },
      "source": [
        "tests = make_test_sets(avgs_list)"
      ],
      "execution_count": null,
      "outputs": []
    },
    {
      "cell_type": "code",
      "metadata": {
        "colab": {
          "base_uri": "https://localhost:8080/"
        },
        "id": "LZo8Y5-pl3iv",
        "outputId": "867acc0d-9da1-4569-f8ec-fde40202219b"
      },
      "source": [
        "tests"
      ],
      "execution_count": null,
      "outputs": [
        {
          "output_type": "execute_result",
          "data": {
            "text/plain": [
              "[     HOME_TEAM_ID VISITOR_TEAM_ID  FG_PCT_diff  ...  AST_diff  REB_diff HOME_TEAM_WINS\n",
              " 0             PHI             WAS     0.008917  ...        -2         1              1\n",
              " 1             NYK             ATL     0.052083  ...         0        -1              1\n",
              " 2             UTA             MEM     0.011500  ...        -8        -9              1\n",
              " 3             BKN             BOS    -0.042417  ...         1        -1              1\n",
              " 4             PHX             LAL     0.037583  ...         4         6              0\n",
              " ...           ...             ...          ...  ...       ...       ...            ...\n",
              " 1201          ATL             ORL     0.016833  ...         1         3              0\n",
              " 1202          DET             NYK    -0.052250  ...        -1        -7              0\n",
              " 1203          CHI             HOU     0.013917  ...         2         8              0\n",
              " 1204          LAL             LAC     0.039333  ...         4         4              1\n",
              " 1205          POR             SAC    -0.072583  ...       -10        -2              1\n",
              " \n",
              " [1206 rows x 8 columns],\n",
              "      HOME_TEAM_ID VISITOR_TEAM_ID  FG_PCT_diff  ...  AST_diff  REB_diff HOME_TEAM_WINS\n",
              " 0             PHI             WAS     0.025600  ...         1         0              1\n",
              " 1             NYK             ATL     0.043229  ...        -2         2              1\n",
              " 2             UTA             MEM     0.017375  ...        -3        -5              1\n",
              " 3             BKN             BOS    -0.008258  ...         3        -2              1\n",
              " 4             PHX             LAL     0.002300  ...         2         4              0\n",
              " ...           ...             ...          ...  ...       ...       ...            ...\n",
              " 1201          ATL             ORL     0.019771  ...         4         1              0\n",
              " 1202          DET             NYK    -0.041610  ...         1        -8              0\n",
              " 1203          CHI             HOU     0.031179  ...         3        -1              0\n",
              " 1204          LAL             LAC     0.002800  ...         3        -2              1\n",
              " 1205          POR             SAC    -0.021100  ...        -6        -2              1\n",
              " \n",
              " [1206 rows x 8 columns],\n",
              "      HOME_TEAM_ID VISITOR_TEAM_ID  FG_PCT_diff  ...  AST_diff  REB_diff HOME_TEAM_WINS\n",
              " 0             PHI             WAS     0.023119  ...         1         4              1\n",
              " 1             NYK             ATL     0.015824  ...        -2         3              1\n",
              " 2             UTA             MEM     0.009746  ...        -4        -7              1\n",
              " 3             BKN             BOS    -0.011929  ...         2        -1              1\n",
              " 4             PHX             LAL    -0.015702  ...         1         0              0\n",
              " ...           ...             ...          ...  ...       ...       ...            ...\n",
              " 1201          ATL             ORL     0.007923  ...         2         1              0\n",
              " 1202          DET             NYK    -0.038250  ...        -1        -6              0\n",
              " 1203          CHI             HOU     0.036553  ...         2         1              0\n",
              " 1204          LAL             LAC     0.017657  ...         4        -1              1\n",
              " 1205          POR             SAC    -0.015630  ...        -3        -1              1\n",
              " \n",
              " [1206 rows x 8 columns],\n",
              "      HOME_TEAM_ID VISITOR_TEAM_ID  FG_PCT_diff  ...  AST_diff  REB_diff HOME_TEAM_WINS\n",
              " 0             PHI             WAS     0.011532  ...         0         4              1\n",
              " 1             NYK             ATL     0.006972  ...        -2         3              1\n",
              " 2             UTA             MEM     0.014068  ...        -3        -6              1\n",
              " 3             BKN             BOS    -0.017113  ...         2         1              1\n",
              " 4             PHX             LAL     0.002130  ...         3        -1              0\n",
              " ...           ...             ...          ...  ...       ...       ...            ...\n",
              " 1201          ATL             ORL    -0.000484  ...        -1         0              0\n",
              " 1202          DET             NYK    -0.011094  ...         1        -6              0\n",
              " 1203          CHI             HOU     0.030500  ...         1        -1              0\n",
              " 1204          LAL             LAC     0.002280  ...         2        -1              1\n",
              " 1205          POR             SAC    -0.010400  ...        -4         2              1\n",
              " \n",
              " [1206 rows x 8 columns],\n",
              "      HOME_TEAM_ID VISITOR_TEAM_ID  FG_PCT_diff  ...  AST_diff  REB_diff HOME_TEAM_WINS\n",
              " 0             PHI             WAS     0.004633  ...         0         4              1\n",
              " 1             NYK             ATL     0.013311  ...        -1         3              1\n",
              " 2             UTA             MEM     0.005001  ...        -3        -4              1\n",
              " 3             BKN             BOS    -0.009709  ...         3         0              1\n",
              " 4             PHX             LAL    -0.004487  ...         2        -1              0\n",
              " ...           ...             ...          ...  ...       ...       ...            ...\n",
              " 1201          ATL             ORL     0.001966  ...        -1         0              0\n",
              " 1202          DET             NYK    -0.010300  ...         1        -6              0\n",
              " 1203          CHI             HOU     0.019679  ...         1         1              0\n",
              " 1204          LAL             LAC     0.005336  ...         1        -2              1\n",
              " 1205          POR             SAC    -0.003313  ...        -4         1              1\n",
              " \n",
              " [1206 rows x 8 columns],\n",
              "      HOME_TEAM_ID VISITOR_TEAM_ID  FG_PCT_diff  ...  AST_diff  REB_diff HOME_TEAM_WINS\n",
              " 0             PHI             WAS     0.010178  ...         2         3              1\n",
              " 1             NYK             ATL     0.005000  ...        -1         3              1\n",
              " 2             UTA             MEM     0.004046  ...        -4        -4              1\n",
              " 3             BKN             BOS    -0.018926  ...         2         1              1\n",
              " 4             PHX             LAL    -0.009316  ...         1        -1              0\n",
              " ...           ...             ...          ...  ...       ...       ...            ...\n",
              " 1201          ATL             ORL     0.003161  ...        -1         0              0\n",
              " 1202          DET             NYK     0.002634  ...         1        -5              0\n",
              " 1203          CHI             HOU     0.009880  ...         1         0              0\n",
              " 1204          LAL             LAC     0.013534  ...         2        -1              1\n",
              " 1205          POR             SAC    -0.005068  ...        -4         1              1\n",
              " \n",
              " [1206 rows x 8 columns]]"
            ]
          },
          "metadata": {},
          "execution_count": 69
        }
      ]
    },
    {
      "cell_type": "code",
      "metadata": {
        "id": "Gdb7-qlCiwhD"
      },
      "source": [
        "diff = (team_avgs['PHI'] - team_avgs['WAS'])"
      ],
      "execution_count": null,
      "outputs": []
    },
    {
      "cell_type": "code",
      "metadata": {
        "colab": {
          "base_uri": "https://localhost:8080/",
          "height": 80
        },
        "id": "d9HOryh9qpHI",
        "outputId": "638cc8c5-36ad-459e-9552-a0c5d1b13d44"
      },
      "source": [
        "diff"
      ],
      "execution_count": null,
      "outputs": [
        {
          "output_type": "execute_result",
          "data": {
            "text/html": [
              "<div>\n",
              "<style scoped>\n",
              "    .dataframe tbody tr th:only-of-type {\n",
              "        vertical-align: middle;\n",
              "    }\n",
              "\n",
              "    .dataframe tbody tr th {\n",
              "        vertical-align: top;\n",
              "    }\n",
              "\n",
              "    .dataframe thead th {\n",
              "        text-align: right;\n",
              "    }\n",
              "</style>\n",
              "<table border=\"1\" class=\"dataframe\">\n",
              "  <thead>\n",
              "    <tr style=\"text-align: right;\">\n",
              "      <th></th>\n",
              "      <th>FG_PCT_avg</th>\n",
              "      <th>FT_PCT_avg</th>\n",
              "      <th>FG3_PCT_avg</th>\n",
              "      <th>AST_avg</th>\n",
              "      <th>REB_avg</th>\n",
              "    </tr>\n",
              "  </thead>\n",
              "  <tbody>\n",
              "    <tr>\n",
              "      <th>0</th>\n",
              "      <td>-0.004099</td>\n",
              "      <td>-0.021629</td>\n",
              "      <td>0.006946</td>\n",
              "      <td>0</td>\n",
              "      <td>-2</td>\n",
              "    </tr>\n",
              "  </tbody>\n",
              "</table>\n",
              "</div>"
            ],
            "text/plain": [
              "   FG_PCT_avg  FT_PCT_avg  FG3_PCT_avg  AST_avg  REB_avg\n",
              "0   -0.004099   -0.021629     0.006946        0       -2"
            ]
          },
          "metadata": {},
          "execution_count": 136
        }
      ]
    },
    {
      "cell_type": "code",
      "metadata": {
        "id": "MAn21jlkqbro"
      },
      "source": [
        "X_test_1 = pd.DataFrame([[diff['FG_PCT_avg'][0], diff['FT_PCT_avg'][0], diff['FG3_PCT_avg'][0], diff['AST_avg'][0], diff['REB_avg'][0]]], columns=['FG_PCT_diff', 'FT_PCT_diff', 'FG3_PCT_diff', 'AST_diff', 'REB_diff'])"
      ],
      "execution_count": null,
      "outputs": []
    },
    {
      "cell_type": "code",
      "metadata": {
        "colab": {
          "base_uri": "https://localhost:8080/"
        },
        "id": "jlxgmvZ_p2yz",
        "outputId": "035614e9-6171-4d3c-fb29-ad6812e8a921"
      },
      "source": [
        "rfc.predict(X_test_1)[0]"
      ],
      "execution_count": null,
      "outputs": [
        {
          "output_type": "execute_result",
          "data": {
            "text/plain": [
              "1"
            ]
          },
          "metadata": {},
          "execution_count": 138
        }
      ]
    },
    {
      "cell_type": "code",
      "metadata": {
        "colab": {
          "base_uri": "https://localhost:8080/"
        },
        "id": "GmpOujldeAmz",
        "outputId": "3c387f1c-ebbc-4214-f4d7-1ab02ebcebeb"
      },
      "source": [
        "res = []\n",
        "for test in tests:\n",
        "  X_test = test[['FG_PCT_diff', 'FT_PCT_diff', 'FG3_PCT_diff', 'AST_diff', 'REB_diff']]\n",
        "  y_test = test['HOME_TEAM_WINS']\n",
        "  pred = rfc.predict(X_test)\n",
        "  pred_l = pred.tolist()\n",
        "  y_test_l = y_test.tolist()\n",
        "  cm = confusion_matrix(y_test_l, pred_l)\n",
        "  #   0 1\n",
        "  # 0\n",
        "  # 1\n",
        "  tot = np.sum(cm)\n",
        "  acc = (cm[0][0] + cm[1][1]) / tot\n",
        "  print(acc)\n",
        "  res.append(acc)"
      ],
      "execution_count": null,
      "outputs": [
        {
          "output_type": "stream",
          "name": "stdout",
          "text": [
            "0.5456053067993366\n",
            "0.5679933665008292\n",
            "0.5505804311774462\n",
            "0.5630182421227198\n",
            "0.5713101160862355\n",
            "0.5754560530679934\n",
            "0.5646766169154229\n",
            "0.5696517412935324\n",
            "0.560530679933665\n"
          ]
        }
      ]
    },
    {
      "cell_type": "code",
      "metadata": {
        "id": "JaL6Ctv9pYb9"
      },
      "source": [
        "X_test = test[['FG_PCT_diff', 'FT_PCT_diff', 'FG3_PCT_diff', 'AST_diff', 'REB_diff']]\n",
        "y_test = test['HOME_TEAM_WINS']"
      ],
      "execution_count": null,
      "outputs": []
    },
    {
      "cell_type": "code",
      "metadata": {
        "id": "TjYaKSVopuHx"
      },
      "source": [
        "pred = rfc.predict(X_test)"
      ],
      "execution_count": null,
      "outputs": []
    },
    {
      "cell_type": "code",
      "metadata": {
        "colab": {
          "base_uri": "https://localhost:8080/"
        },
        "id": "SSCIjCpuqBMS",
        "outputId": "4c01d06d-9bc2-4ac7-e087-b9875354f905"
      },
      "source": [
        "type(pred)"
      ],
      "execution_count": null,
      "outputs": [
        {
          "output_type": "execute_result",
          "data": {
            "text/plain": [
              "numpy.ndarray"
            ]
          },
          "metadata": {},
          "execution_count": 142
        }
      ]
    },
    {
      "cell_type": "code",
      "metadata": {
        "colab": {
          "base_uri": "https://localhost:8080/"
        },
        "id": "30tF_EmDqHKT",
        "outputId": "b7cfd8e9-6f16-4020-b49f-3e0892ecc364"
      },
      "source": [
        "y_test.to_numpy()"
      ],
      "execution_count": null,
      "outputs": [
        {
          "output_type": "execute_result",
          "data": {
            "text/plain": [
              "array([1, 1, 1, ..., 0, 1, 1], dtype=object)"
            ]
          },
          "metadata": {},
          "execution_count": 143
        }
      ]
    },
    {
      "cell_type": "code",
      "metadata": {
        "colab": {
          "base_uri": "https://localhost:8080/"
        },
        "id": "ZXTqklutqVUI",
        "outputId": "f4703e9e-64c0-4750-ee4e-2c986839c5ae"
      },
      "source": [
        "np.unique(y_test.to_numpy())"
      ],
      "execution_count": null,
      "outputs": [
        {
          "output_type": "execute_result",
          "data": {
            "text/plain": [
              "array([0, 1], dtype=object)"
            ]
          },
          "metadata": {},
          "execution_count": 144
        }
      ]
    },
    {
      "cell_type": "code",
      "metadata": {
        "colab": {
          "base_uri": "https://localhost:8080/"
        },
        "id": "an9Sc_3dq45G",
        "outputId": "7ad6078a-695a-4b3a-c267-266504ea4cd4"
      },
      "source": [
        "x = np.array(pred)\n",
        "x"
      ],
      "execution_count": null,
      "outputs": [
        {
          "output_type": "execute_result",
          "data": {
            "text/plain": [
              "array([1, 0, 1, ..., 1, 0, 0])"
            ]
          },
          "metadata": {},
          "execution_count": 145
        }
      ]
    },
    {
      "cell_type": "code",
      "metadata": {
        "id": "nOVBTxcfwNrt"
      },
      "source": [
        "pred_l = pred.tolist()\n",
        "y_test_l = y_test.tolist()"
      ],
      "execution_count": null,
      "outputs": []
    },
    {
      "cell_type": "code",
      "metadata": {
        "colab": {
          "base_uri": "https://localhost:8080/"
        },
        "id": "tCj8rImOwX3J",
        "outputId": "38937292-eb76-4eba-8959-cfc05f1a1178"
      },
      "source": [
        "cm = confusion_matrix(y_test_l, pred_l)\n",
        "#   0 1\n",
        "# 0\n",
        "# 1\n",
        "tot = np.sum(cm)\n",
        "print((cm[0][0] + cm[1][1]) / tot)"
      ],
      "execution_count": null,
      "outputs": [
        {
          "output_type": "stream",
          "name": "stdout",
          "text": [
            "0.533167495854063\n"
          ]
        }
      ]
    },
    {
      "cell_type": "code",
      "metadata": {
        "colab": {
          "base_uri": "https://localhost:8080/",
          "height": 279
        },
        "id": "s7zBxCiKqdag",
        "outputId": "eec14140-c8e0-4f3b-ab1f-74c6d368c0db"
      },
      "source": [
        "from matplotlib import pyplot as plt\n",
        "\n",
        "plt.plot([5, 10, 20, 30, 40, 50, 60, 70, 80], res)\n",
        "plt.xlabel(\"number of past games\")\n",
        "plt.ylabel(\"percent accuracy\")\n",
        "#plt.xlim([0.2,0.8])\n",
        "plt.show()"
      ],
      "execution_count": null,
      "outputs": [
        {
          "output_type": "display_data",
          "data": {
            "image/png": "[encoded data removed]",
            "text/plain": [
              "<Figure size 432x288 with 1 Axes>"
            ]
          },
          "metadata": {
            "needs_background": "light"
          }
        }
      ]
    },
    {
      "cell_type": "markdown",
      "metadata": {
        "id": "KvYQ6JwDixNz"
      },
      "source": [
        "# Below is irrelevant"
      ]
    },
    {
      "cell_type": "markdown",
      "metadata": {
        "id": "zZhiU660fzgU"
      },
      "source": [
        "## Reading in ranking.csv"
      ]
    },
    {
      "cell_type": "code",
      "metadata": {
        "id": "R8zmCOepWED5"
      },
      "source": [
        "path = '/content/drive/Shareddrives/CS 584/notebooks/ranking.csv'\n",
        "data = []\n",
        "with open(path, newline='') as f:\n",
        "    reader = csv.reader(f)\n",
        "    data = list(reader)\n",
        "df_rank = pd.DataFrame(columns=data[0])\n",
        "num_rows = len(data)\n",
        "for i in range(1, num_rows):\n",
        "  df_rank.loc[i] = data[i]"
      ],
      "execution_count": null,
      "outputs": []
    },
    {
      "cell_type": "markdown",
      "metadata": {
        "id": "L-JxlmJvLmeG"
      },
      "source": [
        "## Reading in player per game data\n",
        "\n",
        "https://www.basketball-reference.com/leagues/NBA_2021_per_game.html"
      ]
    },
    {
      "cell_type": "markdown",
      "metadata": {
        "id": "10UCkGPKEcSl"
      },
      "source": [
        "I tried taking in the file using the URL method but it was running into trouble with reading in the data. So I resorted to downloading it, reading in the txt file as a csv and using the csv library to turn the string into a list of lists."
      ]
    },
    {
      "cell_type": "code",
      "metadata": {
        "id": "fJkl7BGRXjP4",
        "colab": {
          "base_uri": "https://localhost:8080/",
          "height": 229
        },
        "outputId": "b51cb0db-c427-4d4f-f85d-c4283fb62330"
      },
      "source": [
        "path = '/content/drive/Shareddrives/CS 584/notebooks/2020_2021.txt'\n",
        "data = []\n",
        "with open(path, newline='') as f:\n",
        "    reader = csv.reader(f)\n",
        "    data = list(reader)\n"
      ],
      "execution_count": null,
      "outputs": [
        {
          "output_type": "error",
          "ename": "FileNotFoundError",
          "evalue": "ignored",
          "traceback": [
            "\u001b[0;31m---------------------------------------------------------------------------\u001b[0m",
            "\u001b[0;31mFileNotFoundError\u001b[0m                         Traceback (most recent call last)",
            "\u001b[0;32m<ipython-input-2-3ff550ca0772>\u001b[0m in \u001b[0;36m<module>\u001b[0;34m()\u001b[0m\n\u001b[1;32m      1\u001b[0m \u001b[0mpath\u001b[0m \u001b[0;34m=\u001b[0m \u001b[0;34m'/content/drive/Shareddrives/CS 584/notebooks/2020_2021.txt'\u001b[0m\u001b[0;34m\u001b[0m\u001b[0;34m\u001b[0m\u001b[0m\n\u001b[1;32m      2\u001b[0m \u001b[0mdata\u001b[0m \u001b[0;34m=\u001b[0m \u001b[0;34m[\u001b[0m\u001b[0;34m]\u001b[0m\u001b[0;34m\u001b[0m\u001b[0;34m\u001b[0m\u001b[0m\n\u001b[0;32m----> 3\u001b[0;31m \u001b[0;32mwith\u001b[0m \u001b[0mopen\u001b[0m\u001b[0;34m(\u001b[0m\u001b[0mpath\u001b[0m\u001b[0;34m,\u001b[0m \u001b[0mnewline\u001b[0m\u001b[0;34m=\u001b[0m\u001b[0;34m''\u001b[0m\u001b[0;34m)\u001b[0m \u001b[0;32mas\u001b[0m \u001b[0mf\u001b[0m\u001b[0;34m:\u001b[0m\u001b[0;34m\u001b[0m\u001b[0;34m\u001b[0m\u001b[0m\n\u001b[0m\u001b[1;32m      4\u001b[0m     \u001b[0mreader\u001b[0m \u001b[0;34m=\u001b[0m \u001b[0mcsv\u001b[0m\u001b[0;34m.\u001b[0m\u001b[0mreader\u001b[0m\u001b[0;34m(\u001b[0m\u001b[0mf\u001b[0m\u001b[0;34m)\u001b[0m\u001b[0;34m\u001b[0m\u001b[0;34m\u001b[0m\u001b[0m\n\u001b[1;32m      5\u001b[0m     \u001b[0mdata\u001b[0m \u001b[0;34m=\u001b[0m \u001b[0mlist\u001b[0m\u001b[0;34m(\u001b[0m\u001b[0mreader\u001b[0m\u001b[0;34m)\u001b[0m\u001b[0;34m\u001b[0m\u001b[0;34m\u001b[0m\u001b[0m\n",
            "\u001b[0;31mFileNotFoundError\u001b[0m: [Errno 2] No such file or directory: '/content/drive/Shareddrives/CS 584/notebooks/2020_2021.txt'"
          ]
        }
      ]
    },
    {
      "cell_type": "code",
      "metadata": {
        "colab": {
          "base_uri": "https://localhost:8080/"
        },
        "id": "_170qF6FthkM",
        "outputId": "d7677f70-fbe3-4914-b821-f8c42589489b"
      },
      "source": [
        "data[0]"
      ],
      "execution_count": null,
      "outputs": [
        {
          "output_type": "execute_result",
          "data": {
            "text/plain": [
              "['Rk',\n",
              " 'Player',\n",
              " 'Pos',\n",
              " 'Age',\n",
              " 'Tm',\n",
              " 'G',\n",
              " 'GS',\n",
              " 'MP',\n",
              " 'FG',\n",
              " 'FGA',\n",
              " 'FG%',\n",
              " '3P',\n",
              " '3PA',\n",
              " '3P%',\n",
              " '2P',\n",
              " '2PA',\n",
              " '2P%',\n",
              " 'eFG%',\n",
              " 'FT',\n",
              " 'FTA',\n",
              " 'FT%',\n",
              " 'ORB',\n",
              " 'DRB',\n",
              " 'TRB',\n",
              " 'AST',\n",
              " 'STL',\n",
              " 'BLK',\n",
              " 'TOV',\n",
              " 'PF',\n",
              " 'PTS']"
            ]
          },
          "metadata": {},
          "execution_count": 3
        }
      ]
    },
    {
      "cell_type": "code",
      "metadata": {
        "id": "_fqtzU96X69T"
      },
      "source": [
        "df_pergame = pd.DataFrame(columns=data[0])"
      ],
      "execution_count": null,
      "outputs": []
    },
    {
      "cell_type": "code",
      "metadata": {
        "id": "yUhUDo1gYXyV"
      },
      "source": [
        "num_rows = len(data)\n",
        "for i in range(1, num_rows):\n",
        "  df_pergame.loc[i] = data[i]"
      ],
      "execution_count": null,
      "outputs": []
    },
    {
      "cell_type": "code",
      "metadata": {
        "colab": {
          "base_uri": "https://localhost:8080/",
          "height": 605
        },
        "id": "2tXecAlWFs3C",
        "outputId": "026b79be-b9fd-4e14-d224-e5209c07c4b8"
      },
      "source": [
        "df_pergame"
      ],
      "execution_count": null,
      "outputs": [
        {
          "output_type": "execute_result",
          "data": {
            "text/html": [
              "<div>\n",
              "<style scoped>\n",
              "    .dataframe tbody tr th:only-of-type {\n",
              "        vertical-align: middle;\n",
              "    }\n",
              "\n",
              "    .dataframe tbody tr th {\n",
              "        vertical-align: top;\n",
              "    }\n",
              "\n",
              "    .dataframe thead th {\n",
              "        text-align: right;\n",
              "    }\n",
              "</style>\n",
              "<table border=\"1\" class=\"dataframe\">\n",
              "  <thead>\n",
              "    <tr style=\"text-align: right;\">\n",
              "      <th></th>\n",
              "      <th>Rk</th>\n",
              "      <th>Player</th>\n",
              "      <th>Pos</th>\n",
              "      <th>Age</th>\n",
              "      <th>Tm</th>\n",
              "      <th>G</th>\n",
              "      <th>GS</th>\n",
              "      <th>MP</th>\n",
              "      <th>FG</th>\n",
              "      <th>FGA</th>\n",
              "      <th>FG%</th>\n",
              "      <th>3P</th>\n",
              "      <th>3PA</th>\n",
              "      <th>3P%</th>\n",
              "      <th>2P</th>\n",
              "      <th>2PA</th>\n",
              "      <th>2P%</th>\n",
              "      <th>eFG%</th>\n",
              "      <th>FT</th>\n",
              "      <th>FTA</th>\n",
              "      <th>FT%</th>\n",
              "      <th>ORB</th>\n",
              "      <th>DRB</th>\n",
              "      <th>TRB</th>\n",
              "      <th>AST</th>\n",
              "      <th>STL</th>\n",
              "      <th>BLK</th>\n",
              "      <th>TOV</th>\n",
              "      <th>PF</th>\n",
              "      <th>PTS</th>\n",
              "    </tr>\n",
              "  </thead>\n",
              "  <tbody>\n",
              "    <tr>\n",
              "      <th>1</th>\n",
              "      <td>1</td>\n",
              "      <td>Precious Achiuwa\\achiupr01</td>\n",
              "      <td>PF</td>\n",
              "      <td>21</td>\n",
              "      <td>MIA</td>\n",
              "      <td>61</td>\n",
              "      <td>4</td>\n",
              "      <td>12.1</td>\n",
              "      <td>2.0</td>\n",
              "      <td>3.7</td>\n",
              "      <td>.544</td>\n",
              "      <td>0.0</td>\n",
              "      <td>0.0</td>\n",
              "      <td>.000</td>\n",
              "      <td>2.0</td>\n",
              "      <td>3.7</td>\n",
              "      <td>.546</td>\n",
              "      <td>.544</td>\n",
              "      <td>0.9</td>\n",
              "      <td>1.8</td>\n",
              "      <td>.509</td>\n",
              "      <td>1.2</td>\n",
              "      <td>2.2</td>\n",
              "      <td>3.4</td>\n",
              "      <td>0.5</td>\n",
              "      <td>0.3</td>\n",
              "      <td>0.5</td>\n",
              "      <td>0.7</td>\n",
              "      <td>1.5</td>\n",
              "      <td>5.0</td>\n",
              "    </tr>\n",
              "    <tr>\n",
              "      <th>2</th>\n",
              "      <td>2</td>\n",
              "      <td>Jaylen Adams\\adamsja01</td>\n",
              "      <td>PG</td>\n",
              "      <td>24</td>\n",
              "      <td>MIL</td>\n",
              "      <td>7</td>\n",
              "      <td>0</td>\n",
              "      <td>2.6</td>\n",
              "      <td>0.1</td>\n",
              "      <td>1.1</td>\n",
              "      <td>.125</td>\n",
              "      <td>0.0</td>\n",
              "      <td>0.3</td>\n",
              "      <td>.000</td>\n",
              "      <td>0.1</td>\n",
              "      <td>0.9</td>\n",
              "      <td>.167</td>\n",
              "      <td>.125</td>\n",
              "      <td>0.0</td>\n",
              "      <td>0.0</td>\n",
              "      <td></td>\n",
              "      <td>0.0</td>\n",
              "      <td>0.4</td>\n",
              "      <td>0.4</td>\n",
              "      <td>0.3</td>\n",
              "      <td>0.0</td>\n",
              "      <td>0.0</td>\n",
              "      <td>0.0</td>\n",
              "      <td>0.1</td>\n",
              "      <td>0.3</td>\n",
              "    </tr>\n",
              "    <tr>\n",
              "      <th>3</th>\n",
              "      <td>3</td>\n",
              "      <td>Steven Adams\\adamsst01</td>\n",
              "      <td>C</td>\n",
              "      <td>27</td>\n",
              "      <td>NOP</td>\n",
              "      <td>58</td>\n",
              "      <td>58</td>\n",
              "      <td>27.7</td>\n",
              "      <td>3.3</td>\n",
              "      <td>5.3</td>\n",
              "      <td>.614</td>\n",
              "      <td>0.0</td>\n",
              "      <td>0.1</td>\n",
              "      <td>.000</td>\n",
              "      <td>3.3</td>\n",
              "      <td>5.3</td>\n",
              "      <td>.620</td>\n",
              "      <td>.614</td>\n",
              "      <td>1.0</td>\n",
              "      <td>2.3</td>\n",
              "      <td>.444</td>\n",
              "      <td>3.7</td>\n",
              "      <td>5.2</td>\n",
              "      <td>8.9</td>\n",
              "      <td>1.9</td>\n",
              "      <td>0.9</td>\n",
              "      <td>0.7</td>\n",
              "      <td>1.3</td>\n",
              "      <td>1.9</td>\n",
              "      <td>7.6</td>\n",
              "    </tr>\n",
              "    <tr>\n",
              "      <th>4</th>\n",
              "      <td>4</td>\n",
              "      <td>Bam Adebayo\\adebaba01</td>\n",
              "      <td>C</td>\n",
              "      <td>23</td>\n",
              "      <td>MIA</td>\n",
              "      <td>64</td>\n",
              "      <td>64</td>\n",
              "      <td>33.5</td>\n",
              "      <td>7.1</td>\n",
              "      <td>12.5</td>\n",
              "      <td>.570</td>\n",
              "      <td>0.0</td>\n",
              "      <td>0.1</td>\n",
              "      <td>.250</td>\n",
              "      <td>7.1</td>\n",
              "      <td>12.4</td>\n",
              "      <td>.573</td>\n",
              "      <td>.571</td>\n",
              "      <td>4.4</td>\n",
              "      <td>5.5</td>\n",
              "      <td>.799</td>\n",
              "      <td>2.2</td>\n",
              "      <td>6.7</td>\n",
              "      <td>9.0</td>\n",
              "      <td>5.4</td>\n",
              "      <td>1.2</td>\n",
              "      <td>1.0</td>\n",
              "      <td>2.6</td>\n",
              "      <td>2.3</td>\n",
              "      <td>18.7</td>\n",
              "    </tr>\n",
              "    <tr>\n",
              "      <th>5</th>\n",
              "      <td>5</td>\n",
              "      <td>LaMarcus Aldridge\\aldrila01</td>\n",
              "      <td>C</td>\n",
              "      <td>35</td>\n",
              "      <td>TOT</td>\n",
              "      <td>26</td>\n",
              "      <td>23</td>\n",
              "      <td>25.9</td>\n",
              "      <td>5.4</td>\n",
              "      <td>11.4</td>\n",
              "      <td>.473</td>\n",
              "      <td>1.2</td>\n",
              "      <td>3.1</td>\n",
              "      <td>.388</td>\n",
              "      <td>4.2</td>\n",
              "      <td>8.3</td>\n",
              "      <td>.505</td>\n",
              "      <td>.525</td>\n",
              "      <td>1.6</td>\n",
              "      <td>1.8</td>\n",
              "      <td>.872</td>\n",
              "      <td>0.7</td>\n",
              "      <td>3.8</td>\n",
              "      <td>4.5</td>\n",
              "      <td>1.9</td>\n",
              "      <td>0.4</td>\n",
              "      <td>1.1</td>\n",
              "      <td>1.0</td>\n",
              "      <td>1.8</td>\n",
              "      <td>13.5</td>\n",
              "    </tr>\n",
              "    <tr>\n",
              "      <th>...</th>\n",
              "      <td>...</td>\n",
              "      <td>...</td>\n",
              "      <td>...</td>\n",
              "      <td>...</td>\n",
              "      <td>...</td>\n",
              "      <td>...</td>\n",
              "      <td>...</td>\n",
              "      <td>...</td>\n",
              "      <td>...</td>\n",
              "      <td>...</td>\n",
              "      <td>...</td>\n",
              "      <td>...</td>\n",
              "      <td>...</td>\n",
              "      <td>...</td>\n",
              "      <td>...</td>\n",
              "      <td>...</td>\n",
              "      <td>...</td>\n",
              "      <td>...</td>\n",
              "      <td>...</td>\n",
              "      <td>...</td>\n",
              "      <td>...</td>\n",
              "      <td>...</td>\n",
              "      <td>...</td>\n",
              "      <td>...</td>\n",
              "      <td>...</td>\n",
              "      <td>...</td>\n",
              "      <td>...</td>\n",
              "      <td>...</td>\n",
              "      <td>...</td>\n",
              "      <td>...</td>\n",
              "    </tr>\n",
              "    <tr>\n",
              "      <th>701</th>\n",
              "      <td>536</td>\n",
              "      <td>Delon Wright\\wrighde01</td>\n",
              "      <td>PG</td>\n",
              "      <td>28</td>\n",
              "      <td>SAC</td>\n",
              "      <td>27</td>\n",
              "      <td>8</td>\n",
              "      <td>25.8</td>\n",
              "      <td>3.9</td>\n",
              "      <td>8.3</td>\n",
              "      <td>.462</td>\n",
              "      <td>1.2</td>\n",
              "      <td>3.1</td>\n",
              "      <td>.398</td>\n",
              "      <td>2.6</td>\n",
              "      <td>5.3</td>\n",
              "      <td>.500</td>\n",
              "      <td>.536</td>\n",
              "      <td>1.1</td>\n",
              "      <td>1.3</td>\n",
              "      <td>.833</td>\n",
              "      <td>1.0</td>\n",
              "      <td>2.9</td>\n",
              "      <td>3.9</td>\n",
              "      <td>3.6</td>\n",
              "      <td>1.6</td>\n",
              "      <td>0.4</td>\n",
              "      <td>1.3</td>\n",
              "      <td>1.1</td>\n",
              "      <td>10.0</td>\n",
              "    </tr>\n",
              "    <tr>\n",
              "      <th>702</th>\n",
              "      <td>537</td>\n",
              "      <td>Thaddeus Young\\youngth01</td>\n",
              "      <td>PF</td>\n",
              "      <td>32</td>\n",
              "      <td>CHI</td>\n",
              "      <td>68</td>\n",
              "      <td>23</td>\n",
              "      <td>24.3</td>\n",
              "      <td>5.4</td>\n",
              "      <td>9.7</td>\n",
              "      <td>.559</td>\n",
              "      <td>0.2</td>\n",
              "      <td>0.7</td>\n",
              "      <td>.267</td>\n",
              "      <td>5.3</td>\n",
              "      <td>9.1</td>\n",
              "      <td>.580</td>\n",
              "      <td>.568</td>\n",
              "      <td>1.0</td>\n",
              "      <td>1.7</td>\n",
              "      <td>.628</td>\n",
              "      <td>2.5</td>\n",
              "      <td>3.8</td>\n",
              "      <td>6.2</td>\n",
              "      <td>4.3</td>\n",
              "      <td>1.1</td>\n",
              "      <td>0.6</td>\n",
              "      <td>2.0</td>\n",
              "      <td>2.2</td>\n",
              "      <td>12.1</td>\n",
              "    </tr>\n",
              "    <tr>\n",
              "      <th>703</th>\n",
              "      <td>538</td>\n",
              "      <td>Trae Young\\youngtr01</td>\n",
              "      <td>PG</td>\n",
              "      <td>22</td>\n",
              "      <td>ATL</td>\n",
              "      <td>63</td>\n",
              "      <td>63</td>\n",
              "      <td>33.7</td>\n",
              "      <td>7.7</td>\n",
              "      <td>17.7</td>\n",
              "      <td>.438</td>\n",
              "      <td>2.2</td>\n",
              "      <td>6.3</td>\n",
              "      <td>.343</td>\n",
              "      <td>5.6</td>\n",
              "      <td>11.3</td>\n",
              "      <td>.491</td>\n",
              "      <td>.499</td>\n",
              "      <td>7.7</td>\n",
              "      <td>8.7</td>\n",
              "      <td>.886</td>\n",
              "      <td>0.6</td>\n",
              "      <td>3.3</td>\n",
              "      <td>3.9</td>\n",
              "      <td>9.4</td>\n",
              "      <td>0.8</td>\n",
              "      <td>0.2</td>\n",
              "      <td>4.1</td>\n",
              "      <td>1.8</td>\n",
              "      <td>25.3</td>\n",
              "    </tr>\n",
              "    <tr>\n",
              "      <th>704</th>\n",
              "      <td>539</td>\n",
              "      <td>Cody Zeller\\zelleco01</td>\n",
              "      <td>C</td>\n",
              "      <td>28</td>\n",
              "      <td>CHO</td>\n",
              "      <td>48</td>\n",
              "      <td>21</td>\n",
              "      <td>20.9</td>\n",
              "      <td>3.8</td>\n",
              "      <td>6.8</td>\n",
              "      <td>.559</td>\n",
              "      <td>0.1</td>\n",
              "      <td>0.6</td>\n",
              "      <td>.143</td>\n",
              "      <td>3.7</td>\n",
              "      <td>6.2</td>\n",
              "      <td>.598</td>\n",
              "      <td>.565</td>\n",
              "      <td>1.8</td>\n",
              "      <td>2.5</td>\n",
              "      <td>.714</td>\n",
              "      <td>2.5</td>\n",
              "      <td>4.4</td>\n",
              "      <td>6.8</td>\n",
              "      <td>1.8</td>\n",
              "      <td>0.6</td>\n",
              "      <td>0.4</td>\n",
              "      <td>1.1</td>\n",
              "      <td>2.5</td>\n",
              "      <td>9.4</td>\n",
              "    </tr>\n",
              "    <tr>\n",
              "      <th>705</th>\n",
              "      <td>540</td>\n",
              "      <td>Ivica Zubac\\zubaciv01</td>\n",
              "      <td>C</td>\n",
              "      <td>23</td>\n",
              "      <td>LAC</td>\n",
              "      <td>72</td>\n",
              "      <td>33</td>\n",
              "      <td>22.3</td>\n",
              "      <td>3.6</td>\n",
              "      <td>5.5</td>\n",
              "      <td>.652</td>\n",
              "      <td>0.0</td>\n",
              "      <td>0.1</td>\n",
              "      <td>.250</td>\n",
              "      <td>3.6</td>\n",
              "      <td>5.4</td>\n",
              "      <td>.656</td>\n",
              "      <td>.654</td>\n",
              "      <td>1.9</td>\n",
              "      <td>2.4</td>\n",
              "      <td>.789</td>\n",
              "      <td>2.6</td>\n",
              "      <td>4.6</td>\n",
              "      <td>7.2</td>\n",
              "      <td>1.3</td>\n",
              "      <td>0.3</td>\n",
              "      <td>0.9</td>\n",
              "      <td>1.1</td>\n",
              "      <td>2.6</td>\n",
              "      <td>9.0</td>\n",
              "    </tr>\n",
              "  </tbody>\n",
              "</table>\n",
              "<p>705 rows × 30 columns</p>\n",
              "</div>"
            ],
            "text/plain": [
              "      Rk                       Player Pos Age   Tm  ...  STL  BLK  TOV   PF   PTS\n",
              "1      1   Precious Achiuwa\\achiupr01  PF  21  MIA  ...  0.3  0.5  0.7  1.5   5.0\n",
              "2      2       Jaylen Adams\\adamsja01  PG  24  MIL  ...  0.0  0.0  0.0  0.1   0.3\n",
              "3      3       Steven Adams\\adamsst01   C  27  NOP  ...  0.9  0.7  1.3  1.9   7.6\n",
              "4      4        Bam Adebayo\\adebaba01   C  23  MIA  ...  1.2  1.0  2.6  2.3  18.7\n",
              "5      5  LaMarcus Aldridge\\aldrila01   C  35  TOT  ...  0.4  1.1  1.0  1.8  13.5\n",
              "..   ...                          ...  ..  ..  ...  ...  ...  ...  ...  ...   ...\n",
              "701  536       Delon Wright\\wrighde01  PG  28  SAC  ...  1.6  0.4  1.3  1.1  10.0\n",
              "702  537     Thaddeus Young\\youngth01  PF  32  CHI  ...  1.1  0.6  2.0  2.2  12.1\n",
              "703  538         Trae Young\\youngtr01  PG  22  ATL  ...  0.8  0.2  4.1  1.8  25.3\n",
              "704  539        Cody Zeller\\zelleco01   C  28  CHO  ...  0.6  0.4  1.1  2.5   9.4\n",
              "705  540        Ivica Zubac\\zubaciv01   C  23  LAC  ...  0.3  0.9  1.1  2.6   9.0\n",
              "\n",
              "[705 rows x 30 columns]"
            ]
          },
          "metadata": {},
          "execution_count": 41
        }
      ]
    },
    {
      "cell_type": "code",
      "metadata": {
        "colab": {
          "base_uri": "https://localhost:8080/"
        },
        "id": "xR4CZaa_GL2w",
        "outputId": "1dcedf4a-3a80-49d9-af5e-caf24decd79c"
      },
      "source": [
        "df.Pos.unique()"
      ],
      "execution_count": null,
      "outputs": [
        {
          "output_type": "execute_result",
          "data": {
            "text/plain": [
              "array(['PF', 'PG', 'C', 'SG', 'SF', 'SF-PF', 'SG-SF', 'SF-SG', 'PF-C',\n",
              "       'SG-PG', 'PG-SG', 'PF-SF', 'C-PF'], dtype=object)"
            ]
          },
          "metadata": {},
          "execution_count": 23
        }
      ]
    },
    {
      "cell_type": "markdown",
      "metadata": {
        "id": "yY5o5uElLqb5"
      },
      "source": [
        "## Reading in game schedule and outcome data\n",
        "\n",
        "https://www.basketball-reference.com/leagues/NBA_2021_games-february.html"
      ]
    },
    {
      "cell_type": "code",
      "metadata": {
        "id": "lR_9fvMEGZK9"
      },
      "source": [
        "path = '/content/drive/Shareddrives/CS 584/notebooks/2021_feb_games.txt'\n",
        "data = []\n",
        "with open(path, newline='') as f:\n",
        "    reader = csv.reader(f)\n",
        "    data = list(reader)"
      ],
      "execution_count": null,
      "outputs": []
    },
    {
      "cell_type": "code",
      "metadata": {
        "colab": {
          "base_uri": "https://localhost:8080/"
        },
        "id": "BpA3lAclMsFa",
        "outputId": "c26a9cd0-d02d-48e5-f6bb-51adf1a7f9d8"
      },
      "source": [
        "data[0]"
      ],
      "execution_count": null,
      "outputs": [
        {
          "output_type": "execute_result",
          "data": {
            "text/plain": [
              "['Date',\n",
              " 'Start (ET)',\n",
              " 'Visitor/Neutral',\n",
              " 'PTS',\n",
              " 'Home/Neutral',\n",
              " 'PTS',\n",
              " '',\n",
              " '',\n",
              " 'Attend.',\n",
              " 'Notes']"
            ]
          },
          "metadata": {},
          "execution_count": 17
        }
      ]
    },
    {
      "cell_type": "markdown",
      "metadata": {
        "id": "-kr0OfftFT7V"
      },
      "source": [
        "In the original website, there are columns with no values in order to improve readability, so they have to be removed here."
      ]
    },
    {
      "cell_type": "code",
      "metadata": {
        "id": "Uf4xEQjJMtx4"
      },
      "source": [
        "df_outcomes = pd.DataFrame(columns=data[0])"
      ],
      "execution_count": null,
      "outputs": []
    },
    {
      "cell_type": "code",
      "metadata": {
        "id": "SiP9ie1tN8eY"
      },
      "source": [
        "num_rows = len(data)\n",
        "for i in range(1, num_rows):\n",
        "  df_outcomes.loc[i] = data[i]"
      ],
      "execution_count": null,
      "outputs": []
    },
    {
      "cell_type": "code",
      "metadata": {
        "id": "fspN_dPFNr8U"
      },
      "source": [
        "df_outcomes = df_outcomes.drop(columns=[\"\"])"
      ],
      "execution_count": null,
      "outputs": []
    },
    {
      "cell_type": "code",
      "metadata": {
        "colab": {
          "base_uri": "https://localhost:8080/",
          "height": 602
        },
        "id": "eb4uj6wwN2ZA",
        "outputId": "ba937d9a-ec03-4ead-b592-4124954cdbe6"
      },
      "source": [
        "df_outcomes"
      ],
      "execution_count": null,
      "outputs": [
        {
          "output_type": "execute_result",
          "data": {
            "text/html": [
              "<div>\n",
              "<style scoped>\n",
              "    .dataframe tbody tr th:only-of-type {\n",
              "        vertical-align: middle;\n",
              "    }\n",
              "\n",
              "    .dataframe tbody tr th {\n",
              "        vertical-align: top;\n",
              "    }\n",
              "\n",
              "    .dataframe thead th {\n",
              "        text-align: right;\n",
              "    }\n",
              "</style>\n",
              "<table border=\"1\" class=\"dataframe\">\n",
              "  <thead>\n",
              "    <tr style=\"text-align: right;\">\n",
              "      <th></th>\n",
              "      <th>Date</th>\n",
              "      <th>Start (ET)</th>\n",
              "      <th>Visitor/Neutral</th>\n",
              "      <th>PTS</th>\n",
              "      <th>Home/Neutral</th>\n",
              "      <th>PTS</th>\n",
              "      <th>Attend.</th>\n",
              "      <th>Notes</th>\n",
              "    </tr>\n",
              "  </thead>\n",
              "  <tbody>\n",
              "    <tr>\n",
              "      <th>1</th>\n",
              "      <td>Mon Feb 1 2021</td>\n",
              "      <td>7:30p</td>\n",
              "      <td>Los Angeles Lakers</td>\n",
              "      <td>107</td>\n",
              "      <td>Atlanta Hawks</td>\n",
              "      <td>99</td>\n",
              "      <td>1341</td>\n",
              "      <td></td>\n",
              "    </tr>\n",
              "    <tr>\n",
              "      <th>2</th>\n",
              "      <td>Mon Feb 1 2021</td>\n",
              "      <td>7:30p</td>\n",
              "      <td>Charlotte Hornets</td>\n",
              "      <td>129</td>\n",
              "      <td>Miami Heat</td>\n",
              "      <td>121</td>\n",
              "      <td>0</td>\n",
              "      <td></td>\n",
              "    </tr>\n",
              "    <tr>\n",
              "      <th>3</th>\n",
              "      <td>Mon Feb 1 2021</td>\n",
              "      <td>8:00p</td>\n",
              "      <td>New York Knicks</td>\n",
              "      <td>102</td>\n",
              "      <td>Chicago Bulls</td>\n",
              "      <td>110</td>\n",
              "      <td>0</td>\n",
              "      <td></td>\n",
              "    </tr>\n",
              "    <tr>\n",
              "      <th>4</th>\n",
              "      <td>Mon Feb 1 2021</td>\n",
              "      <td>8:00p</td>\n",
              "      <td>Minnesota Timberwolves</td>\n",
              "      <td>98</td>\n",
              "      <td>Cleveland Cavaliers</td>\n",
              "      <td>100</td>\n",
              "      <td>0</td>\n",
              "      <td></td>\n",
              "    </tr>\n",
              "    <tr>\n",
              "      <th>5</th>\n",
              "      <td>Mon Feb 1 2021</td>\n",
              "      <td>8:00p</td>\n",
              "      <td>Portland Trail Blazers</td>\n",
              "      <td>106</td>\n",
              "      <td>Milwaukee Bucks</td>\n",
              "      <td>134</td>\n",
              "      <td>0</td>\n",
              "      <td></td>\n",
              "    </tr>\n",
              "    <tr>\n",
              "      <th>...</th>\n",
              "      <td>...</td>\n",
              "      <td>...</td>\n",
              "      <td>...</td>\n",
              "      <td>...</td>\n",
              "      <td>...</td>\n",
              "      <td>...</td>\n",
              "      <td>...</td>\n",
              "      <td>...</td>\n",
              "    </tr>\n",
              "    <tr>\n",
              "      <th>208</th>\n",
              "      <td>Sun Feb 28 2021</td>\n",
              "      <td>8:00p</td>\n",
              "      <td>Memphis Grizzlies</td>\n",
              "      <td>133</td>\n",
              "      <td>Houston Rockets</td>\n",
              "      <td>84</td>\n",
              "      <td>3284</td>\n",
              "      <td></td>\n",
              "    </tr>\n",
              "    <tr>\n",
              "      <th>209</th>\n",
              "      <td>Sun Feb 28 2021</td>\n",
              "      <td>8:00p</td>\n",
              "      <td>Golden State Warriors</td>\n",
              "      <td>91</td>\n",
              "      <td>Los Angeles Lakers</td>\n",
              "      <td>117</td>\n",
              "      <td>0</td>\n",
              "      <td></td>\n",
              "    </tr>\n",
              "    <tr>\n",
              "      <th>210</th>\n",
              "      <td>Sun Feb 28 2021</td>\n",
              "      <td>8:00p</td>\n",
              "      <td>Atlanta Hawks</td>\n",
              "      <td>99</td>\n",
              "      <td>Miami Heat</td>\n",
              "      <td>109</td>\n",
              "      <td>0</td>\n",
              "      <td></td>\n",
              "    </tr>\n",
              "    <tr>\n",
              "      <th>211</th>\n",
              "      <td>Sun Feb 28 2021</td>\n",
              "      <td>9:00p</td>\n",
              "      <td>Phoenix Suns</td>\n",
              "      <td>118</td>\n",
              "      <td>Minnesota Timberwolves</td>\n",
              "      <td>99</td>\n",
              "      <td>0</td>\n",
              "      <td></td>\n",
              "    </tr>\n",
              "    <tr>\n",
              "      <th>212</th>\n",
              "      <td>Sun Feb 28 2021</td>\n",
              "      <td>10:00p</td>\n",
              "      <td>Charlotte Hornets</td>\n",
              "      <td>127</td>\n",
              "      <td>Sacramento Kings</td>\n",
              "      <td>126</td>\n",
              "      <td>0</td>\n",
              "      <td></td>\n",
              "    </tr>\n",
              "  </tbody>\n",
              "</table>\n",
              "<p>212 rows × 8 columns</p>\n",
              "</div>"
            ],
            "text/plain": [
              "                Date Start (ET)         Visitor/Neutral  ...  PTS Attend. Notes\n",
              "1     Mon Feb 1 2021      7:30p      Los Angeles Lakers  ...   99    1341      \n",
              "2     Mon Feb 1 2021      7:30p       Charlotte Hornets  ...  121       0      \n",
              "3     Mon Feb 1 2021      8:00p         New York Knicks  ...  110       0      \n",
              "4     Mon Feb 1 2021      8:00p  Minnesota Timberwolves  ...  100       0      \n",
              "5     Mon Feb 1 2021      8:00p  Portland Trail Blazers  ...  134       0      \n",
              "..               ...        ...                     ...  ...  ...     ...   ...\n",
              "208  Sun Feb 28 2021      8:00p       Memphis Grizzlies  ...   84    3284      \n",
              "209  Sun Feb 28 2021      8:00p   Golden State Warriors  ...  117       0      \n",
              "210  Sun Feb 28 2021      8:00p           Atlanta Hawks  ...  109       0      \n",
              "211  Sun Feb 28 2021      9:00p            Phoenix Suns  ...   99       0      \n",
              "212  Sun Feb 28 2021     10:00p       Charlotte Hornets  ...  126       0      \n",
              "\n",
              "[212 rows x 8 columns]"
            ]
          },
          "metadata": {},
          "execution_count": 21
        }
      ]
    },
    {
      "cell_type": "markdown",
      "metadata": {
        "id": "Aem3A6uYOTT1"
      },
      "source": [
        "### Todo\n",
        "Something we should do is make a new column to have the win/loss result.\n",
        "\n",
        "We also have to make a table to map the full team names to the abbreviated team names in the per game player data."
      ]
    },
    {
      "cell_type": "code",
      "metadata": {
        "id": "YSXsVdTjOIcK"
      },
      "source": [
        ""
      ],
      "execution_count": null,
      "outputs": []
    }
  ]
}